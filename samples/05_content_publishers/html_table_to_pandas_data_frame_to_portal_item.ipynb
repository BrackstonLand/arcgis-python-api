{
 "cells": [
  {
   "cell_type": "markdown",
   "metadata": {},
   "source": [
    "# HTML table to Pandas Data Frame to Portal Item"
   ]
  },
  {
   "cell_type": "markdown",
   "metadata": {
    "toc": true
   },
   "source": [
    "<h1>Table of Contents<span class=\"tocSkip\"></span></h1>\n",
    "<div class=\"toc\"><ul class=\"toc-item\"><li><span><a href=\"#Read-HTML-table-to-Pandas-Data-Frame\" data-toc-modified-id=\"Read-HTML-table-to-Pandas-Data-Frame-1\">Read HTML table to Pandas Data Frame</a></span></li><li><span><a href=\"#Plot-as-a-map\" data-toc-modified-id=\"Plot-as-a-map-2\">Plot as a map</a></span></li><li><span><a href=\"#Publish-as-Portal-Item\" data-toc-modified-id=\"Publish-as-Portal-Item-3\">Publish as Portal Item</a></span></li></ul></div>"
   ]
  },
  {
   "cell_type": "markdown",
   "metadata": {},
   "source": [
    "## Read HTML table to Pandas Data Frame\n",
    "\n",
    "Often we read informative articles that present data in a tabular form. If such data contains location information, it would be much more insightful if presented as a cartographic map. Thus this sample shows how Pandas can be used to extract data from a table within a web page (in this case, a Wikipedia article) and how it can be then brought into the GIS for further analysis and visualization.\n",
    "\n",
    "**Note**: to run this sample, you need a few extra libraries in your conda environment. If you don't have the libraries, install them by running the following commands from cmd.exe or your shell\n",
    "\n",
    "```\n",
    "conda install lxml\n",
    "conda install html5lib\n",
    "conda install beautifulsoup4\n",
    "conda install matplotlib```"
   ]
  },
  {
   "cell_type": "code",
   "execution_count": 1,
   "metadata": {},
   "outputs": [
    {
     "name": "stdout",
     "output_type": "stream",
     "text": [
      "Intel MKL WARNING: Support of Intel(R) Streaming SIMD Extensions 4.2 (Intel(R) SSE4.2) enabled only processors has been deprecated. Intel oneAPI Math Kernel Library 2025.0 will require Intel(R) Advanced Vector Extensions (Intel(R) AVX) instructions.\n",
      "Intel MKL WARNING: Support of Intel(R) Streaming SIMD Extensions 4.2 (Intel(R) SSE4.2) enabled only processors has been deprecated. Intel oneAPI Math Kernel Library 2025.0 will require Intel(R) Advanced Vector Extensions (Intel(R) AVX) instructions.\n"
     ]
    }
   ],
   "source": [
    "import pandas as pd"
   ]
  },
  {
   "cell_type": "markdown",
   "metadata": {},
   "source": [
    "Let us read the Wikipedia article on [Estimated number of guns per capita by country](https://en.wikipedia.org/wiki/Number_of_guns_per_capita_by_country) as a pandas data frame object"
   ]
  },
  {
   "cell_type": "code",
   "execution_count": 2,
   "metadata": {},
   "outputs": [],
   "source": [
    "df = pd.read_html(\"https://en.wikipedia.org/wiki/Number_of_guns_per_capita_by_country\")[0]"
   ]
  },
  {
   "cell_type": "markdown",
   "metadata": {},
   "source": [
    "Let us process the table by dropping some unncessary columns"
   ]
  },
  {
   "cell_type": "code",
   "execution_count": 3,
   "metadata": {},
   "outputs": [
    {
     "data": {
      "text/html": [
       "<div>\n",
       "<style scoped>\n",
       "    .dataframe tbody tr th:only-of-type {\n",
       "        vertical-align: middle;\n",
       "    }\n",
       "\n",
       "    .dataframe tbody tr th {\n",
       "        vertical-align: top;\n",
       "    }\n",
       "\n",
       "    .dataframe thead th {\n",
       "        text-align: right;\n",
       "    }\n",
       "</style>\n",
       "<table border=\"1\" class=\"dataframe\">\n",
       "  <thead>\n",
       "    <tr style=\"text-align: right;\">\n",
       "      <th></th>\n",
       "      <th>Unnamed: 0</th>\n",
       "      <th>Country or subnational area</th>\n",
       "      <th>Estimate of civilian firearms per 100 persons</th>\n",
       "      <th>Region[3]</th>\n",
       "      <th>Subregion[3]</th>\n",
       "      <th>Population 2017</th>\n",
       "      <th>Estimate of firearms in civilian possession</th>\n",
       "      <th>Computation method</th>\n",
       "      <th>Registered firearms</th>\n",
       "      <th>Unregistered firearms</th>\n",
       "      <th>Notes</th>\n",
       "    </tr>\n",
       "  </thead>\n",
       "  <tbody>\n",
       "    <tr>\n",
       "      <th>0</th>\n",
       "      <td>NaN</td>\n",
       "      <td>NaN</td>\n",
       "      <td>NaN</td>\n",
       "      <td>NaN</td>\n",
       "      <td>NaN</td>\n",
       "      <td>NaN</td>\n",
       "      <td>NaN</td>\n",
       "      <td>NaN</td>\n",
       "      <td>NaN</td>\n",
       "      <td>NaN</td>\n",
       "      <td>NaN</td>\n",
       "    </tr>\n",
       "    <tr>\n",
       "      <th>1</th>\n",
       "      <td>1.0</td>\n",
       "      <td>United States</td>\n",
       "      <td>120.5</td>\n",
       "      <td>Americas</td>\n",
       "      <td>North America</td>\n",
       "      <td>326474000.0</td>\n",
       "      <td>393347000</td>\n",
       "      <td>1.0</td>\n",
       "      <td>1073743.0</td>\n",
       "      <td>392,273,257 Est.</td>\n",
       "      <td>[note 2]</td>\n",
       "    </tr>\n",
       "    <tr>\n",
       "      <th>2</th>\n",
       "      <td>2.0</td>\n",
       "      <td>Falkland Islands</td>\n",
       "      <td>62.1</td>\n",
       "      <td>Americas</td>\n",
       "      <td>South America</td>\n",
       "      <td>3000.0</td>\n",
       "      <td>2000</td>\n",
       "      <td>2.0</td>\n",
       "      <td>1705.0</td>\n",
       "      <td>295</td>\n",
       "      <td>NaN</td>\n",
       "    </tr>\n",
       "    <tr>\n",
       "      <th>3</th>\n",
       "      <td>3.0</td>\n",
       "      <td>Yemen</td>\n",
       "      <td>52.8</td>\n",
       "      <td>Asia</td>\n",
       "      <td>Western Asia</td>\n",
       "      <td>28120000.0</td>\n",
       "      <td>14859000</td>\n",
       "      <td>2.0</td>\n",
       "      <td>NaN</td>\n",
       "      <td>NaN</td>\n",
       "      <td>NaN</td>\n",
       "    </tr>\n",
       "    <tr>\n",
       "      <th>4</th>\n",
       "      <td>4.0</td>\n",
       "      <td>New Caledonia</td>\n",
       "      <td>42.5</td>\n",
       "      <td>Oceania</td>\n",
       "      <td>Melanesia</td>\n",
       "      <td>270000.0</td>\n",
       "      <td>115000</td>\n",
       "      <td>2.0</td>\n",
       "      <td>55000.0</td>\n",
       "      <td>60000</td>\n",
       "      <td>NaN</td>\n",
       "    </tr>\n",
       "  </tbody>\n",
       "</table>\n",
       "</div>"
      ],
      "text/plain": [
       "   Unnamed: 0 Country or subnational area  \\\n",
       "0         NaN                         NaN   \n",
       "1         1.0               United States   \n",
       "2         2.0            Falkland Islands   \n",
       "3         3.0                       Yemen   \n",
       "4         4.0               New Caledonia   \n",
       "\n",
       "   Estimate of civilian firearms per 100 persons Region[3]   Subregion[3]  \\\n",
       "0                                            NaN       NaN            NaN   \n",
       "1                                          120.5  Americas  North America   \n",
       "2                                           62.1  Americas  South America   \n",
       "3                                           52.8      Asia   Western Asia   \n",
       "4                                           42.5   Oceania      Melanesia   \n",
       "\n",
       "   Population 2017 Estimate of firearms in civilian possession  \\\n",
       "0              NaN                                         NaN   \n",
       "1      326474000.0                                   393347000   \n",
       "2           3000.0                                        2000   \n",
       "3       28120000.0                                    14859000   \n",
       "4         270000.0                                      115000   \n",
       "\n",
       "   Computation method  Registered firearms Unregistered firearms     Notes  \n",
       "0                 NaN                  NaN                   NaN       NaN  \n",
       "1                 1.0            1073743.0      392,273,257 Est.  [note 2]  \n",
       "2                 2.0               1705.0                   295       NaN  \n",
       "3                 2.0                  NaN                   NaN       NaN  \n",
       "4                 2.0              55000.0                 60000       NaN  "
      ]
     },
     "execution_count": 3,
     "metadata": {},
     "output_type": "execute_result"
    }
   ],
   "source": [
    "df.head()"
   ]
  },
  {
   "cell_type": "code",
   "execution_count": 4,
   "metadata": {},
   "outputs": [],
   "source": [
    "df.dropna(thresh=4, inplace=True)"
   ]
  },
  {
   "cell_type": "code",
   "execution_count": 5,
   "metadata": {},
   "outputs": [],
   "source": [
    "del df['Unnamed: 0']\n",
    "del df['Notes']"
   ]
  },
  {
   "cell_type": "code",
   "execution_count": 6,
   "metadata": {},
   "outputs": [
    {
     "data": {
      "text/html": [
       "<div>\n",
       "<style scoped>\n",
       "    .dataframe tbody tr th:only-of-type {\n",
       "        vertical-align: middle;\n",
       "    }\n",
       "\n",
       "    .dataframe tbody tr th {\n",
       "        vertical-align: top;\n",
       "    }\n",
       "\n",
       "    .dataframe thead th {\n",
       "        text-align: right;\n",
       "    }\n",
       "</style>\n",
       "<table border=\"1\" class=\"dataframe\">\n",
       "  <thead>\n",
       "    <tr style=\"text-align: right;\">\n",
       "      <th></th>\n",
       "      <th>Country or subnational area</th>\n",
       "      <th>Estimate of civilian firearms per 100 persons</th>\n",
       "      <th>Region[3]</th>\n",
       "      <th>Subregion[3]</th>\n",
       "      <th>Population 2017</th>\n",
       "      <th>Estimate of firearms in civilian possession</th>\n",
       "      <th>Computation method</th>\n",
       "      <th>Registered firearms</th>\n",
       "      <th>Unregistered firearms</th>\n",
       "    </tr>\n",
       "  </thead>\n",
       "  <tbody>\n",
       "    <tr>\n",
       "      <th>1</th>\n",
       "      <td>United States</td>\n",
       "      <td>120.5</td>\n",
       "      <td>Americas</td>\n",
       "      <td>North America</td>\n",
       "      <td>326474000.0</td>\n",
       "      <td>393347000</td>\n",
       "      <td>1.0</td>\n",
       "      <td>1073743.0</td>\n",
       "      <td>392,273,257 Est.</td>\n",
       "    </tr>\n",
       "    <tr>\n",
       "      <th>2</th>\n",
       "      <td>Falkland Islands</td>\n",
       "      <td>62.1</td>\n",
       "      <td>Americas</td>\n",
       "      <td>South America</td>\n",
       "      <td>3000.0</td>\n",
       "      <td>2000</td>\n",
       "      <td>2.0</td>\n",
       "      <td>1705.0</td>\n",
       "      <td>295</td>\n",
       "    </tr>\n",
       "    <tr>\n",
       "      <th>3</th>\n",
       "      <td>Yemen</td>\n",
       "      <td>52.8</td>\n",
       "      <td>Asia</td>\n",
       "      <td>Western Asia</td>\n",
       "      <td>28120000.0</td>\n",
       "      <td>14859000</td>\n",
       "      <td>2.0</td>\n",
       "      <td>NaN</td>\n",
       "      <td>NaN</td>\n",
       "    </tr>\n",
       "    <tr>\n",
       "      <th>4</th>\n",
       "      <td>New Caledonia</td>\n",
       "      <td>42.5</td>\n",
       "      <td>Oceania</td>\n",
       "      <td>Melanesia</td>\n",
       "      <td>270000.0</td>\n",
       "      <td>115000</td>\n",
       "      <td>2.0</td>\n",
       "      <td>55000.0</td>\n",
       "      <td>60000</td>\n",
       "    </tr>\n",
       "    <tr>\n",
       "      <th>5</th>\n",
       "      <td>Serbia</td>\n",
       "      <td>39.1</td>\n",
       "      <td>Europe</td>\n",
       "      <td>Southern Europe</td>\n",
       "      <td>6946000.0</td>\n",
       "      <td>2719000</td>\n",
       "      <td>2.0</td>\n",
       "      <td>1186086.0</td>\n",
       "      <td>1532914</td>\n",
       "    </tr>\n",
       "  </tbody>\n",
       "</table>\n",
       "</div>"
      ],
      "text/plain": [
       "  Country or subnational area  Estimate of civilian firearms per 100 persons  \\\n",
       "1               United States                                          120.5   \n",
       "2            Falkland Islands                                           62.1   \n",
       "3                       Yemen                                           52.8   \n",
       "4               New Caledonia                                           42.5   \n",
       "5                      Serbia                                           39.1   \n",
       "\n",
       "  Region[3]     Subregion[3]  Population 2017  \\\n",
       "1  Americas    North America      326474000.0   \n",
       "2  Americas    South America           3000.0   \n",
       "3      Asia     Western Asia       28120000.0   \n",
       "4   Oceania        Melanesia         270000.0   \n",
       "5    Europe  Southern Europe        6946000.0   \n",
       "\n",
       "  Estimate of firearms in civilian possession  Computation method  \\\n",
       "1                                   393347000                 1.0   \n",
       "2                                        2000                 2.0   \n",
       "3                                    14859000                 2.0   \n",
       "4                                      115000                 2.0   \n",
       "5                                     2719000                 2.0   \n",
       "\n",
       "   Registered firearms Unregistered firearms  \n",
       "1            1073743.0      392,273,257 Est.  \n",
       "2               1705.0                   295  \n",
       "3                  NaN                   NaN  \n",
       "4              55000.0                 60000  \n",
       "5            1186086.0               1532914  "
      ]
     },
     "execution_count": 6,
     "metadata": {},
     "output_type": "execute_result"
    }
   ],
   "source": [
    "df.head()"
   ]
  },
  {
   "cell_type": "markdown",
   "metadata": {},
   "source": [
    "If you notice, the `Estimate of civilian firearms per 100 persons` for United States is not a proper integer. We can correct is as below"
   ]
  },
  {
   "cell_type": "markdown",
   "metadata": {},
   "source": [
    "However, we cannot change every incorrect data entry if the table is large. Further we need the `Estimate of civilian firearms per 100 persons` column in numeric format. Hence let us convert it and while doing so, convert incorrect values to `NaN` which stands for Not a Number"
   ]
  },
  {
   "cell_type": "code",
   "execution_count": null,
   "metadata": {},
   "outputs": [],
   "source": [
    "converted_column = pd.to_numeric(df[\"Estimate of civilian firearms per 100 persons\"], errors = 'coerce')\n",
    "df['Estimate of civilian firearms per 100 persons'] = converted_column\n",
    "df.head()"
   ]
  },
  {
   "cell_type": "code",
   "execution_count": 7,
   "metadata": {},
   "outputs": [],
   "source": [
    "df.rename(columns={\"Region[3]\":\"Region\",\"Subregion[3]\":\"Subregion\"}, inplace=True)"
   ]
  },
  {
   "cell_type": "code",
   "execution_count": 8,
   "metadata": {},
   "outputs": [],
   "source": [
    "df.columns = df.columns.str.replace(\" \", \"_\")"
   ]
  },
  {
   "cell_type": "code",
   "execution_count": 9,
   "metadata": {},
   "outputs": [
    {
     "data": {
      "text/html": [
       "<div>\n",
       "<style scoped>\n",
       "    .dataframe tbody tr th:only-of-type {\n",
       "        vertical-align: middle;\n",
       "    }\n",
       "\n",
       "    .dataframe tbody tr th {\n",
       "        vertical-align: top;\n",
       "    }\n",
       "\n",
       "    .dataframe thead th {\n",
       "        text-align: right;\n",
       "    }\n",
       "</style>\n",
       "<table border=\"1\" class=\"dataframe\">\n",
       "  <thead>\n",
       "    <tr style=\"text-align: right;\">\n",
       "      <th></th>\n",
       "      <th>Country_or_subnational_area</th>\n",
       "      <th>Estimate_of_civilian_firearms_per_100_persons</th>\n",
       "      <th>Region</th>\n",
       "      <th>Subregion</th>\n",
       "      <th>Population_2017</th>\n",
       "      <th>Estimate_of_firearms_in_civilian_possession</th>\n",
       "      <th>Computation_method</th>\n",
       "      <th>Registered_firearms</th>\n",
       "      <th>Unregistered_firearms</th>\n",
       "    </tr>\n",
       "  </thead>\n",
       "  <tbody>\n",
       "    <tr>\n",
       "      <th>1</th>\n",
       "      <td>United States</td>\n",
       "      <td>120.5</td>\n",
       "      <td>Americas</td>\n",
       "      <td>North America</td>\n",
       "      <td>326474000.0</td>\n",
       "      <td>393347000</td>\n",
       "      <td>1.0</td>\n",
       "      <td>1073743.0</td>\n",
       "      <td>392,273,257 Est.</td>\n",
       "    </tr>\n",
       "    <tr>\n",
       "      <th>2</th>\n",
       "      <td>Falkland Islands</td>\n",
       "      <td>62.1</td>\n",
       "      <td>Americas</td>\n",
       "      <td>South America</td>\n",
       "      <td>3000.0</td>\n",
       "      <td>2000</td>\n",
       "      <td>2.0</td>\n",
       "      <td>1705.0</td>\n",
       "      <td>295</td>\n",
       "    </tr>\n",
       "    <tr>\n",
       "      <th>3</th>\n",
       "      <td>Yemen</td>\n",
       "      <td>52.8</td>\n",
       "      <td>Asia</td>\n",
       "      <td>Western Asia</td>\n",
       "      <td>28120000.0</td>\n",
       "      <td>14859000</td>\n",
       "      <td>2.0</td>\n",
       "      <td>NaN</td>\n",
       "      <td>NaN</td>\n",
       "    </tr>\n",
       "    <tr>\n",
       "      <th>4</th>\n",
       "      <td>New Caledonia</td>\n",
       "      <td>42.5</td>\n",
       "      <td>Oceania</td>\n",
       "      <td>Melanesia</td>\n",
       "      <td>270000.0</td>\n",
       "      <td>115000</td>\n",
       "      <td>2.0</td>\n",
       "      <td>55000.0</td>\n",
       "      <td>60000</td>\n",
       "    </tr>\n",
       "    <tr>\n",
       "      <th>5</th>\n",
       "      <td>Serbia</td>\n",
       "      <td>39.1</td>\n",
       "      <td>Europe</td>\n",
       "      <td>Southern Europe</td>\n",
       "      <td>6946000.0</td>\n",
       "      <td>2719000</td>\n",
       "      <td>2.0</td>\n",
       "      <td>1186086.0</td>\n",
       "      <td>1532914</td>\n",
       "    </tr>\n",
       "  </tbody>\n",
       "</table>\n",
       "</div>"
      ],
      "text/plain": [
       "  Country_or_subnational_area  Estimate_of_civilian_firearms_per_100_persons  \\\n",
       "1               United States                                          120.5   \n",
       "2            Falkland Islands                                           62.1   \n",
       "3                       Yemen                                           52.8   \n",
       "4               New Caledonia                                           42.5   \n",
       "5                      Serbia                                           39.1   \n",
       "\n",
       "     Region        Subregion  Population_2017  \\\n",
       "1  Americas    North America      326474000.0   \n",
       "2  Americas    South America           3000.0   \n",
       "3      Asia     Western Asia       28120000.0   \n",
       "4   Oceania        Melanesia         270000.0   \n",
       "5    Europe  Southern Europe        6946000.0   \n",
       "\n",
       "  Estimate_of_firearms_in_civilian_possession  Computation_method  \\\n",
       "1                                   393347000                 1.0   \n",
       "2                                        2000                 2.0   \n",
       "3                                    14859000                 2.0   \n",
       "4                                      115000                 2.0   \n",
       "5                                     2719000                 2.0   \n",
       "\n",
       "   Registered_firearms Unregistered_firearms  \n",
       "1            1073743.0      392,273,257 Est.  \n",
       "2               1705.0                   295  \n",
       "3                  NaN                   NaN  \n",
       "4              55000.0                 60000  \n",
       "5            1186086.0               1532914  "
      ]
     },
     "execution_count": 9,
     "metadata": {},
     "output_type": "execute_result"
    }
   ],
   "source": [
    "df.head()"
   ]
  },
  {
   "cell_type": "code",
   "execution_count": 31,
   "metadata": {},
   "outputs": [
    {
     "name": "stderr",
     "output_type": "stream",
     "text": [
      "Setting `verify_cert` to False is a security risk, use at your own risk.\n"
     ]
    }
   ],
   "source": [
    "gis = GIS(profile=\"your_online_admin_profile\", verify_cert=False)"
   ]
  },
  {
   "cell_type": "code",
   "execution_count": 36,
   "metadata": {},
   "outputs": [],
   "source": [
    "dpath = r\"/Users/john3092/Job/\"\n",
    "\n",
    "df.to_csv(path_or_buf=dpath + \"worldwide_gun_ownwership_df.csv\", index=False)"
   ]
  },
  {
   "cell_type": "markdown",
   "metadata": {},
   "source": [
    "## Plot as a map\n",
    "Let us connect to our GIS to geocode this data and present it as a map, either by specifying username and password, e.g. in `gis = GIS(\"https://www.arcgis.com\", \"arcgis_python\", \"P@ssword123\")` or via an existing profile:"
   ]
  },
  {
   "cell_type": "code",
   "execution_count": 10,
   "metadata": {},
   "outputs": [
    {
     "name": "stderr",
     "output_type": "stream",
     "text": [
      "Setting `verify_cert` to False is a security risk, use at your own risk.\n"
     ]
    }
   ],
   "source": [
    "from arcgis.gis import GIS\n",
    "import json\n",
    "\n",
    "#gis = GIS(\"home\")\n",
    "gis = GIS(profile=\"your_online_profile\", verify_cert=False)"
   ]
  },
  {
   "cell_type": "markdown",
   "metadata": {},
   "source": [
    "Since the table is now using `Country (or dependent territory, subnational area, etc.)` column to signify the country code, which represents as `Country__or_dependent_territory__subnational_area__etc__` as the real column name of the table, the mapping relationship is stated as below:"
   ]
  },
  {
   "cell_type": "code",
   "execution_count": 11,
   "metadata": {},
   "outputs": [],
   "source": [
    "fc = gis.content.import_data(df, {\"CountryCode\":\"Country_or_subnational_area\"})"
   ]
  },
  {
   "cell_type": "code",
   "execution_count": 12,
   "metadata": {},
   "outputs": [],
   "source": [
    "map1 = gis.map('UK')"
   ]
  },
  {
   "cell_type": "code",
   "execution_count": 13,
   "metadata": {},
   "outputs": [
    {
     "data": {
      "application/vnd.jupyter.widget-view+json": {
       "model_id": "8de07fee1df14a54a872caa3994c777e",
       "version_major": 2,
       "version_minor": 0
      },
      "text/plain": [
       "MapView(layout=Layout(height='400px', width='100%'))"
      ]
     },
     "metadata": {},
     "output_type": "display_data"
    },
    {
     "data": {
      "text/html": [
       "<div class=\"map-static-img-preview-dffbcba1-3d35-4b4b-acef-ecf4b303398e\"><img src=\"\"></img></div>"
      ],
      "text/plain": [
       "<IPython.core.display.HTML object>"
      ]
     },
     "metadata": {},
     "output_type": "display_data"
    },
    {
     "data": {
      "text/html": [
       "<div class=\"map-html-embed-preview-dffbcba1-3d35-4b4b-acef-ecf4b303398e\"></div>"
      ],
      "text/plain": [
       "<IPython.core.display.HTML object>"
      ]
     },
     "metadata": {},
     "output_type": "display_data"
    }
   ],
   "source": [
    "map1"
   ]
  },
  {
   "cell_type": "markdown",
   "metadata": {},
   "source": [
    "![image](https://user-images.githubusercontent.com/13968196/232166696-5233193c-8f65-445b-be5c-072c5acce1cd.png)\n",
    "\n"
   ]
  },
  {
   "cell_type": "markdown",
   "metadata": {},
   "source": [
    "Let us us smart mapping to render the points with varying sizes representing the number of firearms per 100 residents"
   ]
  },
  {
   "cell_type": "code",
   "execution_count": 14,
   "metadata": {},
   "outputs": [],
   "source": [
    "map1.add_layer(fc, {\"renderer\":\"ClassedSizeRenderer\",\n",
    "                    \"field_name\": \"Estimate_of_civilian_firearms_per_100_persons\"})"
   ]
  },
  {
   "cell_type": "markdown",
   "metadata": {},
   "source": [
    "## Publish as Portal Item\n",
    "\n",
    "Let us publish this layer as a **feature collection** item in our GIS"
   ]
  },
  {
   "cell_type": "code",
   "execution_count": 15,
   "metadata": {},
   "outputs": [],
   "source": [
    "item_properties = {\n",
    "    \"title\": \"Worldwide Firearms ownership API\",\n",
    "    \"tags\" : \"guns,violence\",\n",
    "    \"snippet\": \" GSR Worldwide firearms ownership\",\n",
    "    \"description\": \"test description\",\n",
    "    \"text\": json.dumps({\"layers\": [dict(fc.layer)]}),\n",
    "    \"type\": \"Feature Collection\",\n",
    "    \"typeKeywords\": \"Data, Feature Collection, Singlelayer\",\n",
    "    \"extent\" : \"-102.5272,-41.7886,172.5967,64.984\"\n",
    "}\n",
    "\n",
    "item = gis.content.add(item_properties)"
   ]
  },
  {
   "cell_type": "code",
   "execution_count": 16,
   "metadata": {},
   "outputs": [
    {
     "data": {
      "text/html": [
       "<div class=\"item_container\" style=\"height: auto; overflow: hidden; border: 1px solid #cfcfcf; border-radius: 2px; background: #f6fafa; line-height: 1.21429em; padding: 10px;\">\n",
       "                    <div class=\"item_left\" style=\"width: 210px; float: left;\">\n",
       "                       <a href='https://geosaurus.maps.arcgis.com/home/item.html?id=a33eeceb281647ecb13c7427d2f48f01' target='_blank'>\n",
       "                        <img src='http://static.arcgis.com/images/desktopapp.png' class=\"itemThumbnail\">\n",
       "                       </a>\n",
       "                    </div>\n",
       "\n",
       "                    <div class=\"item_right\"     style=\"float: none; width: auto; overflow: hidden;\">\n",
       "                        <a href='https://geosaurus.maps.arcgis.com/home/item.html?id=a33eeceb281647ecb13c7427d2f48f01' target='_blank'><b>Worldwide Firearms ownership API</b>\n",
       "                        </a>\n",
       "                        <br/> GSR Worldwide firearms ownership<img src='https://geosaurus.maps.arcgis.com/home/js/jsapi/esri/css/images/item_type_icons/features16.png' style=\"vertical-align:middle;\" width=16 height=16>Feature Collection by arcgis_python\n",
       "                        <br/>Last Modified: December 04, 2023\n",
       "                        <br/>0 comments, 0 views\n",
       "                    </div>\n",
       "                </div>\n",
       "                "
      ],
      "text/plain": [
       "<Item title:\"Worldwide Firearms ownership API\" type:Feature Collection owner:arcgis_python>"
      ]
     },
     "execution_count": 16,
     "metadata": {},
     "output_type": "execute_result"
    }
   ],
   "source": [
    "item"
   ]
  },
  {
   "cell_type": "markdown",
   "metadata": {},
   "source": [
    "Let us search for this item"
   ]
  },
  {
   "cell_type": "code",
   "execution_count": 18,
   "metadata": {
    "scrolled": false
   },
   "outputs": [
    {
     "data": {
      "text/html": [
       "<div class=\"item_container\" style=\"height: auto; overflow: hidden; border: 1px solid #cfcfcf; border-radius: 2px; background: #f6fafa; line-height: 1.21429em; padding: 10px;\">\n",
       "                    <div class=\"item_left\" style=\"width: 210px; float: left;\">\n",
       "                       <a href='https://geosaurus.maps.arcgis.com/home/item.html?id=a33eeceb281647ecb13c7427d2f48f01' target='_blank'>\n",
       "                        <img src='http://static.arcgis.com/images/desktopapp.png' class=\"itemThumbnail\">\n",
       "                       </a>\n",
       "                    </div>\n",
       "\n",
       "                    <div class=\"item_right\"     style=\"float: none; width: auto; overflow: hidden;\">\n",
       "                        <a href='https://geosaurus.maps.arcgis.com/home/item.html?id=a33eeceb281647ecb13c7427d2f48f01' target='_blank'><b>Worldwide Firearms ownership API</b>\n",
       "                        </a>\n",
       "                        <br/> GSR Worldwide firearms ownership<img src='https://geosaurus.maps.arcgis.com/home/js/jsapi/esri/css/images/item_type_icons/features16.png' style=\"vertical-align:middle;\" width=16 height=16>Feature Collection by arcgis_python\n",
       "                        <br/>Last Modified: December 04, 2023\n",
       "                        <br/>0 comments, 0 views\n",
       "                    </div>\n",
       "                </div>\n",
       "                "
      ],
      "text/plain": [
       "<Item title:\"Worldwide Firearms ownership API\" type:Feature Collection owner:arcgis_python>"
      ]
     },
     "execution_count": 18,
     "metadata": {},
     "output_type": "execute_result"
    }
   ],
   "source": [
    "search_result = gis.content.search(\"Worldwide Firearms ownership API\")\n",
    "search_result[0]"
   ]
  },
  {
   "cell_type": "code",
   "execution_count": 22,
   "metadata": {},
   "outputs": [],
   "source": [
    "fmgr = gis.content.folders"
   ]
  },
  {
   "cell_type": "code",
   "execution_count": 23,
   "metadata": {},
   "outputs": [],
   "source": [
    "root = fmgr.get(owner=gis.users.me)"
   ]
  },
  {
   "cell_type": "code",
   "execution_count": 24,
   "metadata": {},
   "outputs": [],
   "source": [
    "from arcgis.gis import ItemProperties, ItemTypeEnum"
   ]
  },
  {
   "cell_type": "code",
   "execution_count": 25,
   "metadata": {},
   "outputs": [],
   "source": [
    "iprops = ItemProperties(title=\"Worldwide Firearms Ownership Folder stream\",\n",
    "                        item_type=ItemTypeEnum.FEATURE_COLLECTION,\n",
    "                        tags=[\"guns,violence\"],\n",
    "                        snippet = \"GSR Worldwide firearms ownership\",\n",
    "                        description = \"test description\",\n",
    "                        type_keywords = [\"Data\", \"Feature Collection\", \"Singlelayer\"],\n",
    "                        extent = \"-102.5272,-41.7886,172.5967,64.984\")"
   ]
  },
  {
   "cell_type": "code",
   "execution_count": 26,
   "metadata": {},
   "outputs": [],
   "source": [
    "rf_item = root.add(item_properties=iprops,\n",
    "                   text = json.dumps({\"layers\": [dict(fc.layer)]}))"
   ]
  },
  {
   "cell_type": "code",
   "execution_count": 27,
   "metadata": {},
   "outputs": [
    {
     "data": {
      "text/html": [
       "<div class=\"item_container\" style=\"height: auto; overflow: hidden; border: 1px solid #cfcfcf; border-radius: 2px; background: #f6fafa; line-height: 1.21429em; padding: 10px;\">\n",
       "                    <div class=\"item_left\" style=\"width: 210px; float: left;\">\n",
       "                       <a href='https://geosaurus.maps.arcgis.com/home/item.html?id=3816a82279014d7da3e234719e878c98' target='_blank'>\n",
       "                        <img src='http://static.arcgis.com/images/desktopapp.png' class=\"itemThumbnail\">\n",
       "                       </a>\n",
       "                    </div>\n",
       "\n",
       "                    <div class=\"item_right\"     style=\"float: none; width: auto; overflow: hidden;\">\n",
       "                        <a href='https://geosaurus.maps.arcgis.com/home/item.html?id=3816a82279014d7da3e234719e878c98' target='_blank'><b>Worldwide Firearms Ownership Folder stream</b>\n",
       "                        </a>\n",
       "                        <br/>GSR Worldwide firearms ownership<img src='https://geosaurus.maps.arcgis.com/home/js/jsapi/esri/css/images/item_type_icons/features16.png' style=\"vertical-align:middle;\" width=16 height=16>Feature Collection by arcgis_python\n",
       "                        <br/>Last Modified: December 04, 2023\n",
       "                        <br/>0 comments, 0 views\n",
       "                    </div>\n",
       "                </div>\n",
       "                "
      ],
      "text/plain": [
       "<Item title:\"Worldwide Firearms Ownership Folder stream\" type:Feature Collection owner:arcgis_python>"
      ]
     },
     "execution_count": 27,
     "metadata": {},
     "output_type": "execute_result"
    }
   ],
   "source": [
    "rf_item.result()"
   ]
  },
  {
   "cell_type": "code",
   "execution_count": null,
   "metadata": {},
   "outputs": [],
   "source": []
  }
 ],
 "metadata": {
  "anaconda-cloud": {},
  "esriNotebookRuntime": {
   "notebookRuntimeName": "ArcGIS Notebook Python 3 Standard",
   "notebookRuntimeVersion": "9.0"
  },
  "kernelspec": {
   "display_name": "Python 3 (ipykernel)",
   "language": "python",
   "name": "python3"
  },
  "language_info": {
   "codemirror_mode": {
    "name": "ipython",
    "version": 3
   },
   "file_extension": ".py",
   "mimetype": "text/x-python",
   "name": "python",
   "nbconvert_exporter": "python",
   "pygments_lexer": "ipython3",
   "version": "3.9.17"
  },
  "toc": {
   "base_numbering": 1,
   "nav_menu": {},
   "number_sections": false,
   "sideBar": true,
   "skip_h1_title": true,
   "title_cell": "Table of Contents",
   "title_sidebar": "Contents",
   "toc_cell": true,
   "toc_position": {},
   "toc_section_display": true,
   "toc_window_display": false
  },
  "varInspector": {
   "cols": {
    "lenName": 16,
    "lenType": 16,
    "lenVar": 40
   },
   "kernels_config": {
    "python": {
     "delete_cmd_postfix": "",
     "delete_cmd_prefix": "del ",
     "library": "var_list.py",
     "varRefreshCmd": "print(var_dic_list())"
    },
    "r": {
     "delete_cmd_postfix": ") ",
     "delete_cmd_prefix": "rm(",
     "library": "var_list.r",
     "varRefreshCmd": "cat(var_dic_list()) "
    }
   },
   "types_to_exclude": [
    "module",
    "function",
    "builtin_function_or_method",
    "instance",
    "_Feature"
   ],
   "window_display": false
  }
 },
 "nbformat": 4,
 "nbformat_minor": 1
}
