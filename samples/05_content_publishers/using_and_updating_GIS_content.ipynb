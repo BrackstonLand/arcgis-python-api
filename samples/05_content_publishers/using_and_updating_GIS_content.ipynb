{
 "cells": [
  {
   "cell_type": "markdown",
   "metadata": {},
   "source": [
    "# Using and updating GIS content\n",
    "\n",
    "The GIS is a warehouse of geographic content and services. ArcGIS includes several classes to make use of this content, publish new items and update them when needed. This sample on updating the content of web maps and web scenes will demonstrate the following\n",
    " * **Replace web layers** of a web map. For instance, you can use this to update a web map when the services it points to were deleted. The sample shows how to read a web feature layer as a **FeatureService** object and inspect its properties.\n",
    " * **Drive the map widget by code**. In addition to displaying the interactive map widget, you can also set it to load at a particular extent. This is great for presentation purposes. During this process, the sample shows how to create and use a **MapView** object and a **Geocoder** object.\n",
    " * Make a **copy of a public web scene** item into your contents and then update it.\n",
    "     * Edit the list of layers to remove unnecessary ones.\n",
    "     * **Replace the basemap** of the web scene. In this step the sample shows how to search for **groups** and query the member items.\n",
    "     * Change visibility of layers."
   ]
  },
  {
   "cell_type": "markdown",
   "metadata": {
    "toc": true
   },
   "source": [
    "<h1>Table of Contents<span class=\"tocSkip\"></span></h1>\n",
    "<div class=\"toc\"><ul class=\"toc-item\"><li><span><a href=\"#Using-and-updating-GIS-content\" data-toc-modified-id=\"Using-and-updating-GIS-content-1\"><span class=\"toc-item-num\">1&nbsp;&nbsp;</span>Using and updating GIS content</a></span></li><li><span><a href=\"#Using-and-updating-a-web-map\" data-toc-modified-id=\"Using-and-updating-a-web-map-2\"><span class=\"toc-item-num\">2&nbsp;&nbsp;</span>Using and updating a web map</a></span><ul class=\"toc-item\"><li><span><a href=\"#Fix-errors-in-web-map\" data-toc-modified-id=\"Fix-errors-in-web-map-2.1\"><span class=\"toc-item-num\">2.1&nbsp;&nbsp;</span>Fix errors in web map</a></span></li><li><span><a href=\"#Update-the-web-map\" data-toc-modified-id=\"Update-the-web-map-2.2\"><span class=\"toc-item-num\">2.2&nbsp;&nbsp;</span>Update the web map</a></span></li></ul></li><li><span><a href=\"#Using-and-updating-a-web-scene\" data-toc-modified-id=\"Using-and-updating-a-web-scene-3\"><span class=\"toc-item-num\">3&nbsp;&nbsp;</span>Using and updating a web scene</a></span><ul class=\"toc-item\"><li><span><a href=\"#Make-a-copy-of-the-public-web-scene-item\" data-toc-modified-id=\"Make-a-copy-of-the-public-web-scene-item-3.1\"><span class=\"toc-item-num\">3.1&nbsp;&nbsp;</span>Make a copy of the public web scene item</a></span><ul class=\"toc-item\"><li><span><a href=\"#Update-operational-layers-of-new-web-scene\" data-toc-modified-id=\"Update-operational-layers-of-new-web-scene-3.1.1\"><span class=\"toc-item-num\">3.1.1&nbsp;&nbsp;</span>Update operational layers of new web scene</a></span></li><li><span><a href=\"#Update-basemap-of-new-web-scene\" data-toc-modified-id=\"Update-basemap-of-new-web-scene-3.1.2\"><span class=\"toc-item-num\">3.1.2&nbsp;&nbsp;</span>Update basemap of new web scene</a></span></li></ul></li></ul></li><li><span><a href=\"#Summary\" data-toc-modified-id=\"Summary-4\"><span class=\"toc-item-num\">4&nbsp;&nbsp;</span>Summary</a></span></li></ul></div>"
   ]
  },
  {
   "cell_type": "code",
   "execution_count": 34,
   "metadata": {},
   "outputs": [],
   "source": [
    "from arcgis.gis import GIS\n",
    "from arcgis.mapping import WebMap, WebScene\n",
    "from IPython.display import display\n",
    "import json\n",
    "\n",
    "gis = GIS(profile=\"your_online_profile\")"
   ]
  },
  {
   "cell_type": "markdown",
   "metadata": {},
   "source": [
    "# Creating a web map and feature layer\n",
    "We will will create a feature layer and a web map. We will then delete the feature layer and re-publish. This will change the service and leave us with a broken layer inside our map, don't worry we will fix this in the next steps."
   ]
  },
  {
   "cell_type": "markdown",
   "metadata": {},
   "source": [
    "### Create a feature layer"
   ]
  },
  {
   "cell_type": "code",
   "execution_count": 2,
   "metadata": {},
   "outputs": [],
   "source": [
    "my_csv = 'data/updating_gis_content/capitals_1.csv'\n",
    "item_prop = {'title':'USA Capitals spreadsheet for WebMap'}\n",
    "csv_item = gis.content.add(item_properties=item_prop, data=my_csv)\n",
    "capitals_item = csv_item.publish()"
   ]
  },
  {
   "cell_type": "markdown",
   "metadata": {},
   "source": [
    "### Create WebMap, Add Layer, and Save"
   ]
  },
  {
   "cell_type": "code",
   "execution_count": 3,
   "metadata": {},
   "outputs": [
    {
     "data": {
      "text/html": [
       "<div class=\"item_container\" style=\"height: auto; overflow: hidden; border: 1px solid #cfcfcf; border-radius: 2px; background: #f6fafa; line-height: 1.21429em; padding: 10px;\">\n",
       "                    <div class=\"item_left\" style=\"width: 210px; float: left;\">\n",
       "                       <a href='https://geosaurus.maps.arcgis.com/home/item.html?id=c73d8c8716f64d6582f7e5a1ecff3bd8' target='_blank'>\n",
       "                        <img src='http://static.arcgis.com/images/desktopapp.png' class=\"itemThumbnail\">\n",
       "                       </a>\n",
       "                    </div>\n",
       "\n",
       "                    <div class=\"item_right\"     style=\"float: none; width: auto; overflow: hidden;\">\n",
       "                        <a href='https://geosaurus.maps.arcgis.com/home/item.html?id=c73d8c8716f64d6582f7e5a1ecff3bd8' target='_blank'><b>USA Capitals WebMap</b>\n",
       "                        </a>\n",
       "                        <br/>A webmap that contains USA capitals as a feature layer.<img src='https://geosaurus.maps.arcgis.com/home/js/jsapi/esri/css/images/item_type_icons/maps16.png' style=\"vertical-align:middle;\" width=16 height=16>Web Map by arcgis_python\n",
       "                        <br/>Last Modified: January 09, 2024\n",
       "                        <br/>0 comments, 0 views\n",
       "                    </div>\n",
       "                </div>\n",
       "                "
      ],
      "text/plain": [
       "<Item title:\"USA Capitals WebMap\" type:Web Map owner:arcgis_python>"
      ]
     },
     "execution_count": 3,
     "metadata": {},
     "output_type": "execute_result"
    }
   ],
   "source": [
    "wm = WebMap()\n",
    "wm.add_layer(capitals_item)\n",
    "wm.save({\"title\": \"USA Capitals WebMap\", \"tags\": [\"python\", \"webmap\"], \"snippet\": \"A webmap that contains USA capitals as a feature layer.\"})"
   ]
  },
  {
   "cell_type": "markdown",
   "metadata": {},
   "source": [
    "### Delete Feature Layer and re-publish\n",
    "Why? This seems a bit weird to put in a sample, but this demonstrates how some feature layers can get deleted without us realizing that they are part of webmaps. Below we will get the webmap and see that the layer does not show up!   \n",
    "This sample can then guide you to fix this problem of missing layers."
   ]
  },
  {
   "cell_type": "code",
   "execution_count": 4,
   "metadata": {},
   "outputs": [
    {
     "data": {
      "text/plain": [
       "True"
      ]
     },
     "execution_count": 4,
     "metadata": {},
     "output_type": "execute_result"
    }
   ],
   "source": [
    "capitals_item.delete()"
   ]
  },
  {
   "cell_type": "code",
   "execution_count": 5,
   "metadata": {},
   "outputs": [
    {
     "data": {
      "text/html": [
       "<div class=\"item_container\" style=\"height: auto; overflow: hidden; border: 1px solid #cfcfcf; border-radius: 2px; background: #f6fafa; line-height: 1.21429em; padding: 10px;\">\n",
       "                    <div class=\"item_left\" style=\"width: 210px; float: left;\">\n",
       "                       <a href='https://geosaurus.maps.arcgis.com/home/item.html?id=beef5cb7bd4b4156a984911ab4294452' target='_blank'>\n",
       "                        <img src='http://static.arcgis.com/images/desktopapp.png' class=\"itemThumbnail\">\n",
       "                       </a>\n",
       "                    </div>\n",
       "\n",
       "                    <div class=\"item_right\"     style=\"float: none; width: auto; overflow: hidden;\">\n",
       "                        <a href='https://geosaurus.maps.arcgis.com/home/item.html?id=beef5cb7bd4b4156a984911ab4294452' target='_blank'><b>USA Capitals spreadsheet for WebMap</b>\n",
       "                        </a>\n",
       "                        <br/><img src='https://geosaurus.maps.arcgis.com/home/js/jsapi/esri/css/images/item_type_icons/featureshosted16.png' style=\"vertical-align:middle;\" width=16 height=16>Feature Layer Collection by arcgis_python\n",
       "                        <br/>Last Modified: January 09, 2024\n",
       "                        <br/>0 comments, 0 views\n",
       "                    </div>\n",
       "                </div>\n",
       "                "
      ],
      "text/plain": [
       "<Item title:\"USA Capitals spreadsheet for WebMap\" type:Feature Layer Collection owner:arcgis_python>"
      ]
     },
     "execution_count": 5,
     "metadata": {},
     "output_type": "execute_result"
    }
   ],
   "source": [
    "# re-publish so we can find it again\n",
    "new_capitals = csv_item.publish()\n",
    "new_capitals"
   ]
  },
  {
   "cell_type": "markdown",
   "metadata": {},
   "source": [
    "# Using and updating a web map\n",
    "We will search for that web map that has broken layers, render it on the notebook and update it."
   ]
  },
  {
   "cell_type": "code",
   "execution_count": 6,
   "metadata": {},
   "outputs": [
    {
     "data": {
      "text/plain": [
       "[<Item title:\"USA Capitals WebMap\" type:Web Map owner:arcgis_python>]"
      ]
     },
     "metadata": {},
     "output_type": "display_data"
    }
   ],
   "source": [
    "search_result = gis.content.search(\"title:USA Capitals WebMap\", item_type = \"Web Map\")\n",
    "display(search_result)"
   ]
  },
  {
   "cell_type": "markdown",
   "metadata": {},
   "source": [
    "Read the web map as a `WebMap` object"
   ]
  },
  {
   "cell_type": "code",
   "execution_count": 7,
   "metadata": {},
   "outputs": [],
   "source": [
    "wm_item = search_result[0]\n",
    "web_map_obj = WebMap(wm_item)"
   ]
  },
  {
   "cell_type": "code",
   "execution_count": 8,
   "metadata": {},
   "outputs": [
    {
     "data": {
      "application/vnd.jupyter.widget-view+json": {
       "model_id": "0f78e6ae09a54f22b6507d2a70809219",
       "version_major": 2,
       "version_minor": 0
      },
      "text/plain": [
       "MapView(hide_mode_switch=True, layout=Layout(height='400px', width='100%'))"
      ]
     },
     "metadata": {},
     "output_type": "display_data"
    },
    {
     "data": {
      "text/html": [
       "<div class=\"map-static-img-preview-6054e7eb-29b6-4c87-a646-aa0e506719d5\"><img src=\"\"></img></div>"
      ],
      "text/plain": [
       "<IPython.core.display.HTML object>"
      ]
     },
     "metadata": {},
     "output_type": "display_data"
    },
    {
     "data": {
      "text/html": [
       "<div class=\"map-html-embed-preview-6054e7eb-29b6-4c87-a646-aa0e506719d5\"></div>"
      ],
      "text/plain": [
       "<IPython.core.display.HTML object>"
      ]
     },
     "metadata": {},
     "output_type": "display_data"
    }
   ],
   "source": [
    "# display the web map obj in an interactive widget\n",
    "web_map_obj"
   ]
  },
  {
   "cell_type": "markdown",
   "metadata": {},
   "source": [
    "## Fix errors in web map\n",
    "The widget loads an empty web map with just a basemap. Let us investigate the contents of the web map to determine the issue. You can query the layers in the web map using the `layers` property."
   ]
  },
  {
   "cell_type": "code",
   "execution_count": 9,
   "metadata": {},
   "outputs": [
    {
     "data": {
      "text/plain": [
       "[{\n",
       "   \"title\": \"USA_Capitals_spreadsheet_for_WebMap\",\n",
       "   \"opacity\": 1,\n",
       "   \"visibility\": true,\n",
       "   \"id\": \"73d0744e-872b-4e5d-89a1-7bb055577c07\",\n",
       "   \"layerDefinition\": {\n",
       "     \"definitionExpression\": null,\n",
       "     \"drawingInfo\": {\n",
       "       \"renderer\": {\n",
       "         \"type\": \"simple\",\n",
       "         \"symbol\": {\n",
       "           \"type\": \"esriPMS\",\n",
       "           \"url\": \"RedSphere.png\",\n",
       "           \"imageData\": \"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\",\n",
       "           \"contentType\": \"image/png\",\n",
       "           \"width\": 15,\n",
       "           \"height\": 15\n",
       "         }\n",
       "       }\n",
       "     }\n",
       "   },\n",
       "   \"layerType\": \"ArcGISFeatureLayer\",\n",
       "   \"itemId\": \"dca765f2d71947bc92f851291739e35a\",\n",
       "   \"url\": \"https://services7.arcgis.com/JEwYeAy2cc8qOe3o/arcgis/rest/services/USA_Capitals_spreadsheet_for_WebMap/FeatureServer/0\",\n",
       "   \"popupInfo\": {\n",
       "     \"title\": \"USA_Capitals_spreadsheet_for_WebMap\",\n",
       "     \"fieldInfos\": [\n",
       "       {\n",
       "         \"fieldName\": \"city_id\",\n",
       "         \"label\": \"city_id\",\n",
       "         \"isEditable\": true,\n",
       "         \"visible\": true\n",
       "       },\n",
       "       {\n",
       "         \"fieldName\": \"name\",\n",
       "         \"label\": \"name\",\n",
       "         \"isEditable\": true,\n",
       "         \"visible\": true\n",
       "       },\n",
       "       {\n",
       "         \"fieldName\": \"state\",\n",
       "         \"label\": \"state\",\n",
       "         \"isEditable\": true,\n",
       "         \"visible\": true\n",
       "       },\n",
       "       {\n",
       "         \"fieldName\": \"capital\",\n",
       "         \"label\": \"capital\",\n",
       "         \"isEditable\": true,\n",
       "         \"visible\": true\n",
       "       },\n",
       "       {\n",
       "         \"fieldName\": \"pop2000\",\n",
       "         \"label\": \"pop2000\",\n",
       "         \"isEditable\": true,\n",
       "         \"visible\": true\n",
       "       },\n",
       "       {\n",
       "         \"fieldName\": \"pop2007\",\n",
       "         \"label\": \"pop2007\",\n",
       "         \"isEditable\": true,\n",
       "         \"visible\": true\n",
       "       },\n",
       "       {\n",
       "         \"fieldName\": \"longitude\",\n",
       "         \"label\": \"longitude\",\n",
       "         \"isEditable\": true,\n",
       "         \"visible\": true\n",
       "       },\n",
       "       {\n",
       "         \"fieldName\": \"latitude\",\n",
       "         \"label\": \"latitude\",\n",
       "         \"isEditable\": true,\n",
       "         \"visible\": true\n",
       "       },\n",
       "       {\n",
       "         \"fieldName\": \"ObjectId\",\n",
       "         \"label\": \"ObjectId\",\n",
       "         \"isEditable\": false,\n",
       "         \"visible\": true\n",
       "       }\n",
       "     ],\n",
       "     \"description\": null,\n",
       "     \"showAttachments\": true,\n",
       "     \"mediaInfos\": []\n",
       "   }\n",
       " }]"
      ]
     },
     "execution_count": 9,
     "metadata": {},
     "output_type": "execute_result"
    }
   ],
   "source": [
    "web_map_obj.layers"
   ]
  },
  {
   "cell_type": "code",
   "execution_count": 10,
   "metadata": {},
   "outputs": [
    {
     "data": {
      "text/plain": [
       "'dca765f2d71947bc92f851291739e35a'"
      ]
     },
     "execution_count": 10,
     "metadata": {},
     "output_type": "execute_result"
    }
   ],
   "source": [
    "# Feature service item id for the missing layer:\n",
    "web_map_obj.layers[0][\"itemId\"]"
   ]
  },
  {
   "cell_type": "markdown",
   "metadata": {},
   "source": [
    "The web map has only 1 layer and that points to a feature service named **USA_Capitals_spreadsheet_for_WebMap**. Let us verify if a feature service of that name exists on the server. If not, let us try to find the closest match."
   ]
  },
  {
   "cell_type": "code",
   "execution_count": 11,
   "metadata": {},
   "outputs": [
    {
     "data": {
      "text/plain": [
       "[<Item title:\"USA Capitals spreadsheet for WebMap\" type:Feature Layer Collection owner:arcgis_python>]"
      ]
     },
     "metadata": {},
     "output_type": "display_data"
    }
   ],
   "source": [
    "search_result = gis.content.search('title:USA_Capitals_spreadsheet_for_WebMap', item_type = 'Feature Service')\n",
    "display(search_result)"
   ]
  },
  {
   "cell_type": "markdown",
   "metadata": {},
   "source": [
    "Let's check the itemId to make sure it is different. This means we have re-published it and the service was changed."
   ]
  },
  {
   "cell_type": "code",
   "execution_count": 12,
   "metadata": {},
   "outputs": [
    {
     "data": {
      "text/plain": [
       "'beef5cb7bd4b4156a984911ab4294452'"
      ]
     },
     "execution_count": 12,
     "metadata": {},
     "output_type": "execute_result"
    }
   ],
   "source": [
    "search_result[0].id"
   ]
  },
  {
   "cell_type": "markdown",
   "metadata": {},
   "source": [
    "It is likely the old service was deleted and a new one was published. Let us update the web map with the new feature layer"
   ]
  },
  {
   "cell_type": "code",
   "execution_count": 13,
   "metadata": {},
   "outputs": [
    {
     "data": {
      "text/plain": [
       "[<FeatureLayer url:\"https://services7.arcgis.com/JEwYeAy2cc8qOe3o/arcgis/rest/services/USA_Capitals_spreadsheet_for_WebMap/FeatureServer/0\">]"
      ]
     },
     "execution_count": 13,
     "metadata": {},
     "output_type": "execute_result"
    }
   ],
   "source": [
    "capitals = search_result[0]\n",
    "capitals.layers"
   ]
  },
  {
   "cell_type": "markdown",
   "metadata": {},
   "source": [
    "The new feature service does have a layer with id `0`. Hence we can use the same layer id while switching the url. To remove the old layer, call `remove_layer()` method. Then add the correct `FeatureLayer` object by calling the `add_layer()` method on the `WebMap` object."
   ]
  },
  {
   "cell_type": "code",
   "execution_count": 14,
   "metadata": {},
   "outputs": [],
   "source": [
    "# remove the old layer from the web map\n",
    "web_map_obj.remove_layer(web_map_obj.layers[0])"
   ]
  },
  {
   "cell_type": "code",
   "execution_count": 15,
   "metadata": {},
   "outputs": [
    {
     "data": {
      "text/plain": [
       "True"
      ]
     },
     "execution_count": 15,
     "metadata": {},
     "output_type": "execute_result"
    }
   ],
   "source": [
    "# add the correct layer. While adding you can customize the title\n",
    "web_map_obj.add_layer(capitals.layers[0], options={'title':'USA Capitals'})"
   ]
  },
  {
   "cell_type": "markdown",
   "metadata": {},
   "source": [
    "Check the layers on the web map"
   ]
  },
  {
   "cell_type": "code",
   "execution_count": 16,
   "metadata": {},
   "outputs": [
    {
     "name": "stdout",
     "output_type": "stream",
     "text": [
      "USA Capitals https://services7.arcgis.com/JEwYeAy2cc8qOe3o/arcgis/rest/services/USA_Capitals_spreadsheet_for_WebMap/FeatureServer/0\n"
     ]
    }
   ],
   "source": [
    "for lyr in web_map_obj.layers:\n",
    "    print(lyr.title + \" \" + lyr.url)"
   ]
  },
  {
   "cell_type": "markdown",
   "metadata": {},
   "source": [
    "## Update the web map\n",
    "Now the web map should be fixed as it points to a live service. To update the web map, we call the `update()` method. You have the option to update the thumbnail or any other item properties at this time."
   ]
  },
  {
   "cell_type": "code",
   "execution_count": 17,
   "metadata": {},
   "outputs": [
    {
     "data": {
      "text/plain": [
       "True"
      ]
     },
     "execution_count": 17,
     "metadata": {},
     "output_type": "execute_result"
    }
   ],
   "source": [
    "web_map_obj.update(item_properties={'title':'USA Capitals - updated'},\n",
    "                  thumbnail = \"./data/webmap_thumbnail.png\")"
   ]
  },
  {
   "cell_type": "markdown",
   "metadata": {},
   "source": [
    "Query the web map object to visualize it in the notebook"
   ]
  },
  {
   "cell_type": "code",
   "execution_count": 18,
   "metadata": {},
   "outputs": [
    {
     "data": {
      "application/vnd.jupyter.widget-view+json": {
       "model_id": "0f78e6ae09a54f22b6507d2a70809219",
       "version_major": 2,
       "version_minor": 0
      },
      "text/plain": [
       "MapView(hide_mode_switch=True, jupyter_target='notebook', layout=Layout(height='400px', width='100%'), ready=T…"
      ]
     },
     "metadata": {},
     "output_type": "display_data"
    },
    {
     "data": {
      "text/html": [
       "<div class=\"map-static-img-preview-6054e7eb-29b6-4c87-a646-aa0e506719d5\"><img src=\"\"></img></div>"
      ],
      "text/plain": [
       "<IPython.core.display.HTML object>"
      ]
     },
     "metadata": {},
     "output_type": "display_data"
    },
    {
     "data": {
      "text/html": [
       "<div class=\"map-html-embed-preview-6054e7eb-29b6-4c87-a646-aa0e506719d5\"></div>"
      ],
      "text/plain": [
       "<IPython.core.display.HTML object>"
      ]
     },
     "metadata": {},
     "output_type": "display_data"
    }
   ],
   "source": [
    "web_map_obj"
   ]
  },
  {
   "cell_type": "markdown",
   "metadata": {},
   "source": [
    "The web map was sucessfully overwritten with correct operational layers. You can interact with the widget and zoom into the USA to observe the locations of capitals."
   ]
  },
  {
   "cell_type": "code",
   "execution_count": 19,
   "metadata": {},
   "outputs": [
    {
     "data": {
      "text/plain": [
       "True"
      ]
     },
     "execution_count": 19,
     "metadata": {},
     "output_type": "execute_result"
    }
   ],
   "source": [
    "# Let's clean it up so we can always run this notebook again\n",
    "wm_item.delete()\n",
    "new_capitals.delete()\n",
    "csv_item.delete()"
   ]
  },
  {
   "cell_type": "markdown",
   "metadata": {},
   "source": [
    "# Using and updating a web scene\n",
    "In the sample above we observed how to update a web map. Updating the web scene is similar, we use the `update()` method. Let us look at the example of a web scene that displays tropical cyclones over the Pacific ocean."
   ]
  },
  {
   "cell_type": "code",
   "execution_count": 20,
   "metadata": {},
   "outputs": [
    {
     "data": {
      "text/html": [
       "<div class=\"item_container\" style=\"height: auto; overflow: hidden; border: 1px solid #cfcfcf; border-radius: 2px; background: #f6fafa; line-height: 1.21429em; padding: 10px;\">\n",
       "                    <div class=\"item_left\" style=\"width: 210px; float: left;\">\n",
       "                       <a href='https://geosaurus.maps.arcgis.com/home/item.html?id=193a0e0ed72f413d8cdc649be637a846' target='_blank'>\n",
       "                        <img src='data:image/png;base64,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' width='200' height='133' class=\"itemThumbnail\">\n",
       "                       </a>\n",
       "                    </div>\n",
       "\n",
       "                    <div class=\"item_right\"     style=\"float: none; width: auto; overflow: hidden;\">\n",
       "                        <a href='https://geosaurus.maps.arcgis.com/home/item.html?id=193a0e0ed72f413d8cdc649be637a846' target='_blank'><b>Western Pacific Typhoons (2005)</b>\n",
       "                        </a>\n",
       "                        <br/>A thematic global scene showing the 23 typhoons that meandered through the western Pacific in 2005<img src='https://geosaurus.maps.arcgis.com/home/js/jsapi/esri/css/images/item_type_icons/websceneglobal16.png' style=\"vertical-align:middle;\" width=16 height=16>Web Scene by esri_3d\n",
       "                        <br/>Last Modified: May 01, 2020\n",
       "                        <br/>1 comments, 20660 views\n",
       "                    </div>\n",
       "                </div>\n",
       "                "
      ],
      "text/plain": [
       "<Item title:\"Western Pacific Typhoons (2005)\" type:Web Scene owner:esri_3d>"
      ]
     },
     "execution_count": 20,
     "metadata": {},
     "output_type": "execute_result"
    }
   ],
   "source": [
    "search_result = gis.content.search('title:Western Pacific Typhoons (2005)', \n",
    "                                   item_type = 'Web Scene', outside_org = True)\n",
    "search_result[0]"
   ]
  },
  {
   "cell_type": "markdown",
   "metadata": {},
   "source": [
    "Lets display the web scene in the notebook."
   ]
  },
  {
   "cell_type": "code",
   "execution_count": 21,
   "metadata": {},
   "outputs": [
    {
     "data": {
      "application/vnd.jupyter.widget-view+json": {
       "model_id": "71359c41501d4308ba0bceaf16aac84a",
       "version_major": 2,
       "version_minor": 0
      },
      "text/plain": [
       "MapView(hide_mode_switch=True, layout=Layout(height='400px', width='100%'), mode='3D')"
      ]
     },
     "metadata": {},
     "output_type": "display_data"
    },
    {
     "data": {
      "text/html": [
       "<div class=\"map-static-img-preview-47193dfb-db78-4ff3-930e-842267836d8b\"><img src=\"\"></img></div>"
      ],
      "text/plain": [
       "<IPython.core.display.HTML object>"
      ]
     },
     "metadata": {},
     "output_type": "display_data"
    },
    {
     "data": {
      "text/html": [
       "<div class=\"map-html-embed-preview-47193dfb-db78-4ff3-930e-842267836d8b\"></div>"
      ],
      "text/plain": [
       "<IPython.core.display.HTML object>"
      ]
     },
     "metadata": {},
     "output_type": "display_data"
    }
   ],
   "source": [
    "web_scene_item = search_result[0]\n",
    "web_scene_obj = WebScene(web_scene_item)\n",
    "\n",
    "# display web scene in the notebook\n",
    "web_scene_obj"
   ]
  },
  {
   "cell_type": "markdown",
   "metadata": {
    "collapsed": true
   },
   "source": [
    "This is a great web scene and it displays a lot of hurricane tracks. However, we want to create a new one with only a particular subset of data and customize the basemaps. To modify this web scene, let us first make a copy of it and publish it into your portal."
   ]
  },
  {
   "cell_type": "markdown",
   "metadata": {},
   "source": [
    "## Make a copy of the public web scene item\n",
    "To make a copy, we essentially download the content of the web scene JSON, remove the parts we don't want, add the layers that we want and publish a new item using that information. The publishing steps are similar to what is described earlier in the **data preparation** section and in detail in the sample titled **Publishing web maps and web scenes**.\n",
    "\n",
    "Let's say, we are only interested in the storms that occur in summer. Summer in tropical Asia is around April-June and that matches with a layer in the existing web scene. Let us query the `operationalLayers` section of the web scene to understand what  the layers look like.\n",
    "\n",
    "### Update operational layers of new web scene"
   ]
  },
  {
   "cell_type": "code",
   "execution_count": 22,
   "metadata": {},
   "outputs": [
    {
     "data": {
      "text/plain": [
       "[{'id': '882ce65eceda4e2ba2ad65f9e2c0632f',\n",
       "  'opacity': 1,\n",
       "  'title': 'Typhoon Paths',\n",
       "  'url': 'https://services.arcgis.com/P3ePLMYs2RVChkJx/arcgis/rest/services/PacificTyphoons2005_WFL/FeatureServer/18',\n",
       "  'visibility': True,\n",
       "  'layerType': 'ArcGISFeatureLayer',\n",
       "  'layerDefinition': {'minScale': 120000000,\n",
       "   'maxScale': 0,\n",
       "   'elevationInfo': {'mode': 'onTheGround'},\n",
       "   'drawingInfo': {'renderer': {'type': 'simple',\n",
       "     'description': '',\n",
       "     'label': '',\n",
       "     'symbol': {'type': 'LineSymbol3D',\n",
       "      'symbolLayers': [{'material': {'color': [0, 169, 230]},\n",
       "        'type': 'Line',\n",
       "        'size': 5}]}}}},\n",
       "  'popupInfo': {'showAttachments': False,\n",
       "   'title': '{name}',\n",
       "   'popupElements': [{'type': 'text'}],\n",
       "   'description': \"<div><p><span style='font-weight:bold;'>Typhoon {name}</span></p><p><span style='font-weight:bold;'>Started: </span><span>{datedescription}</span></p></div>\"}},\n",
       " {'id': '14a37c86f84-layer21',\n",
       "  'listMode': 'hide-children',\n",
       "  'opacity': 1,\n",
       "  'title': 'October - December',\n",
       "  'visibility': False,\n",
       "  'layers': [{'id': '7a24e304d2474d7eb29a712c95202140',\n",
       "    'opacity': 1,\n",
       "    'title': 'Labels Q4',\n",
       "    'url': 'https://services.arcgis.com/P3ePLMYs2RVChkJx/arcgis/rest/services/PacificTyphoons2005_WFL/FeatureServer/17',\n",
       "    'visibility': False,\n",
       "    'layerType': 'ArcGISFeatureLayer',\n",
       "    'layerDefinition': {'elevationInfo': {'mode': 'absoluteHeight'},\n",
       "     'drawingInfo': {'renderer': {'type': 'simple',\n",
       "       'visualVariables': [{'type': 'sizeInfo',\n",
       "         'minSize': 25,\n",
       "         'axis': 'all',\n",
       "         'valueUnit': 'unknown'}],\n",
       "       'description': '',\n",
       "       'label': '',\n",
       "       'symbol': {'type': 'styleSymbolReference',\n",
       "        'styleName': 'EsriIconsStyle',\n",
       "        'name': 'Pushpin 1'}}}},\n",
       "    'showLabels': True,\n",
       "    'popupInfo': {'showAttachments': True,\n",
       "     'title': 'Labels Q4: {name}',\n",
       "     'fieldInfos': [{'fieldName': 'typhoonid',\n",
       "       'label': 'typhoonid',\n",
       "       'visible': True},\n",
       "      {'fieldName': 'name', 'label': 'name', 'visible': True},\n",
       "      {'fieldName': 'datedescription',\n",
       "       'label': 'datedescription',\n",
       "       'visible': True},\n",
       "      {'fieldName': 'ORIG_FID',\n",
       "       'label': 'ORIG_FID',\n",
       "       'visible': True,\n",
       "       'format': {'digitSeparator': True, 'places': 0}}],\n",
       "     'popupElements': [{'type': 'fields'}, {'type': 'attachments'}]}},\n",
       "   {'id': '10944e27c9f04bc39b5821c0046523a5',\n",
       "    'opacity': 1,\n",
       "    'title': 'Typhoons Q4',\n",
       "    'url': 'https://services.arcgis.com/P3ePLMYs2RVChkJx/arcgis/rest/services/PacificTyphoons2005_WFL/FeatureServer/16',\n",
       "    'visibility': False,\n",
       "    'layerType': 'ArcGISFeatureLayer',\n",
       "    'layerDefinition': {'elevationInfo': {'mode': 'absoluteHeight'},\n",
       "     'drawingInfo': {'renderer': {'type': 'simple',\n",
       "       'visualVariables': [{'type': 'sizeInfo',\n",
       "         'field': 'windspeed',\n",
       "         'minSize': 1,\n",
       "         'minDataValue': 0.0001,\n",
       "         'axis': 'height'},\n",
       "        {'type': 'sizeInfo',\n",
       "         'minSize': 100000,\n",
       "         'axis': 'widthAndDepth',\n",
       "         'valueUnit': 'meters'},\n",
       "        {'type': 'colorInfo',\n",
       "         'field': 'airpressure',\n",
       "         'stops': [{'value': 920, 'color': [245, 0, 0, 255]},\n",
       "          {'value': 1014, 'color': [245, 245, 0, 255]}]}],\n",
       "       'description': '',\n",
       "       'label': '',\n",
       "       'symbol': {'type': 'styleSymbolReference',\n",
       "        'styleName': 'EsriThematicShapesStyle',\n",
       "        'name': 'Standing Cylinder'}}}},\n",
       "    'popupInfo': {'showAttachments': False,\n",
       "     'title': '{typhoon}',\n",
       "     'popupElements': [{'type': 'fields'}, {'type': 'media'}],\n",
       "     'mediaInfos': [{'type': 'image',\n",
       "       'title': \"<div><p><span style='font-weight:bold;'>{typhoonclass} {typhoon}</span></p></div>\",\n",
       "       'caption': \"<div><p><span style='font-weight:bold;'>Pressure: </span><span>{airpressure} hPa</span></p><p><span style='font-weight:bold;'>Wind speed: </span><span>{wind_mph} mph / {wind_kph} kph</span></p><p><p><span style='font-weight:bold;'>Date: </span><span>{timedescription}</span></p></div></p>\",\n",
       "       'value': {'sourceURL': '{image}'}}]}}],\n",
       "  'layerType': 'GroupLayer',\n",
       "  'visibilityMode': 'inherited'},\n",
       " {'id': '14a37c7f247-layer20',\n",
       "  'listMode': 'hide-children',\n",
       "  'opacity': 1,\n",
       "  'title': 'September',\n",
       "  'visibility': False,\n",
       "  'layers': [{'id': '90eba5af0b084c569a55ebc9b3bfc21e',\n",
       "    'opacity': 1,\n",
       "    'title': 'Labels Q3_3',\n",
       "    'url': 'https://services.arcgis.com/P3ePLMYs2RVChkJx/arcgis/rest/services/PacificTyphoons2005_WFL/FeatureServer/14',\n",
       "    'visibility': False,\n",
       "    'layerType': 'ArcGISFeatureLayer',\n",
       "    'layerDefinition': {'elevationInfo': {'mode': 'absoluteHeight'},\n",
       "     'drawingInfo': {'renderer': {'type': 'simple',\n",
       "       'visualVariables': [{'type': 'sizeInfo',\n",
       "         'minSize': 25,\n",
       "         'axis': 'all',\n",
       "         'valueUnit': 'unknown'}],\n",
       "       'description': '',\n",
       "       'label': '',\n",
       "       'symbol': {'type': 'styleSymbolReference',\n",
       "        'styleName': 'EsriIconsStyle',\n",
       "        'name': 'Pushpin 1'}}}},\n",
       "    'showLabels': True,\n",
       "    'popupInfo': {'showAttachments': True,\n",
       "     'title': 'Labels Q3_3: {name}',\n",
       "     'fieldInfos': [{'fieldName': 'typhoonid',\n",
       "       'label': 'typhoonid',\n",
       "       'visible': True},\n",
       "      {'fieldName': 'name', 'label': 'name', 'visible': True},\n",
       "      {'fieldName': 'datedescription',\n",
       "       'label': 'datedescription',\n",
       "       'visible': True},\n",
       "      {'fieldName': 'ORIG_FID',\n",
       "       'label': 'ORIG_FID',\n",
       "       'visible': True,\n",
       "       'format': {'digitSeparator': True, 'places': 0}}],\n",
       "     'popupElements': [{'type': 'fields'}, {'type': 'attachments'}]}},\n",
       "   {'id': '341d7b380907439990e4c238147b46ce',\n",
       "    'opacity': 1,\n",
       "    'title': 'Typhoons Q3_3',\n",
       "    'url': 'https://services.arcgis.com/P3ePLMYs2RVChkJx/arcgis/rest/services/PacificTyphoons2005_WFL/FeatureServer/13',\n",
       "    'visibility': False,\n",
       "    'layerType': 'ArcGISFeatureLayer',\n",
       "    'layerDefinition': {'elevationInfo': {'mode': 'absoluteHeight'},\n",
       "     'drawingInfo': {'renderer': {'type': 'simple',\n",
       "       'visualVariables': [{'type': 'sizeInfo',\n",
       "         'field': 'windspeed',\n",
       "         'minSize': 1,\n",
       "         'minDataValue': 0.0001,\n",
       "         'axis': 'height'},\n",
       "        {'type': 'sizeInfo',\n",
       "         'minSize': 100000,\n",
       "         'axis': 'widthAndDepth',\n",
       "         'valueUnit': 'meters'},\n",
       "        {'type': 'colorInfo',\n",
       "         'field': 'airpressure',\n",
       "         'stops': [{'value': 920, 'color': [245, 0, 0, 255]},\n",
       "          {'value': 1014, 'color': [245, 245, 0, 255]}]}],\n",
       "       'description': '',\n",
       "       'label': '',\n",
       "       'symbol': {'type': 'styleSymbolReference',\n",
       "        'styleName': 'EsriThematicShapesStyle',\n",
       "        'name': 'Standing Cylinder'}}}},\n",
       "    'popupInfo': {'showAttachments': False,\n",
       "     'title': '{typhoon}',\n",
       "     'popupElements': [{'type': 'fields'}, {'type': 'media'}],\n",
       "     'mediaInfos': [{'type': 'image',\n",
       "       'title': \"<div><p><span style='font-weight:bold;'>{typhoonclass} {typhoon}</span></p></div>\",\n",
       "       'caption': \"<div><p><span style='font-weight:bold;'>Pressure: </span><span>{airpressure} hPa</span></p><p><span style='font-weight:bold;'>Wind speed: </span><span>{wind_mph} mph / {wind_kph} kph</span></p><p><p><span style='font-weight:bold;'>Date: </span><span>{timedescription}</span></p></div></p>\",\n",
       "       'value': {'sourceURL': '{image}'}}]}}],\n",
       "  'layerType': 'GroupLayer',\n",
       "  'visibilityMode': 'inherited'},\n",
       " {'id': '14a37c78bc8-layer19',\n",
       "  'listMode': 'hide-children',\n",
       "  'opacity': 1,\n",
       "  'title': 'August',\n",
       "  'visibility': False,\n",
       "  'layers': [{'id': '6e54f2736388480ab0a214cb468d48f9',\n",
       "    'opacity': 1,\n",
       "    'title': 'Labels Q3_2',\n",
       "    'url': 'https://services.arcgis.com/P3ePLMYs2RVChkJx/arcgis/rest/services/PacificTyphoons2005_WFL/FeatureServer/11',\n",
       "    'visibility': False,\n",
       "    'layerType': 'ArcGISFeatureLayer',\n",
       "    'layerDefinition': {'elevationInfo': {'mode': 'absoluteHeight'},\n",
       "     'drawingInfo': {'renderer': {'type': 'simple',\n",
       "       'visualVariables': [{'type': 'sizeInfo',\n",
       "         'minSize': 25,\n",
       "         'axis': 'all',\n",
       "         'valueUnit': 'unknown'}],\n",
       "       'description': '',\n",
       "       'label': '',\n",
       "       'symbol': {'type': 'styleSymbolReference',\n",
       "        'styleName': 'EsriIconsStyle',\n",
       "        'name': 'Pushpin 1'}}}},\n",
       "    'showLabels': True,\n",
       "    'popupInfo': {'showAttachments': True,\n",
       "     'title': 'Labels Q3_2: {name}',\n",
       "     'fieldInfos': [{'fieldName': 'typhoonid',\n",
       "       'label': 'typhoonid',\n",
       "       'visible': True},\n",
       "      {'fieldName': 'name', 'label': 'name', 'visible': True},\n",
       "      {'fieldName': 'datedescription',\n",
       "       'label': 'datedescription',\n",
       "       'visible': True},\n",
       "      {'fieldName': 'ORIG_FID',\n",
       "       'label': 'ORIG_FID',\n",
       "       'visible': True,\n",
       "       'format': {'digitSeparator': True, 'places': 0}}],\n",
       "     'popupElements': [{'type': 'fields'}, {'type': 'attachments'}]}},\n",
       "   {'id': '6b549bb78d824b4c8d24f5c90b93c4f6',\n",
       "    'opacity': 1,\n",
       "    'title': 'Typhoons Q3_2',\n",
       "    'url': 'https://services.arcgis.com/P3ePLMYs2RVChkJx/arcgis/rest/services/PacificTyphoons2005_WFL/FeatureServer/10',\n",
       "    'visibility': False,\n",
       "    'layerType': 'ArcGISFeatureLayer',\n",
       "    'layerDefinition': {'elevationInfo': {'mode': 'absoluteHeight'},\n",
       "     'drawingInfo': {'renderer': {'type': 'simple',\n",
       "       'visualVariables': [{'type': 'sizeInfo',\n",
       "         'field': 'windspeed',\n",
       "         'minSize': 1,\n",
       "         'minDataValue': 0.0001,\n",
       "         'axis': 'height'},\n",
       "        {'type': 'sizeInfo',\n",
       "         'minSize': 100000,\n",
       "         'axis': 'widthAndDepth',\n",
       "         'valueUnit': 'meters'},\n",
       "        {'type': 'colorInfo',\n",
       "         'field': 'airpressure',\n",
       "         'stops': [{'value': 920, 'color': [245, 0, 0, 255]},\n",
       "          {'value': 1014, 'color': [245, 245, 0, 255]}]}],\n",
       "       'description': '',\n",
       "       'label': '',\n",
       "       'symbol': {'type': 'styleSymbolReference',\n",
       "        'styleName': 'EsriThematicShapesStyle',\n",
       "        'name': 'Standing Cylinder'}}}},\n",
       "    'popupInfo': {'showAttachments': False,\n",
       "     'title': '{typhoon}',\n",
       "     'popupElements': [{'type': 'fields'}, {'type': 'media'}],\n",
       "     'mediaInfos': [{'type': 'image',\n",
       "       'title': \"<div><p><span style='font-weight:bold;'>{typhoonclass} {typhoon}</span></p></div>\",\n",
       "       'caption': \"<div><p><span style='font-weight:bold;'>Pressure: </span><span>{airpressure} hPa</span></p><p><span style='font-weight:bold;'>Wind speed: </span><span>{wind_mph} mph / {wind_kph} kph</span></p><p><p><span style='font-weight:bold;'>Date: </span><span>{timedescription}</span></p></div></p>\",\n",
       "       'value': {'sourceURL': '{image}'}}]}}],\n",
       "  'layerType': 'GroupLayer',\n",
       "  'visibilityMode': 'inherited'},\n",
       " {'id': '14a37c4590b-layer18',\n",
       "  'listMode': 'hide-children',\n",
       "  'opacity': 1,\n",
       "  'title': 'July',\n",
       "  'visibility': False,\n",
       "  'layers': [{'id': 'b8cc403be27e475ca93db04a34845e89',\n",
       "    'opacity': 1,\n",
       "    'title': 'Labels Q3_1',\n",
       "    'url': 'https://services.arcgis.com/P3ePLMYs2RVChkJx/arcgis/rest/services/PacificTyphoons2005_WFL/FeatureServer/8',\n",
       "    'visibility': False,\n",
       "    'layerType': 'ArcGISFeatureLayer',\n",
       "    'layerDefinition': {'elevationInfo': {'mode': 'absoluteHeight'},\n",
       "     'drawingInfo': {'renderer': {'type': 'simple',\n",
       "       'visualVariables': [{'type': 'sizeInfo',\n",
       "         'minSize': 25,\n",
       "         'axis': 'all',\n",
       "         'valueUnit': 'unknown'}],\n",
       "       'description': '',\n",
       "       'label': '',\n",
       "       'symbol': {'type': 'styleSymbolReference',\n",
       "        'styleName': 'EsriIconsStyle',\n",
       "        'name': 'Pushpin 1'}}}},\n",
       "    'showLabels': True,\n",
       "    'popupInfo': {'showAttachments': True,\n",
       "     'title': 'Labels Q3_1: {name}',\n",
       "     'fieldInfos': [{'fieldName': 'typhoonid',\n",
       "       'label': 'typhoonid',\n",
       "       'visible': True},\n",
       "      {'fieldName': 'name', 'label': 'name', 'visible': True},\n",
       "      {'fieldName': 'datedescription',\n",
       "       'label': 'datedescription',\n",
       "       'visible': True},\n",
       "      {'fieldName': 'ORIG_FID',\n",
       "       'label': 'ORIG_FID',\n",
       "       'visible': True,\n",
       "       'format': {'digitSeparator': True, 'places': 0}}],\n",
       "     'popupElements': [{'type': 'fields'}, {'type': 'attachments'}]}},\n",
       "   {'id': 'e60bd6abdb094bf2b9daacd8bb57495c',\n",
       "    'opacity': 1,\n",
       "    'title': 'Typhoons Q3_1',\n",
       "    'url': 'https://services.arcgis.com/P3ePLMYs2RVChkJx/arcgis/rest/services/PacificTyphoons2005_WFL/FeatureServer/7',\n",
       "    'visibility': False,\n",
       "    'layerType': 'ArcGISFeatureLayer',\n",
       "    'layerDefinition': {'elevationInfo': {'mode': 'absoluteHeight'},\n",
       "     'drawingInfo': {'renderer': {'type': 'simple',\n",
       "       'visualVariables': [{'type': 'sizeInfo',\n",
       "         'field': 'windspeed',\n",
       "         'minSize': 1,\n",
       "         'minDataValue': 0.0001,\n",
       "         'axis': 'height'},\n",
       "        {'type': 'sizeInfo',\n",
       "         'minSize': 100000,\n",
       "         'axis': 'widthAndDepth',\n",
       "         'valueUnit': 'meters'},\n",
       "        {'type': 'colorInfo',\n",
       "         'field': 'airpressure',\n",
       "         'stops': [{'value': 920, 'color': [245, 0, 0, 255]},\n",
       "          {'value': 1014, 'color': [245, 245, 0, 255]}]}],\n",
       "       'description': '',\n",
       "       'label': '',\n",
       "       'symbol': {'type': 'styleSymbolReference',\n",
       "        'styleName': 'EsriThematicShapesStyle',\n",
       "        'name': 'Standing Cylinder'}}}},\n",
       "    'popupInfo': {'showAttachments': False,\n",
       "     'title': '{typhoon}',\n",
       "     'popupElements': [{'type': 'fields'}, {'type': 'media'}],\n",
       "     'mediaInfos': [{'type': 'image',\n",
       "       'title': \"<div><p><span style='font-weight:bold;'>{typhoonclass} {typhoon}</span></p></div>\",\n",
       "       'caption': \"<div><p><span style='font-weight:bold;'>Pressure: </span><span>{airpressure} hPa</span></p><p><span style='font-weight:bold;'>Wind speed: </span><span>{wind_mph} mph / {wind_kph} kph</span></p><p><p><span style='font-weight:bold;'>Date: </span><span>{timedescription}</span></p></div></p>\",\n",
       "       'value': {'sourceURL': '{image}'}}]}}],\n",
       "  'layerType': 'GroupLayer',\n",
       "  'visibilityMode': 'inherited'},\n",
       " {'id': '14a37c397dc-layer17',\n",
       "  'listMode': 'hide-children',\n",
       "  'opacity': 1,\n",
       "  'title': 'April - June',\n",
       "  'visibility': False,\n",
       "  'layers': [{'id': '56803f3d64184140950f0ef1256a0603',\n",
       "    'opacity': 1,\n",
       "    'title': 'Labels Q2',\n",
       "    'url': 'https://services.arcgis.com/P3ePLMYs2RVChkJx/arcgis/rest/services/PacificTyphoons2005_WFL/FeatureServer/5',\n",
       "    'visibility': False,\n",
       "    'layerType': 'ArcGISFeatureLayer',\n",
       "    'layerDefinition': {'elevationInfo': {'mode': 'absoluteHeight'},\n",
       "     'drawingInfo': {'renderer': {'type': 'simple',\n",
       "       'visualVariables': [{'type': 'sizeInfo',\n",
       "         'minSize': 25,\n",
       "         'axis': 'all',\n",
       "         'valueUnit': 'unknown'}],\n",
       "       'description': '',\n",
       "       'label': '',\n",
       "       'symbol': {'type': 'styleSymbolReference',\n",
       "        'styleName': 'EsriIconsStyle',\n",
       "        'name': 'Pushpin 1'}}}},\n",
       "    'showLabels': True,\n",
       "    'popupInfo': {'showAttachments': True,\n",
       "     'title': 'Labels Q2: {name}',\n",
       "     'fieldInfos': [{'fieldName': 'typhoonid',\n",
       "       'label': 'typhoonid',\n",
       "       'visible': True},\n",
       "      {'fieldName': 'name', 'label': 'name', 'visible': True},\n",
       "      {'fieldName': 'datedescription',\n",
       "       'label': 'datedescription',\n",
       "       'visible': True},\n",
       "      {'fieldName': 'ORIG_FID',\n",
       "       'label': 'ORIG_FID',\n",
       "       'visible': True,\n",
       "       'format': {'digitSeparator': True, 'places': 0}}],\n",
       "     'popupElements': [{'type': 'fields'}, {'type': 'attachments'}]}},\n",
       "   {'id': '72668fcc8a904bd6a1444bef2e72f420',\n",
       "    'opacity': 1,\n",
       "    'title': 'Typhoons Q2',\n",
       "    'url': 'https://services.arcgis.com/P3ePLMYs2RVChkJx/arcgis/rest/services/PacificTyphoons2005_WFL/FeatureServer/4',\n",
       "    'visibility': False,\n",
       "    'layerType': 'ArcGISFeatureLayer',\n",
       "    'layerDefinition': {'elevationInfo': {'mode': 'absoluteHeight'},\n",
       "     'drawingInfo': {'renderer': {'type': 'simple',\n",
       "       'visualVariables': [{'type': 'sizeInfo',\n",
       "         'field': 'windspeed',\n",
       "         'minSize': 1,\n",
       "         'minDataValue': 0.0001,\n",
       "         'axis': 'height'},\n",
       "        {'type': 'sizeInfo',\n",
       "         'minSize': 100000,\n",
       "         'axis': 'widthAndDepth',\n",
       "         'valueUnit': 'meters'},\n",
       "        {'type': 'colorInfo',\n",
       "         'field': 'airpressure',\n",
       "         'stops': [{'value': 920, 'color': [245, 0, 0, 255]},\n",
       "          {'value': 1014, 'color': [245, 245, 0, 255]}]}],\n",
       "       'description': '',\n",
       "       'label': '',\n",
       "       'symbol': {'type': 'styleSymbolReference',\n",
       "        'styleName': 'EsriThematicShapesStyle',\n",
       "        'name': 'Standing Cylinder'}}}},\n",
       "    'popupInfo': {'showAttachments': False,\n",
       "     'title': '{typhoon}',\n",
       "     'popupElements': [{'type': 'fields'}, {'type': 'media'}],\n",
       "     'mediaInfos': [{'type': 'image',\n",
       "       'title': \"<div><p style='font-weight:bold;'><span>{typhoonclass} {typhoon}</span></p></div>\",\n",
       "       'caption': \"<div><p><span style='font-weight:bold;'>Pressure: </span><span>{airpressure} hPa</span></p><p><span style='font-weight:bold;'>Wind speed: </span><span>{wind_mph} mph / {wind_kph} kph</span></p><p><p><span style='font-weight:bold;'>Date: </span><span>{timedescription}</span></p></div></p>\",\n",
       "       'value': {'sourceURL': '{image}'}}]}}],\n",
       "  'layerType': 'GroupLayer',\n",
       "  'visibilityMode': 'inherited'},\n",
       " {'id': '14a37c2a1a7-layer16',\n",
       "  'listMode': 'hide-children',\n",
       "  'opacity': 1,\n",
       "  'title': 'January - March',\n",
       "  'visibility': True,\n",
       "  'layers': [{'id': '16c9bf0e374443d394f0b77980171499',\n",
       "    'opacity': 1,\n",
       "    'title': 'Labels Q1',\n",
       "    'url': 'https://services.arcgis.com/P3ePLMYs2RVChkJx/arcgis/rest/services/PacificTyphoons2005_WFL/FeatureServer/2',\n",
       "    'visibility': True,\n",
       "    'layerType': 'ArcGISFeatureLayer',\n",
       "    'layerDefinition': {'elevationInfo': {'mode': 'absoluteHeight'},\n",
       "     'drawingInfo': {'renderer': {'type': 'simple',\n",
       "       'visualVariables': [{'type': 'sizeInfo',\n",
       "         'minSize': 25,\n",
       "         'axis': 'all',\n",
       "         'valueUnit': 'unknown'}],\n",
       "       'description': '',\n",
       "       'label': '',\n",
       "       'symbol': {'type': 'styleSymbolReference',\n",
       "        'styleName': 'EsriIconsStyle',\n",
       "        'name': 'Pushpin 1'}}}},\n",
       "    'showLabels': True,\n",
       "    'popupInfo': {'showAttachments': True,\n",
       "     'title': 'Labels Q1: {name}',\n",
       "     'fieldInfos': [{'fieldName': 'typhoonid',\n",
       "       'label': 'typhoonid',\n",
       "       'visible': True},\n",
       "      {'fieldName': 'name', 'label': 'name', 'visible': True},\n",
       "      {'fieldName': 'datedescription',\n",
       "       'label': 'datedescription',\n",
       "       'visible': True},\n",
       "      {'fieldName': 'ORIG_FID',\n",
       "       'label': 'ORIG_FID',\n",
       "       'visible': True,\n",
       "       'format': {'digitSeparator': True, 'places': 0}}],\n",
       "     'popupElements': [{'type': 'fields'}, {'type': 'attachments'}]}},\n",
       "   {'id': '3921d1e5c45c41b4a0b498df8fab4e2c',\n",
       "    'opacity': 1,\n",
       "    'title': 'Typhoons Q1',\n",
       "    'url': 'https://services.arcgis.com/P3ePLMYs2RVChkJx/arcgis/rest/services/PacificTyphoons2005_WFL/FeatureServer/1',\n",
       "    'visibility': True,\n",
       "    'layerType': 'ArcGISFeatureLayer',\n",
       "    'layerDefinition': {'elevationInfo': {'mode': 'absoluteHeight'},\n",
       "     'drawingInfo': {'renderer': {'type': 'simple',\n",
       "       'visualVariables': [{'type': 'sizeInfo',\n",
       "         'field': 'windspeed',\n",
       "         'minSize': 1,\n",
       "         'minDataValue': 0.0001,\n",
       "         'axis': 'height'},\n",
       "        {'type': 'sizeInfo',\n",
       "         'minSize': 100000,\n",
       "         'axis': 'widthAndDepth',\n",
       "         'valueUnit': 'meters'},\n",
       "        {'type': 'colorInfo',\n",
       "         'field': 'airpressure',\n",
       "         'stops': [{'value': 920, 'color': [245, 0, 0, 255]},\n",
       "          {'value': 1014, 'color': [245, 245, 0, 255]}]}],\n",
       "       'description': '',\n",
       "       'label': '',\n",
       "       'symbol': {'type': 'styleSymbolReference',\n",
       "        'styleName': 'EsriThematicShapesStyle',\n",
       "        'name': 'Standing Cylinder'}}}},\n",
       "    'popupInfo': {'showAttachments': False,\n",
       "     'title': '{typhoon}',\n",
       "     'popupElements': [{'type': 'fields'}, {'type': 'media'}],\n",
       "     'mediaInfos': [{'type': 'image',\n",
       "       'title': \"<div><p style='font-weight:bold;'><span>{typhoonclass} {typhoon}</span></p></div>\",\n",
       "       'caption': \"<div><p><span style='font-weight:bold;'>Pressure: </span><span>{airpressure} hPa</span></p><p><span style='font-weight:bold;'>Wind speed: </span><span>{wind_mph} mph / {wind_kph} kph</span></p><p><p><span style='font-weight:bold;'>Date: </span><span>{timedescription}</span></p></div></p>\",\n",
       "       'value': {'sourceURL': '{image}'}}]}}],\n",
       "  'layerType': 'GroupLayer',\n",
       "  'visibilityMode': 'inherited'}]"
      ]
     },
     "metadata": {},
     "output_type": "display_data"
    }
   ],
   "source": [
    "display(web_scene_obj['operationalLayers'])"
   ]
  },
  {
   "cell_type": "markdown",
   "metadata": {},
   "source": [
    "There is a lot of information displayed above. Let us drill into this and display only layer names and their urls. If you notice, some of the layers above are group layers, meaning, they contain sub layers. So let us write a loop like below and print some details."
   ]
  },
  {
   "cell_type": "code",
   "execution_count": 23,
   "metadata": {},
   "outputs": [
    {
     "name": "stdout",
     "output_type": "stream",
     "text": [
      "Typhoon Paths :: ArcGISFeatureLayer\n",
      "October - December :: GroupLayer\n",
      "\tLabels Q4 :: https://services.arcgis.com/P3ePLMYs2RVChkJx/arcgis/rest/services/PacificTyphoons2005_WFL/FeatureServer/17\n",
      "\tTyphoons Q4 :: https://services.arcgis.com/P3ePLMYs2RVChkJx/arcgis/rest/services/PacificTyphoons2005_WFL/FeatureServer/16\n",
      "September :: GroupLayer\n",
      "\tLabels Q3_3 :: https://services.arcgis.com/P3ePLMYs2RVChkJx/arcgis/rest/services/PacificTyphoons2005_WFL/FeatureServer/14\n",
      "\tTyphoons Q3_3 :: https://services.arcgis.com/P3ePLMYs2RVChkJx/arcgis/rest/services/PacificTyphoons2005_WFL/FeatureServer/13\n",
      "August :: GroupLayer\n",
      "\tLabels Q3_2 :: https://services.arcgis.com/P3ePLMYs2RVChkJx/arcgis/rest/services/PacificTyphoons2005_WFL/FeatureServer/11\n",
      "\tTyphoons Q3_2 :: https://services.arcgis.com/P3ePLMYs2RVChkJx/arcgis/rest/services/PacificTyphoons2005_WFL/FeatureServer/10\n",
      "July :: GroupLayer\n",
      "\tLabels Q3_1 :: https://services.arcgis.com/P3ePLMYs2RVChkJx/arcgis/rest/services/PacificTyphoons2005_WFL/FeatureServer/8\n",
      "\tTyphoons Q3_1 :: https://services.arcgis.com/P3ePLMYs2RVChkJx/arcgis/rest/services/PacificTyphoons2005_WFL/FeatureServer/7\n",
      "April - June :: GroupLayer\n",
      "\tLabels Q2 :: https://services.arcgis.com/P3ePLMYs2RVChkJx/arcgis/rest/services/PacificTyphoons2005_WFL/FeatureServer/5\n",
      "\tTyphoons Q2 :: https://services.arcgis.com/P3ePLMYs2RVChkJx/arcgis/rest/services/PacificTyphoons2005_WFL/FeatureServer/4\n",
      "January - March :: GroupLayer\n",
      "\tLabels Q1 :: https://services.arcgis.com/P3ePLMYs2RVChkJx/arcgis/rest/services/PacificTyphoons2005_WFL/FeatureServer/2\n",
      "\tTyphoons Q1 :: https://services.arcgis.com/P3ePLMYs2RVChkJx/arcgis/rest/services/PacificTyphoons2005_WFL/FeatureServer/1\n"
     ]
    }
   ],
   "source": [
    "for layer in web_scene_obj['operationalLayers']:\n",
    "    print(layer['title'] + \" :: \" + layer['layerType'])\n",
    "    if layer['layerType'] == 'GroupLayer':\n",
    "        for sub_layer in layer['layers']:\n",
    "            print(\"\\t\" + sub_layer['title'] + \" :: \"+ sub_layer['url'])"
   ]
  },
  {
   "cell_type": "markdown",
   "metadata": {},
   "source": [
    "We are only interested in the layers that correspond to cyclones in summer. From the above report, we understand that information is in a group layer with two sub layers. Let us extract just that dictionary and compose a new web scene data."
   ]
  },
  {
   "cell_type": "code",
   "execution_count": 24,
   "metadata": {},
   "outputs": [
    {
     "data": {
      "text/plain": [
       "[{'id': '14a37c397dc-layer17',\n",
       "  'listMode': 'hide-children',\n",
       "  'opacity': 1,\n",
       "  'title': 'April - June',\n",
       "  'visibility': False,\n",
       "  'layers': [{'id': '56803f3d64184140950f0ef1256a0603',\n",
       "    'opacity': 1,\n",
       "    'title': 'Labels Q2',\n",
       "    'url': 'https://services.arcgis.com/P3ePLMYs2RVChkJx/arcgis/rest/services/PacificTyphoons2005_WFL/FeatureServer/5',\n",
       "    'visibility': False,\n",
       "    'layerType': 'ArcGISFeatureLayer',\n",
       "    'layerDefinition': {'elevationInfo': {'mode': 'absoluteHeight'},\n",
       "     'drawingInfo': {'renderer': {'type': 'simple',\n",
       "       'visualVariables': [{'type': 'sizeInfo',\n",
       "         'minSize': 25,\n",
       "         'axis': 'all',\n",
       "         'valueUnit': 'unknown'}],\n",
       "       'description': '',\n",
       "       'label': '',\n",
       "       'symbol': {'type': 'styleSymbolReference',\n",
       "        'styleName': 'EsriIconsStyle',\n",
       "        'name': 'Pushpin 1'}}}},\n",
       "    'showLabels': True,\n",
       "    'popupInfo': {'showAttachments': True,\n",
       "     'title': 'Labels Q2: {name}',\n",
       "     'fieldInfos': [{'fieldName': 'typhoonid',\n",
       "       'label': 'typhoonid',\n",
       "       'visible': True},\n",
       "      {'fieldName': 'name', 'label': 'name', 'visible': True},\n",
       "      {'fieldName': 'datedescription',\n",
       "       'label': 'datedescription',\n",
       "       'visible': True},\n",
       "      {'fieldName': 'ORIG_FID',\n",
       "       'label': 'ORIG_FID',\n",
       "       'visible': True,\n",
       "       'format': {'digitSeparator': True, 'places': 0}}],\n",
       "     'popupElements': [{'type': 'fields'}, {'type': 'attachments'}]}},\n",
       "   {'id': '72668fcc8a904bd6a1444bef2e72f420',\n",
       "    'opacity': 1,\n",
       "    'title': 'Typhoons Q2',\n",
       "    'url': 'https://services.arcgis.com/P3ePLMYs2RVChkJx/arcgis/rest/services/PacificTyphoons2005_WFL/FeatureServer/4',\n",
       "    'visibility': False,\n",
       "    'layerType': 'ArcGISFeatureLayer',\n",
       "    'layerDefinition': {'elevationInfo': {'mode': 'absoluteHeight'},\n",
       "     'drawingInfo': {'renderer': {'type': 'simple',\n",
       "       'visualVariables': [{'type': 'sizeInfo',\n",
       "         'field': 'windspeed',\n",
       "         'minSize': 1,\n",
       "         'minDataValue': 0.0001,\n",
       "         'axis': 'height'},\n",
       "        {'type': 'sizeInfo',\n",
       "         'minSize': 100000,\n",
       "         'axis': 'widthAndDepth',\n",
       "         'valueUnit': 'meters'},\n",
       "        {'type': 'colorInfo',\n",
       "         'field': 'airpressure',\n",
       "         'stops': [{'value': 920, 'color': [245, 0, 0, 255]},\n",
       "          {'value': 1014, 'color': [245, 245, 0, 255]}]}],\n",
       "       'description': '',\n",
       "       'label': '',\n",
       "       'symbol': {'type': 'styleSymbolReference',\n",
       "        'styleName': 'EsriThematicShapesStyle',\n",
       "        'name': 'Standing Cylinder'}}}},\n",
       "    'popupInfo': {'showAttachments': False,\n",
       "     'title': '{typhoon}',\n",
       "     'popupElements': [{'type': 'fields'}, {'type': 'media'}],\n",
       "     'mediaInfos': [{'type': 'image',\n",
       "       'title': \"<div><p style='font-weight:bold;'><span>{typhoonclass} {typhoon}</span></p></div>\",\n",
       "       'caption': \"<div><p><span style='font-weight:bold;'>Pressure: </span><span>{airpressure} hPa</span></p><p><span style='font-weight:bold;'>Wind speed: </span><span>{wind_mph} mph / {wind_kph} kph</span></p><p><p><span style='font-weight:bold;'>Date: </span><span>{timedescription}</span></p></div></p>\",\n",
       "       'value': {'sourceURL': '{image}'}}]}}],\n",
       "  'layerType': 'GroupLayer',\n",
       "  'visibilityMode': 'inherited'}]"
      ]
     },
     "metadata": {},
     "output_type": "display_data"
    }
   ],
   "source": [
    "# Let us construct a list comprehension and mine out that group layer.\n",
    "subset_op_layers = [subset for subset in web_scene_obj['operationalLayers'] if subset['title'] == 'April - June']\n",
    "display(subset_op_layers)"
   ]
  },
  {
   "cell_type": "code",
   "execution_count": 25,
   "metadata": {},
   "outputs": [],
   "source": [
    "# Let us apply the changes to a new web scene object.\n",
    "new_web_scene_obj = web_scene_obj\n",
    "new_web_scene_obj['operationalLayers'] = subset_op_layers"
   ]
  },
  {
   "cell_type": "markdown",
   "metadata": {},
   "source": [
    "### Update basemap of new web scene\n",
    "We now have the necessary `operationalLayers` information. Let us also try to change the basemap to a darker shade. First let us search the basemaps available in the current portal. If no suitable one is found, we can widen the search outside the organization and use a basemap published by Esri.\n",
    "\n",
    "**Basemaps** are web maps that are stored in a **group** usually called **Basemaps**. Thus to get the list of basemaps available on a portal, we can find the basemaps group and list all web maps that are a part of it.\n",
    "\n",
    "To get the list of groups on the portal, we use `groups` property of the `GIS` class."
   ]
  },
  {
   "cell_type": "code",
   "execution_count": 28,
   "metadata": {},
   "outputs": [
    {
     "data": {
      "text/html": [
       "<div class=\"item_container\" style=\"height: auto; overflow: hidden; border: 1px solid #cfcfcf; border-radius: 2px; background: #f6fafa; line-height: 1.21429em; padding: 10px;\">\n",
       "                    <div class=\"item_left\" style=\"width: 210px; float: left;\">\n",
       "                       <a href='https://geosaurus.maps.arcgis.com/home/item.html?id=358ec1e175ea41c3bf5c68f0da11ae2b' target='_blank'>\n",
       "                        <img src='data:image/png;base64,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' width='200' height='133' class=\"itemThumbnail\">\n",
       "                       </a>\n",
       "                    </div>\n",
       "\n",
       "                    <div class=\"item_right\"     style=\"float: none; width: auto; overflow: hidden;\">\n",
       "                        <a href='https://geosaurus.maps.arcgis.com/home/item.html?id=358ec1e175ea41c3bf5c68f0da11ae2b' target='_blank'><b>Dark Gray Canvas</b>\n",
       "                        </a>\n",
       "                        <br/>This web map provides a detailed vector basemap for the world featuring a neutral background style with minimal colors, labels, and features.<img src='https://geosaurus.maps.arcgis.com/home/js/jsapi/esri/css/images/item_type_icons/maps16.png' style=\"vertical-align:middle;\" width=16 height=16>Web Map by esri\n",
       "                        <br/>Last Modified: January 03, 2024\n",
       "                        <br/>0 comments, 6291681 views\n",
       "                    </div>\n",
       "                </div>\n",
       "                "
      ],
      "text/plain": [
       "<Item title:\"Dark Gray Canvas\" type:Web Map owner:esri>"
      ]
     },
     "metadata": {},
     "output_type": "display_data"
    },
    {
     "name": "stdout",
     "output_type": "stream",
     "text": [
      "['basemap', 'esri_basemap', 'vector', 'canvas', 'dark', 'esri_vector', 'v2', 'general availability', 'basemaps', 'wma', 'World_Basemap_v2']\n"
     ]
    },
    {
     "data": {
      "text/html": [
       "<div class=\"item_container\" style=\"height: auto; overflow: hidden; border: 1px solid #cfcfcf; border-radius: 2px; background: #f6fafa; line-height: 1.21429em; padding: 10px;\">\n",
       "                    <div class=\"item_left\" style=\"width: 210px; float: left;\">\n",
       "                       <a href='https://geosaurus.maps.arcgis.com/home/item.html?id=4f2e99ba65e34bb8af49733d9778fb8e' target='_blank'>\n",
       "                        <img src='data:image/png;base64,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' width='200' height='133' class=\"itemThumbnail\">\n",
       "                       </a>\n",
       "                    </div>\n",
       "\n",
       "                    <div class=\"item_right\"     style=\"float: none; width: auto; overflow: hidden;\">\n",
       "                        <a href='https://geosaurus.maps.arcgis.com/home/item.html?id=4f2e99ba65e34bb8af49733d9778fb8e' target='_blank'><b>Human Geography Dark Map</b>\n",
       "                        </a>\n",
       "                        <br/>This web map consists of vector tile layers that form a detailed basemap for the world, featuring a dark monochromatic style with content adjusted to support Human Geography information.<img src='https://geosaurus.maps.arcgis.com/home/js/jsapi/esri/css/images/item_type_icons/maps16.png' style=\"vertical-align:middle;\" width=16 height=16>Web Map by esri\n",
       "                        <br/>Last Modified: January 03, 2024\n",
       "                        <br/>2 comments, 233231500 views\n",
       "                    </div>\n",
       "                </div>\n",
       "                "
      ],
      "text/plain": [
       "<Item title:\"Human Geography Dark Map\" type:Web Map owner:esri>"
      ]
     },
     "metadata": {},
     "output_type": "display_data"
    },
    {
     "name": "stdout",
     "output_type": "stream",
     "text": [
      "['vector', 'basemap', 'esri_vector', 'style', 'sample', 'web map', 'human geography', 'dark', 'human geography dark', 'esri_basemap', 'Andrew Skinner', 'creative']\n"
     ]
    },
    {
     "data": {
      "text/html": [
       "<div class=\"item_container\" style=\"height: auto; overflow: hidden; border: 1px solid #cfcfcf; border-radius: 2px; background: #f6fafa; line-height: 1.21429em; padding: 10px;\">\n",
       "                    <div class=\"item_left\" style=\"width: 210px; float: left;\">\n",
       "                       <a href='https://geosaurus.maps.arcgis.com/home/item.html?id=89d9434fb5314a4983446df405e59ca9' target='_blank'>\n",
       "                        <img src='data:image/png;base64,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' width='200' height='133' class=\"itemThumbnail\">\n",
       "                       </a>\n",
       "                    </div>\n",
       "\n",
       "                    <div class=\"item_right\"     style=\"float: none; width: auto; overflow: hidden;\">\n",
       "                        <a href='https://geosaurus.maps.arcgis.com/home/item.html?id=89d9434fb5314a4983446df405e59ca9' target='_blank'><b>NZ Dark Grey Canvas (Classic) (Mature Support) </b>\n",
       "                        </a>\n",
       "                        <br/>NZ Canvas Dark Basemap draws attention to your thematic content by providing a dark, neutral background with minimal colors, labels, and features. <img src='https://geosaurus.maps.arcgis.com/home/js/jsapi/esri/css/images/item_type_icons/maps16.png' style=\"vertical-align:middle;\" width=16 height=16>Web Map by eaglegis\n",
       "                        <br/>Last Modified: September 29, 2022\n",
       "                        <br/>0 comments, 1238871 views\n",
       "                    </div>\n",
       "                </div>\n",
       "                "
      ],
      "text/plain": [
       "<Item title:\"NZ Dark Grey Canvas (Classic) (Mature Support) \" type:Web Map owner:eaglegis>"
      ]
     },
     "metadata": {},
     "output_type": "display_data"
    },
    {
     "name": "stdout",
     "output_type": "stream",
     "text": [
      "['NZ', 'New zealand', 'Basemap', 'Dark Canvas', 'Basemaps', 'esri_basemap', 'parcels', 'urban', 'public', 'Dark Grey', 'Canvas', 'New Zealand', 'Kiwi', 'Map', 'Background', 'Layer', 'topographic', 'topography', 'content', 'living atlas', 'basemaps', 'esri_basemaps', 'detailed', 'digital map', 'KiwiRail', 'Linz', 'NZTA', 'current', 'open data', 'data sets', 'mature support', 'deprecated', 'eaglegis']\n"
     ]
    },
    {
     "data": {
      "text/html": [
       "<div class=\"item_container\" style=\"height: auto; overflow: hidden; border: 1px solid #cfcfcf; border-radius: 2px; background: #f6fafa; line-height: 1.21429em; padding: 10px;\">\n",
       "                    <div class=\"item_left\" style=\"width: 210px; float: left;\">\n",
       "                       <a href='https://geosaurus.maps.arcgis.com/home/item.html?id=1a386c5dfd864bfda3f03ab428e57640' target='_blank'>\n",
       "                        <img src='data:image/png;base64,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' width='200' height='133' class=\"itemThumbnail\">\n",
       "                       </a>\n",
       "                    </div>\n",
       "\n",
       "                    <div class=\"item_right\"     style=\"float: none; width: auto; overflow: hidden;\">\n",
       "                        <a href='https://geosaurus.maps.arcgis.com/home/item.html?id=1a386c5dfd864bfda3f03ab428e57640' target='_blank'><b>Dark Gray Canvas (WGS84)</b>\n",
       "                        </a>\n",
       "                        <br/>This web map provides a detailed vector basemap for the world featuring a neutral background style with minimal colors, labels, and features. It uses WGS84 Geographic, version 2 tiling scheme.<img src='https://geosaurus.maps.arcgis.com/home/js/jsapi/esri/css/images/item_type_icons/maps16.png' style=\"vertical-align:middle;\" width=16 height=16>Web Map by esri\n",
       "                        <br/>Last Modified: January 03, 2024\n",
       "                        <br/>2 comments, 433255 views\n",
       "                    </div>\n",
       "                </div>\n",
       "                "
      ],
      "text/plain": [
       "<Item title:\"Dark Gray Canvas (WGS84)\" type:Web Map owner:esri>"
      ]
     },
     "metadata": {},
     "output_type": "display_data"
    },
    {
     "name": "stdout",
     "output_type": "stream",
     "text": [
      "['esri_basemap', 'esri_vector', 'GCS', 'WGS84', 'canvas', 'dark gray', 'v2', 'general availability', 'basemaps', 'World_Basemap_GCS_v2', 'vector', 'basemap', 'gcs', 'wkid 4326']\n"
     ]
    },
    {
     "data": {
      "text/html": [
       "<div class=\"item_container\" style=\"height: auto; overflow: hidden; border: 1px solid #cfcfcf; border-radius: 2px; background: #f6fafa; line-height: 1.21429em; padding: 10px;\">\n",
       "                    <div class=\"item_left\" style=\"width: 210px; float: left;\">\n",
       "                       <a href='https://geosaurus.maps.arcgis.com/home/item.html?id=3e23478909194c54992eaaee78b5f754' target='_blank'>\n",
       "                        <img src='data:image/png;base64,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' width='200' height='133' class=\"itemThumbnail\">\n",
       "                       </a>\n",
       "                    </div>\n",
       "\n",
       "                    <div class=\"item_right\"     style=\"float: none; width: auto; overflow: hidden;\">\n",
       "                        <a href='https://geosaurus.maps.arcgis.com/home/item.html?id=3e23478909194c54992eaaee78b5f754' target='_blank'><b>Enhanced Contrast Dark Map</b>\n",
       "                        </a>\n",
       "                        <br/>This web map provides a detailed vector basemap for the world with dark colors and enhanced contrast that aim to meet the standards for WCAG and US Government Section 508 compliance. The map detail is built with higher contrast and color-vision-deficient-safe colors.<img src='https://geosaurus.maps.arcgis.com/home/js/jsapi/esri/css/images/item_type_icons/maps16.png' style=\"vertical-align:middle;\" width=16 height=16>Web Map by esri_vector\n",
       "                        <br/>Last Modified: January 03, 2024\n",
       "                        <br/>0 comments, 65209531 views\n",
       "                    </div>\n",
       "                </div>\n",
       "                "
      ],
      "text/plain": [
       "<Item title:\"Enhanced Contrast Dark Map\" type:Web Map owner:esri_vector>"
      ]
     },
     "metadata": {},
     "output_type": "display_data"
    },
    {
     "name": "stdout",
     "output_type": "stream",
     "text": [
      "['enhanced contrast', 'dark', 'night', 'base', 'basemap', 'basemaps', 'esri_vector', 'Esri Vector Basemaps', 'esri_basemap', 'esri_basemaps', 'WGAC', 'Section 508', 'accessibility', 'reference', 'web map', 'wma', 'World_Basemap_v2', 'general availability']\n"
     ]
    },
    {
     "data": {
      "text/html": [
       "<div class=\"item_container\" style=\"height: auto; overflow: hidden; border: 1px solid #cfcfcf; border-radius: 2px; background: #f6fafa; line-height: 1.21429em; padding: 10px;\">\n",
       "                    <div class=\"item_left\" style=\"width: 210px; float: left;\">\n",
       "                       <a href='https://geosaurus.maps.arcgis.com/home/item.html?id=c9531c26bf874246a1dd39a737bbbd04' target='_blank'>\n",
       "                        <img src='data:image/png;base64,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' width='200' height='133' class=\"itemThumbnail\">\n",
       "                       </a>\n",
       "                    </div>\n",
       "\n",
       "                    <div class=\"item_right\"     style=\"float: none; width: auto; overflow: hidden;\">\n",
       "                        <a href='https://geosaurus.maps.arcgis.com/home/item.html?id=c9531c26bf874246a1dd39a737bbbd04' target='_blank'><b>Starter Map - Vector Layers (Dark Gray)</b>\n",
       "                        </a>\n",
       "                        <br/><img src='https://geosaurus.maps.arcgis.com/home/js/jsapi/esri/css/images/item_type_icons/maps16.png' style=\"vertical-align:middle;\" width=16 height=16>Web Map by pdx.maps.admin\n",
       "                        <br/>Last Modified: September 13, 2021\n",
       "                        <br/>0 comments, 720 views\n",
       "                    </div>\n",
       "                </div>\n",
       "                "
      ],
      "text/plain": [
       "<Item title:\"Starter Map - Vector Layers (Dark Gray)\" type:Web Map owner:pdx.maps.admin>"
      ]
     },
     "metadata": {},
     "output_type": "display_data"
    },
    {
     "name": "stdout",
     "output_type": "stream",
     "text": [
      "['Portland', 'PDX', 'Basemap', 'Gray', 'Dark']\n"
     ]
    },
    {
     "data": {
      "text/html": [
       "<div class=\"item_container\" style=\"height: auto; overflow: hidden; border: 1px solid #cfcfcf; border-radius: 2px; background: #f6fafa; line-height: 1.21429em; padding: 10px;\">\n",
       "                    <div class=\"item_left\" style=\"width: 210px; float: left;\">\n",
       "                       <a href='https://geosaurus.maps.arcgis.com/home/item.html?id=459cc334740944d38580455a0a777a24' target='_blank'>\n",
       "                        <img src='data:image/png;base64,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' width='200' height='133' class=\"itemThumbnail\">\n",
       "                       </a>\n",
       "                    </div>\n",
       "\n",
       "                    <div class=\"item_right\"     style=\"float: none; width: auto; overflow: hidden;\">\n",
       "                        <a href='https://geosaurus.maps.arcgis.com/home/item.html?id=459cc334740944d38580455a0a777a24' target='_blank'><b>Navigation (Dark)</b>\n",
       "                        </a>\n",
       "                        <br/>This web map provides a detailed basemap for the world featuring a 'dark mode' version of the Navigation vector basemap, using the same content.<img src='https://geosaurus.maps.arcgis.com/home/js/jsapi/esri/css/images/item_type_icons/maps16.png' style=\"vertical-align:middle;\" width=16 height=16>Web Map by esri\n",
       "                        <br/>Last Modified: January 03, 2024\n",
       "                        <br/>0 comments, 233612596 views\n",
       "                    </div>\n",
       "                </div>\n",
       "                "
      ],
      "text/plain": [
       "<Item title:\"Navigation (Dark)\" type:Web Map owner:esri>"
      ]
     },
     "metadata": {},
     "output_type": "display_data"
    },
    {
     "name": "stdout",
     "output_type": "stream",
     "text": [
      "['v2', 'wma', 'World_Basemap_v2', 'global', 'basemaps', 'vector', 'basemap', 'esri_basemap', 'general availability', 'navigation', 'dark', 'dark mode', 'esri_vector']\n"
     ]
    },
    {
     "data": {
      "text/html": [
       "<div class=\"item_container\" style=\"height: auto; overflow: hidden; border: 1px solid #cfcfcf; border-radius: 2px; background: #f6fafa; line-height: 1.21429em; padding: 10px;\">\n",
       "                    <div class=\"item_left\" style=\"width: 210px; float: left;\">\n",
       "                       <a href='https://geosaurus.maps.arcgis.com/home/item.html?id=a343955125bf4002987c400ad6d0346c' target='_blank'>\n",
       "                        <img src='data:image/png;base64,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' width='200' height='133' class=\"itemThumbnail\">\n",
       "                       </a>\n",
       "                    </div>\n",
       "\n",
       "                    <div class=\"item_right\"     style=\"float: none; width: auto; overflow: hidden;\">\n",
       "                        <a href='https://geosaurus.maps.arcgis.com/home/item.html?id=a343955125bf4002987c400ad6d0346c' target='_blank'><b>Dark Gray Canvas</b>\n",
       "                        </a>\n",
       "                        <br/>This map is designed to focus attention on your thematic content by providing a neutral background with minimal colors, labels, and features.<img src='https://geosaurus.maps.arcgis.com/home/js/jsapi/esri/css/images/item_type_icons/maps16.png' style=\"vertical-align:middle;\" width=16 height=16>Web Map by esri_en\n",
       "                        <br/>Last Modified: October 25, 2023\n",
       "                        <br/>1 comments, 309322927 views\n",
       "                    </div>\n",
       "                </div>\n",
       "                "
      ],
      "text/plain": [
       "<Item title:\"Dark Gray Canvas\" type:Web Map owner:esri_en>"
      ]
     },
     "metadata": {},
     "output_type": "display_data"
    },
    {
     "name": "stdout",
     "output_type": "stream",
     "text": [
      "['basemap', 'vector']\n"
     ]
    },
    {
     "data": {
      "text/html": [
       "<div class=\"item_container\" style=\"height: auto; overflow: hidden; border: 1px solid #cfcfcf; border-radius: 2px; background: #f6fafa; line-height: 1.21429em; padding: 10px;\">\n",
       "                    <div class=\"item_left\" style=\"width: 210px; float: left;\">\n",
       "                       <a href='https://geosaurus.maps.arcgis.com/home/item.html?id=25869b8718c0419db87dad07de5b02d8' target='_blank'>\n",
       "                        <img src='data:image/png;base64,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' width='200' height='133' class=\"itemThumbnail\">\n",
       "                       </a>\n",
       "                    </div>\n",
       "\n",
       "                    <div class=\"item_right\"     style=\"float: none; width: auto; overflow: hidden;\">\n",
       "                        <a href='https://geosaurus.maps.arcgis.com/home/item.html?id=25869b8718c0419db87dad07de5b02d8' target='_blank'><b>Dark Gray Canvas</b>\n",
       "                        </a>\n",
       "                        <br/>This item is in mature support.<img src='https://geosaurus.maps.arcgis.com/home/js/jsapi/esri/css/images/item_type_icons/maps16.png' style=\"vertical-align:middle;\" width=16 height=16>Web Map by esri_en\n",
       "                        <br/>Last Modified: September 21, 2021\n",
       "                        <br/>6 comments, 72238051 views\n",
       "                    </div>\n",
       "                </div>\n",
       "                "
      ],
      "text/plain": [
       "<Item title:\"Dark Gray Canvas\" type:Web Map owner:esri_en>"
      ]
     },
     "metadata": {},
     "output_type": "display_data"
    },
    {
     "name": "stdout",
     "output_type": "stream",
     "text": [
      "['basemap']\n"
     ]
    },
    {
     "data": {
      "text/html": [
       "<div class=\"item_container\" style=\"height: auto; overflow: hidden; border: 1px solid #cfcfcf; border-radius: 2px; background: #f6fafa; line-height: 1.21429em; padding: 10px;\">\n",
       "                    <div class=\"item_left\" style=\"width: 210px; float: left;\">\n",
       "                       <a href='https://geosaurus.maps.arcgis.com/home/item.html?id=7d3f2c7682ae414ab0df9e45ffe245d9' target='_blank'>\n",
       "                        <img src='data:image/png;base64,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' width='200' height='133' class=\"itemThumbnail\">\n",
       "                       </a>\n",
       "                    </div>\n",
       "\n",
       "                    <div class=\"item_right\"     style=\"float: none; width: auto; overflow: hidden;\">\n",
       "                        <a href='https://geosaurus.maps.arcgis.com/home/item.html?id=7d3f2c7682ae414ab0df9e45ffe245d9' target='_blank'><b>Dark Gray Canvas</b>\n",
       "                        </a>\n",
       "                        <br/>Dark gray canvas basemap from esri<img src='https://geosaurus.maps.arcgis.com/home/js/jsapi/esri/css/images/item_type_icons/maps16.png' style=\"vertical-align:middle;\" width=16 height=16>Web Map by karmstrongSEEM\n",
       "                        <br/>Last Modified: January 13, 2015\n",
       "                        <br/>0 comments, 271 views\n",
       "                    </div>\n",
       "                </div>\n",
       "                "
      ],
      "text/plain": [
       "<Item title:\"Dark Gray Canvas\" type:Web Map owner:karmstrongSEEM>"
      ]
     },
     "metadata": {},
     "output_type": "display_data"
    },
    {
     "name": "stdout",
     "output_type": "stream",
     "text": [
      "['basemap']\n"
     ]
    }
   ],
   "source": [
    "basemap_search = gis.content.search('title:dark', \n",
    "                                    outside_org=True, item_type='web map')\n",
    "for item in basemap_search:\n",
    "    display(item)\n",
    "    print(item.tags)"
   ]
  },
  {
   "cell_type": "markdown",
   "metadata": {},
   "source": [
    "We have found the basemap of our choice. Let us read it as a **`WebMap`** object and query the `baseMap` dictionary."
   ]
  },
  {
   "cell_type": "code",
   "execution_count": 29,
   "metadata": {
    "scrolled": true
   },
   "outputs": [
    {
     "data": {
      "text/plain": [
       "{\n",
       "  \"baseMapLayers\": [\n",
       "    {\n",
       "      \"opacity\": 1,\n",
       "      \"title\": \"World Dark Gray Canvas Base\",\n",
       "      \"url\": \"https://services.arcgisonline.com/arcgis/rest/services/Canvas/World_Dark_Gray_Base/MapServer\",\n",
       "      \"visibility\": true,\n",
       "      \"layerType\": \"ArcGISTiledMapServiceLayer\",\n",
       "      \"id\": \"layer0\"\n",
       "    },\n",
       "    {\n",
       "      \"opacity\": 1,\n",
       "      \"title\": \"World Dark Gray Reference\",\n",
       "      \"url\": \"https://services.arcgisonline.com/arcgis/rest/services/Canvas/World_Dark_Gray_Reference/MapServer\",\n",
       "      \"visibility\": true,\n",
       "      \"layerType\": \"ArcGISTiledMapServiceLayer\",\n",
       "      \"isReference\": true,\n",
       "      \"id\": \"World_Dark_Gray_Reference_8618\"\n",
       "    }\n",
       "  ],\n",
       "  \"title\": \"Dark Gray Canvas\"\n",
       "}"
      ]
     },
     "execution_count": 29,
     "metadata": {},
     "output_type": "execute_result"
    }
   ],
   "source": [
    "dark_basemap_item = basemap_search[-2]\n",
    "dark_basemap_obj = WebMap(dark_basemap_item)\n",
    "dark_basemap_obj.basemap"
   ]
  },
  {
   "cell_type": "markdown",
   "metadata": {},
   "source": [
    "Now let us explore what the `baseMap` dictionary of the **web scene** looks like."
   ]
  },
  {
   "cell_type": "code",
   "execution_count": 30,
   "metadata": {},
   "outputs": [
    {
     "data": {
      "text/plain": [
       "{'baseMapLayers': [{'id': '73e9780a7d6f413f8547abbd19ec786c',\n",
       "   'opacity': 1,\n",
       "   'title': 'World Topo Map',\n",
       "   'url': 'https://services.arcgisonline.com/ArcGIS/rest/services/World_Topo_Map/MapServer',\n",
       "   'visibility': True,\n",
       "   'layerType': 'ArcGISTiledMapServiceLayer'}],\n",
       " 'id': 'basemap',\n",
       " 'title': 'Topographic',\n",
       " 'elevationLayers': [{'id': 'globalElevation_0',\n",
       "   'listMode': 'hide',\n",
       "   'title': 'Terrain3D',\n",
       "   'url': 'https://elevation3d.arcgis.com/arcgis/rest/services/WorldElevation3D/Terrain3D/ImageServer',\n",
       "   'visibility': True,\n",
       "   'layerType': 'ArcGISTiledElevationServiceLayer'}]}"
      ]
     },
     "execution_count": 30,
     "metadata": {},
     "output_type": "execute_result"
    }
   ],
   "source": [
    "new_web_scene_obj['baseMap']"
   ]
  },
  {
   "cell_type": "markdown",
   "metadata": {},
   "source": [
    "To get the desired basemap, we need to update the `url` key-value pair of the web scene's `baseMap` dictionary. Here we will pick the first layer of the dark basemap web map."
   ]
  },
  {
   "cell_type": "code",
   "execution_count": 32,
   "metadata": {},
   "outputs": [],
   "source": [
    "new_web_scene_obj['baseMap']['baseMapLayers'][0]['url'] = dark_basemap_obj.basemap['baseMapLayers'][0]['url']"
   ]
  },
  {
   "cell_type": "markdown",
   "metadata": {},
   "source": [
    "Now that we have performed the necessary updates, we can go ahead and publish this as a new web scene item on our portal."
   ]
  },
  {
   "cell_type": "code",
   "execution_count": 35,
   "metadata": {},
   "outputs": [
    {
     "data": {
      "text/html": [
       "<div class=\"item_container\" style=\"height: auto; overflow: hidden; border: 1px solid #cfcfcf; border-radius: 2px; background: #f6fafa; line-height: 1.21429em; padding: 10px;\">\n",
       "                    <div class=\"item_left\" style=\"width: 210px; float: left;\">\n",
       "                       <a href='https://geosaurus.maps.arcgis.com/home/item.html?id=7161b0830fcb4f48abf1d42890884173' target='_blank'>\n",
       "                        <img src='http://static.arcgis.com/images/desktopapp.png' class=\"itemThumbnail\">\n",
       "                       </a>\n",
       "                    </div>\n",
       "\n",
       "                    <div class=\"item_right\"     style=\"float: none; width: auto; overflow: hidden;\">\n",
       "                        <a href='https://geosaurus.maps.arcgis.com/home/item.html?id=7161b0830fcb4f48abf1d42890884173' target='_blank'><b>Toprical Cyclones - Summer</b>\n",
       "                        </a>\n",
       "                        <br/>Subset of <a href='https://www.arcgis.com/home/item.html?id=193a0e0ed72f413d8cdc649be637a846' rel='nofollow ugc'>Western Pacific Typhoons (2005)</a> published by esri_3d<img src='https://geosaurus.maps.arcgis.com/home/js/jsapi/esri/css/images/item_type_icons/websceneglobal16.png' style=\"vertical-align:middle;\" width=16 height=16>Web Scene by arcgis_python\n",
       "                        <br/>Last Modified: January 09, 2024\n",
       "                        <br/>0 comments, 0 views\n",
       "                    </div>\n",
       "                </div>\n",
       "                "
      ],
      "text/plain": [
       "<Item title:\"Toprical Cyclones - Summer\" type:Web Scene owner:arcgis_python>"
      ]
     },
     "execution_count": 35,
     "metadata": {},
     "output_type": "execute_result"
    }
   ],
   "source": [
    "new_web_scene_properties= {'title':'Toprical Cyclones - Summer',\n",
    "                          'type' : 'Web Scene',\n",
    "                          'tags' : 'ArcGIS Python API',\n",
    "                          'snippet' : str.format('Subset of <a href={2}>{0}</a> published by {1}',\n",
    "                                                 web_scene_item.title, web_scene_item.owner,\n",
    "                                                \"https://www.arcgis.com/home/item.html?id=\" + web_scene_item.id),\n",
    "                          'text' : json.dumps(new_web_scene_obj)}\n",
    "\n",
    "new_item = gis.content.add(new_web_scene_properties)\n",
    "new_item"
   ]
  },
  {
   "cell_type": "markdown",
   "metadata": {},
   "source": [
    "We have successfully published the new web scene. Now let us display in an interactive widget and observe if it has the necessary updates."
   ]
  },
  {
   "cell_type": "code",
   "execution_count": 36,
   "metadata": {},
   "outputs": [
    {
     "data": {
      "application/vnd.jupyter.widget-view+json": {
       "model_id": "0cae45534aec45cbb67a5be824f99e3e",
       "version_major": 2,
       "version_minor": 0
      },
      "text/plain": [
       "MapView(hide_mode_switch=True, layout=Layout(height='400px', width='100%'), mode='3D')"
      ]
     },
     "metadata": {},
     "output_type": "display_data"
    },
    {
     "data": {
      "text/html": [
       "<div class=\"map-static-img-preview-29495c30-4cd3-4a13-b87e-11662a98254b\"><img src=\"\"></img></div>"
      ],
      "text/plain": [
       "<IPython.core.display.HTML object>"
      ]
     },
     "metadata": {},
     "output_type": "display_data"
    },
    {
     "data": {
      "text/html": [
       "<div class=\"map-html-embed-preview-29495c30-4cd3-4a13-b87e-11662a98254b\"></div>"
      ],
      "text/plain": [
       "<IPython.core.display.HTML object>"
      ]
     },
     "metadata": {},
     "output_type": "display_data"
    }
   ],
   "source": [
    "new_item.share(True)\n",
    "new_web_scene_obj = WebScene(new_item)\n",
    "new_web_scene_obj"
   ]
  },
  {
   "cell_type": "markdown",
   "metadata": {},
   "source": [
    "Our required updates have been applied to the new web scene. However notice the **April - June** layer is **turned off** by default. Let us fix that and update the web scene.\n",
    "\n",
    "Let us query the `operationalLayer` dictionary of the new web scene and look for a key called `visibility`."
   ]
  },
  {
   "cell_type": "code",
   "execution_count": 37,
   "metadata": {},
   "outputs": [
    {
     "name": "stdout",
     "output_type": "stream",
     "text": [
      "False\n"
     ]
    }
   ],
   "source": [
    "for layer in new_web_scene_obj['operationalLayers']:\n",
    "    print(layer['visibility'])"
   ]
  },
  {
   "cell_type": "markdown",
   "metadata": {},
   "source": [
    "As we know, there is just 1 group layer and it is turned off. Let us change that and update the web scene."
   ]
  },
  {
   "cell_type": "code",
   "execution_count": 38,
   "metadata": {},
   "outputs": [],
   "source": [
    "for layer in new_web_scene_obj['operationalLayers']:\n",
    "    layer['visibility'] = True"
   ]
  },
  {
   "cell_type": "markdown",
   "metadata": {},
   "source": [
    "To update the web scene call the `update()` method on the web scene object."
   ]
  },
  {
   "cell_type": "code",
   "execution_count": 39,
   "metadata": {},
   "outputs": [
    {
     "data": {
      "application/vnd.jupyter.widget-view+json": {
       "model_id": "c22623157d524a21bc9c8c56c4555fd3",
       "version_major": 2,
       "version_minor": 0
      },
      "text/plain": [
       "MapView(hide_mode_switch=True, layout=Layout(height='400px', width='100%'), mode='3D')"
      ]
     },
     "metadata": {},
     "output_type": "display_data"
    },
    {
     "data": {
      "text/html": [
       "<div class=\"map-static-img-preview-df7e91ba-0be3-44f2-8c60-bda7670bf6aa\"><img src=\"\"></img></div>"
      ],
      "text/plain": [
       "<IPython.core.display.HTML object>"
      ]
     },
     "metadata": {},
     "output_type": "display_data"
    },
    {
     "data": {
      "text/html": [
       "<div class=\"map-html-embed-preview-df7e91ba-0be3-44f2-8c60-bda7670bf6aa\"></div>"
      ],
      "text/plain": [
       "<IPython.core.display.HTML object>"
      ]
     },
     "metadata": {},
     "output_type": "display_data"
    }
   ],
   "source": [
    "new_web_scene_obj.update()\n",
    "new_web_scene_obj"
   ]
  },
  {
   "cell_type": "markdown",
   "metadata": {},
   "source": [
    "# Summary\n",
    "In this sample, we observed how to consume web maps, web scenes and how to update them. During this process, the sample showed how to read a web feature layers, how to use geocoding to get co-ordinates of a point of interest, how to modify the map widget using code, how to make copy of an existing item into your account, how to look for basemaps and finally, how to update layer properties within a web scene."
   ]
  }
 ],
 "metadata": {
  "anaconda-cloud": {},
  "esriNotebookRuntime": {
   "notebookRuntimeName": "ArcGIS Notebook Python 3 Standard",
   "notebookRuntimeVersion": "5.0"
  },
  "kernelspec": {
   "display_name": "Python 3 (ipykernel)",
   "language": "python",
   "name": "python3"
  },
  "language_info": {
   "codemirror_mode": {
    "name": "ipython",
    "version": 3
   },
   "file_extension": ".py",
   "mimetype": "text/x-python",
   "name": "python",
   "nbconvert_exporter": "python",
   "pygments_lexer": "ipython3",
   "version": "3.9.18"
  },
  "toc": {
   "base_numbering": 1,
   "nav_menu": {},
   "number_sections": true,
   "sideBar": true,
   "skip_h1_title": false,
   "title_cell": "Table of Contents",
   "title_sidebar": "Contents",
   "toc_cell": true,
   "toc_position": {},
   "toc_section_display": true,
   "toc_window_display": true
  }
 },
 "nbformat": 4,
 "nbformat_minor": 1
}
