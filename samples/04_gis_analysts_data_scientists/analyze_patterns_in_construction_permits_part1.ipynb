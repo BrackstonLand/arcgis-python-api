{
 "cells": [
  {
   "cell_type": "markdown",
   "metadata": {},
   "source": [
    "# Data Visualization - Construction permits, part 1/2"
   ]
  },
  {
   "cell_type": "markdown",
   "metadata": {
    "toc": true
   },
   "source": [
    "<h1>Table of Contents<span class=\"tocSkip\"></span></h1>\n",
    "<div class=\"toc\"><ul class=\"toc-item\"><li><span><a href=\"#Overview\" data-toc-modified-id=\"Overview-1\">Overview</a></span></li><li><span><a href=\"#Explore-the-data\" data-toc-modified-id=\"Explore-the-data-2\">Explore the data</a></span><ul class=\"toc-item\"><li><span><a href=\"#Data-Exploration\" data-toc-modified-id=\"Data-Exploration-2.1\">Data Exploration</a></span></li></ul></li><li><span><a href=\"#Permits-by-Status\" data-toc-modified-id=\"Permits-by-Status-3\">Permits by Status</a></span></li><li><span><a href=\"#Permits-by-Type\" data-toc-modified-id=\"Permits-by-Type-4\">Permits by Type</a></span><ul class=\"toc-item\"><li><span><a href=\"#Clean-up-the-data\" data-toc-modified-id=\"Clean-up-the-data-4.1\">Clean up the data</a></span></li><li><span><a href=\"#Filter-the-permits\" data-toc-modified-id=\"Filter-the-permits-4.2\">Filter the permits</a></span></li><li><span><a href=\"#Visualize-filtered-dataset\" data-toc-modified-id=\"Visualize-filtered-dataset-4.3\">Visualize filtered dataset</a></span></li></ul></li><li><span><a href=\"#Visualize-temporal-and-spatial-trends\" data-toc-modified-id=\"Visualize-temporal-and-spatial-trends-5\">Visualize temporal and spatial trends</a></span><ul class=\"toc-item\"><li><span><a href=\"#Visualize-permits-by-time-of-issue\" data-toc-modified-id=\"Visualize-permits-by-time-of-issue-5.1\">Visualize permits by time of issue</a></span></li></ul></li></ul></div>"
   ]
  },
  {
   "cell_type": "markdown",
   "metadata": {},
   "source": [
    "## Overview"
   ]
  },
  {
   "cell_type": "markdown",
   "metadata": {},
   "source": [
    "One indicator of a region's growth is the number of permits issued for new construction. Exploring and analyzing permit activity can help regional planners ensure that development occurs in accordance to the area's long-term goals. One area that has recently experienced rapid growth is Montgomery County, Maryland, a suburban county near Washington, D.C. County planners want to observe spatial and temporal growth trends, find out why certain areas are growing faster than others, and communicate key information about the county's growth to the public.\n",
    "\n",
    "In this notebook, you'll explore Montgomery County permit data. First, you'll add the permit data from ArcGIS Living Atlas of the World. You'll explore the data and become familiar with exactly what kind of information it contains. Then, you'll analyze the data to detect patterns and find out why growth is occurring. Once you've gathered your findings from your exploration and analysis, you'll share your work online."
   ]
  },
  {
   "cell_type": "markdown",
   "metadata": {},
   "source": [
    "## Explore the data\n",
    "\n",
    "To better understand trends in permit activity in Montgomery County, you'll add a dataset of permits issued since 2010. Before you begin your analysis, however, it's important to explore your data and understand what it shows and does not show. You'll familiarize yourself with the data's attributes, sort the data by type, and visualize spatial and temporal trends. In doing so, you'll gain context for your analysis and know exactly which questions you still need to ask to find out why, where, and when growth is occurring."
   ]
  },
  {
   "cell_type": "markdown",
   "metadata": {},
   "source": [
    "Connect to your ArcGIS online organization."
   ]
  },
  {
   "cell_type": "code",
   "execution_count": 2,
   "metadata": {},
   "outputs": [],
   "source": [
    "from arcgis.gis import GIS\n",
    "import pandas as pd\n",
    "\n",
    "from arcgis.features import GeoAccessor, GeoSeriesAccessor"
   ]
  },
  {
   "cell_type": "code",
   "execution_count": 3,
   "metadata": {},
   "outputs": [],
   "source": [
    "agol_gis = GIS()"
   ]
  },
  {
   "cell_type": "markdown",
   "metadata": {},
   "source": [
    "Search for the **Commercial Permits since 2010** layer. You can specify the owner's name to get more specific results. To search for content from the Living Atlas, or content shared by other users on ArcGIS Online, set `outside_org=True`."
   ]
  },
  {
   "cell_type": "code",
   "execution_count": 4,
   "metadata": {},
   "outputs": [
    {
     "data": {
      "text/html": [
       "<div class=\"item_container\" style=\"height: auto; overflow: hidden; border: 1px solid #cfcfcf; border-radius: 2px; background: #f6fafa; line-height: 1.21429em; padding: 10px;\">\n",
       "                    <div class=\"item_left\" style=\"width: 210px; float: left;\">\n",
       "                       <a href='https://www.arcgis.com/home/item.html?id=addcc11b50f345a997bc4ed0b9326385' target='_blank'>\n",
       "                        <img src='http://static.arcgis.com/images/desktopapp.png' class=\"itemThumbnail\">\n",
       "                       </a>\n",
       "                    </div>\n",
       "\n",
       "                    <div class=\"item_right\"     style=\"float: none; width: auto; overflow: hidden;\">\n",
       "                        <a href='https://www.arcgis.com/home/item.html?id=addcc11b50f345a997bc4ed0b9326385' target='_blank'><b>Commercial Permits Since 2010</b>\n",
       "                        </a>\n",
       "                        <br/><img src='https://www.arcgis.com/home/js/jsapi/esri/css/images/item_type_icons/featureshosted16.png' style=\"vertical-align:middle;\">Feature Layer Collection by rbohnert\n",
       "                        <br/>Last Modified: February 27, 2020\n",
       "                        <br/>0 comments, 77 views\n",
       "                    </div>\n",
       "                </div>\n",
       "                "
      ],
      "text/plain": [
       "<Item title:\"Commercial Permits Since 2010\" type:Feature Layer Collection owner:rbohnert>"
      ]
     },
     "execution_count": 4,
     "metadata": {},
     "output_type": "execute_result"
    }
   ],
   "source": [
    "data = agol_gis.content.search('title: Commercial Permits since 2010', 'Feature layer', \n",
    "                               outside_org=True)\n",
    "data[0]"
   ]
  },
  {
   "cell_type": "markdown",
   "metadata": {},
   "source": [
    "Get the first item from the results."
   ]
  },
  {
   "cell_type": "code",
   "execution_count": 5,
   "metadata": {},
   "outputs": [],
   "source": [
    "permits = data[0]"
   ]
  },
  {
   "cell_type": "markdown",
   "metadata": {},
   "source": [
    "Since the item is a Feature Layer Collection, accessing the layers property gives us a list of FeatureLayer objects. The permit layer is the first layer in this item. Visualize this layer on a map of Montgomery County, Maryland."
   ]
  },
  {
   "cell_type": "code",
   "execution_count": 6,
   "metadata": {},
   "outputs": [],
   "source": [
    "permit_layer = permits.layers[0]"
   ]
  },
  {
   "cell_type": "code",
   "execution_count": 7,
   "metadata": {},
   "outputs": [
    {
     "data": {
      "application/vnd.jupyter.widget-view+json": {
       "model_id": "49b8c85d93a74eaa9cba970336516452",
       "version_major": 2,
       "version_minor": 0
      },
      "text/plain": [
       "MapView(layout=Layout(height='400px', width='100%'))"
      ]
     },
     "metadata": {},
     "output_type": "display_data"
    },
    {
     "data": {
      "text/html": [
       "<div class=\"map-static-img-preview-a2a5716c-054d-48f5-8e0a-d3d2fc2615ce\"><img src=\"\"></img></div>"
      ],
      "text/plain": [
       "<IPython.core.display.HTML object>"
      ]
     },
     "metadata": {},
     "output_type": "display_data"
    },
    {
     "data": {
      "text/html": [
       "<div class=\"map-html-embed-preview-a2a5716c-054d-48f5-8e0a-d3d2fc2615ce\"></div>"
      ],
      "text/plain": [
       "<IPython.core.display.HTML object>"
      ]
     },
     "metadata": {},
     "output_type": "display_data"
    }
   ],
   "source": [
    "permit_map = agol_gis.map('Montgomery County, Maryland', zoomlevel=9)\n",
    "permit_map"
   ]
  },
  {
   "cell_type": "markdown",
   "metadata": {},
   "source": [
    "You can add a number of different layer objects such as FeatureLayer, FeatureCollection, ImageryLayer, MapImageLayer to the map by calling the `add_layer()` method."
   ]
  },
  {
   "cell_type": "code",
   "execution_count": 8,
   "metadata": {},
   "outputs": [],
   "source": [
    "permit_map.add_layer(permit_layer)"
   ]
  },
  {
   "cell_type": "markdown",
   "metadata": {},
   "source": [
    "### Data Exploration"
   ]
  },
  {
   "cell_type": "markdown",
   "metadata": {},
   "source": [
    "Now that you've added the permit data, you'll explore its contents. Geographic data doesn't only contain information about location; it can also include other attributes not seen on a map. \n",
    "\n",
    "Convert the layer into a spatially-enabled dataframe to explore these attributes."
   ]
  },
  {
   "cell_type": "code",
   "execution_count": 9,
   "metadata": {},
   "outputs": [
    {
     "data": {
      "text/plain": [
       "<FeatureLayer url:\"https://services8.arcgis.com/gNrBvIUXaCagAxJ2/arcgis/rest/services/Commercial_Permits_Since_2010_q9lDty/FeatureServer/0\">"
      ]
     },
     "execution_count": 9,
     "metadata": {},
     "output_type": "execute_result"
    }
   ],
   "source": [
    "permit_layer"
   ]
  },
  {
   "cell_type": "code",
   "execution_count": 10,
   "metadata": {},
   "outputs": [],
   "source": [
    "sdf = pd.DataFrame.spatial.from_layer(permit_layer)"
   ]
  },
  {
   "cell_type": "markdown",
   "metadata": {},
   "source": [
    "`tail()` method gives the last 5 rows of the dataframe."
   ]
  },
  {
   "cell_type": "code",
   "execution_count": 11,
   "metadata": {},
   "outputs": [
    {
     "data": {
      "text/html": [
       "<div>\n",
       "<style scoped>\n",
       "    .dataframe tbody tr th:only-of-type {\n",
       "        vertical-align: middle;\n",
       "    }\n",
       "\n",
       "    .dataframe tbody tr th {\n",
       "        vertical-align: top;\n",
       "    }\n",
       "\n",
       "    .dataframe thead th {\n",
       "        text-align: right;\n",
       "    }\n",
       "</style>\n",
       "<table border=\"1\" class=\"dataframe\">\n",
       "  <thead>\n",
       "    <tr style=\"text-align: right;\">\n",
       "      <th></th>\n",
       "      <th>SHAPE</th>\n",
       "      <th>added_date</th>\n",
       "      <th>address</th>\n",
       "      <th>applicatio</th>\n",
       "      <th>bldgareanu</th>\n",
       "      <th>building_a</th>\n",
       "      <th>city</th>\n",
       "      <th>dayofmonth_added_date</th>\n",
       "      <th>dayofmonth_final_date</th>\n",
       "      <th>dayofmonth_issue_date</th>\n",
       "      <th>...</th>\n",
       "      <th>second_final_date</th>\n",
       "      <th>second_issue_date</th>\n",
       "      <th>state</th>\n",
       "      <th>status</th>\n",
       "      <th>use_code</th>\n",
       "      <th>work_type</th>\n",
       "      <th>year_added_date</th>\n",
       "      <th>year_final_date</th>\n",
       "      <th>year_issue_date</th>\n",
       "      <th>zip_code</th>\n",
       "    </tr>\n",
       "  </thead>\n",
       "  <tbody>\n",
       "    <tr>\n",
       "      <th>7507</th>\n",
       "      <td>{\"x\": -77.19663, \"y\": 39.104148, \"spatialRefer...</td>\n",
       "      <td>2014-01-02</td>\n",
       "      <td>9609 MEDICAL CENTER DR</td>\n",
       "      <td>COMMERCIAL BUILDING</td>\n",
       "      <td>2069.43</td>\n",
       "      <td>2069.43</td>\n",
       "      <td>ROCKVILLE</td>\n",
       "      <td>2</td>\n",
       "      <td>&lt;NA&gt;</td>\n",
       "      <td>27</td>\n",
       "      <td>...</td>\n",
       "      <td>&lt;NA&gt;</td>\n",
       "      <td>0</td>\n",
       "      <td>MD</td>\n",
       "      <td>Stop Work</td>\n",
       "      <td>BUSINESS BUILDING</td>\n",
       "      <td>ADD</td>\n",
       "      <td>2014</td>\n",
       "      <td>&lt;NA&gt;</td>\n",
       "      <td>2015</td>\n",
       "      <td>20850</td>\n",
       "    </tr>\n",
       "    <tr>\n",
       "      <th>7508</th>\n",
       "      <td>{\"x\": -77.027461, \"y\": 38.999474, \"spatialRefe...</td>\n",
       "      <td>2014-01-31</td>\n",
       "      <td>1015 SPRING ST</td>\n",
       "      <td>COMMERCIAL BUILDING</td>\n",
       "      <td>707.91</td>\n",
       "      <td>707.91</td>\n",
       "      <td>SILVER SPRING</td>\n",
       "      <td>31</td>\n",
       "      <td>25</td>\n",
       "      <td>18</td>\n",
       "      <td>...</td>\n",
       "      <td>0</td>\n",
       "      <td>0</td>\n",
       "      <td>MD</td>\n",
       "      <td>Stop Work</td>\n",
       "      <td>BUSINESS BUILDING</td>\n",
       "      <td>ADD</td>\n",
       "      <td>2014</td>\n",
       "      <td>2014</td>\n",
       "      <td>2014</td>\n",
       "      <td>20910</td>\n",
       "    </tr>\n",
       "    <tr>\n",
       "      <th>7509</th>\n",
       "      <td>{\"x\": -77.201951, \"y\": 39.285193, \"spatialRefe...</td>\n",
       "      <td>2014-02-11</td>\n",
       "      <td>26100 WOODFIELD RD</td>\n",
       "      <td>COMMERCIAL BUILDING</td>\n",
       "      <td>0.0</td>\n",
       "      <td>0.0</td>\n",
       "      <td>DAMASCUS</td>\n",
       "      <td>11</td>\n",
       "      <td>&lt;NA&gt;</td>\n",
       "      <td>13</td>\n",
       "      <td>...</td>\n",
       "      <td>&lt;NA&gt;</td>\n",
       "      <td>0</td>\n",
       "      <td>MD</td>\n",
       "      <td>Stop Work</td>\n",
       "      <td>BUSINESS BUILDING</td>\n",
       "      <td>CONSTRUCT</td>\n",
       "      <td>2014</td>\n",
       "      <td>&lt;NA&gt;</td>\n",
       "      <td>2014</td>\n",
       "      <td>20872</td>\n",
       "    </tr>\n",
       "    <tr>\n",
       "      <th>7510</th>\n",
       "      <td>{\"x\": -77.17405, \"y\": 38.999234, \"spatialRefer...</td>\n",
       "      <td>2014-03-06</td>\n",
       "      <td>8500 RIVER RD</td>\n",
       "      <td>COMMERCIAL BUILDING</td>\n",
       "      <td>472.02</td>\n",
       "      <td>472.02</td>\n",
       "      <td>BETHESDA</td>\n",
       "      <td>6</td>\n",
       "      <td>&lt;NA&gt;</td>\n",
       "      <td>11</td>\n",
       "      <td>...</td>\n",
       "      <td>&lt;NA&gt;</td>\n",
       "      <td>0</td>\n",
       "      <td>MD</td>\n",
       "      <td>Stop Work</td>\n",
       "      <td>COMMERCIAL MISCELLANEOUS STRUC</td>\n",
       "      <td>CONSTRUCT</td>\n",
       "      <td>2014</td>\n",
       "      <td>&lt;NA&gt;</td>\n",
       "      <td>2014</td>\n",
       "      <td>20817</td>\n",
       "    </tr>\n",
       "    <tr>\n",
       "      <th>7511</th>\n",
       "      <td>{\"x\": -77.17405, \"y\": 38.999234, \"spatialRefer...</td>\n",
       "      <td>2014-03-10</td>\n",
       "      <td>8500 RIVER RD</td>\n",
       "      <td>COMMERCIAL BUILDING</td>\n",
       "      <td>8461.55</td>\n",
       "      <td>8461.55</td>\n",
       "      <td>BETHESDA</td>\n",
       "      <td>10</td>\n",
       "      <td>&lt;NA&gt;</td>\n",
       "      <td>11</td>\n",
       "      <td>...</td>\n",
       "      <td>&lt;NA&gt;</td>\n",
       "      <td>0</td>\n",
       "      <td>MD</td>\n",
       "      <td>Stop Work</td>\n",
       "      <td>COMMERCIAL MISCELLANEOUS STRUC</td>\n",
       "      <td>CONSTRUCT</td>\n",
       "      <td>2014</td>\n",
       "      <td>&lt;NA&gt;</td>\n",
       "      <td>2014</td>\n",
       "      <td>20817</td>\n",
       "    </tr>\n",
       "  </tbody>\n",
       "</table>\n",
       "<p>5 rows × 48 columns</p>\n",
       "</div>"
      ],
      "text/plain": [
       "                                                  SHAPE added_date  \\\n",
       "7507  {\"x\": -77.19663, \"y\": 39.104148, \"spatialRefer... 2014-01-02   \n",
       "7508  {\"x\": -77.027461, \"y\": 38.999474, \"spatialRefe... 2014-01-31   \n",
       "7509  {\"x\": -77.201951, \"y\": 39.285193, \"spatialRefe... 2014-02-11   \n",
       "7510  {\"x\": -77.17405, \"y\": 38.999234, \"spatialRefer... 2014-03-06   \n",
       "7511  {\"x\": -77.17405, \"y\": 38.999234, \"spatialRefer... 2014-03-10   \n",
       "\n",
       "                     address           applicatio  bldgareanu  building_a  \\\n",
       "7507  9609 MEDICAL CENTER DR  COMMERCIAL BUILDING     2069.43     2069.43   \n",
       "7508          1015 SPRING ST  COMMERCIAL BUILDING      707.91      707.91   \n",
       "7509      26100 WOODFIELD RD  COMMERCIAL BUILDING         0.0         0.0   \n",
       "7510           8500 RIVER RD  COMMERCIAL BUILDING      472.02      472.02   \n",
       "7511           8500 RIVER RD  COMMERCIAL BUILDING     8461.55     8461.55   \n",
       "\n",
       "               city  dayofmonth_added_date  dayofmonth_final_date  \\\n",
       "7507      ROCKVILLE                      2                   <NA>   \n",
       "7508  SILVER SPRING                     31                     25   \n",
       "7509       DAMASCUS                     11                   <NA>   \n",
       "7510       BETHESDA                      6                   <NA>   \n",
       "7511       BETHESDA                     10                   <NA>   \n",
       "\n",
       "      dayofmonth_issue_date  ...  second_final_date  second_issue_date  state  \\\n",
       "7507                     27  ...               <NA>                  0     MD   \n",
       "7508                     18  ...                  0                  0     MD   \n",
       "7509                     13  ...               <NA>                  0     MD   \n",
       "7510                     11  ...               <NA>                  0     MD   \n",
       "7511                     11  ...               <NA>                  0     MD   \n",
       "\n",
       "         status                        use_code  work_type  year_added_date  \\\n",
       "7507  Stop Work               BUSINESS BUILDING        ADD             2014   \n",
       "7508  Stop Work               BUSINESS BUILDING        ADD             2014   \n",
       "7509  Stop Work               BUSINESS BUILDING  CONSTRUCT             2014   \n",
       "7510  Stop Work  COMMERCIAL MISCELLANEOUS STRUC  CONSTRUCT             2014   \n",
       "7511  Stop Work  COMMERCIAL MISCELLANEOUS STRUC  CONSTRUCT             2014   \n",
       "\n",
       "     year_final_date  year_issue_date  zip_code  \n",
       "7507            <NA>             2015     20850  \n",
       "7508            2014             2014     20910  \n",
       "7509            <NA>             2014     20872  \n",
       "7510            <NA>             2014     20817  \n",
       "7511            <NA>             2014     20817  \n",
       "\n",
       "[5 rows x 48 columns]"
      ]
     },
     "execution_count": 11,
     "metadata": {},
     "output_type": "execute_result"
    }
   ],
   "source": [
    "sdf.tail()"
   ]
  },
  {
   "cell_type": "markdown",
   "metadata": {},
   "source": [
    "The permit data contains a long list of attributes. Some attributes have self-explanatory names, while others may have names that can be difficult to understand without context. The list of attributes can be obtained using the columns of the dataframe."
   ]
  },
  {
   "cell_type": "code",
   "execution_count": 12,
   "metadata": {},
   "outputs": [
    {
     "data": {
      "text/plain": [
       "Index(['SHAPE', 'added_date', 'address', 'applicatio', 'bldgareanu',\n",
       "       'building_a', 'city', 'dayofmonth_added_date', 'dayofmonth_final_date',\n",
       "       'dayofmonth_issue_date', 'dayofweek_added_date', 'dayofweek_final_date',\n",
       "       'dayofweek_issue_date', 'declared_v', 'declvalnu', 'descriptio', 'fid',\n",
       "       'final_date', 'hour_added_date', 'hour_final_date', 'hour_issue_date',\n",
       "       'issue_date', 'latitude', 'location', 'longitude', 'minute_added_date',\n",
       "       'minute_final_date', 'minute_issue_date', 'month_added_date',\n",
       "       'month_final_date', 'month_issue_date', 'objectid', 'permit_num',\n",
       "       'quarter_added_date', 'quarter_final_date', 'quarter_issue_date',\n",
       "       'rowid', 'second_added_date', 'second_final_date', 'second_issue_date',\n",
       "       'state', 'status', 'use_code', 'work_type', 'year_added_date',\n",
       "       'year_final_date', 'year_issue_date', 'zip_code'],\n",
       "      dtype='object')"
      ]
     },
     "execution_count": 12,
     "metadata": {},
     "output_type": "execute_result"
    }
   ],
   "source": [
    "sdf.columns"
   ]
  },
  {
   "cell_type": "code",
   "execution_count": 13,
   "metadata": {},
   "outputs": [
    {
     "data": {
      "text/html": [
       "<div>\n",
       "<style scoped>\n",
       "    .dataframe tbody tr th:only-of-type {\n",
       "        vertical-align: middle;\n",
       "    }\n",
       "\n",
       "    .dataframe tbody tr th {\n",
       "        vertical-align: top;\n",
       "    }\n",
       "\n",
       "    .dataframe thead th {\n",
       "        text-align: right;\n",
       "    }\n",
       "</style>\n",
       "<table border=\"1\" class=\"dataframe\">\n",
       "  <thead>\n",
       "    <tr style=\"text-align: right;\">\n",
       "      <th></th>\n",
       "      <th>count</th>\n",
       "      <th>mean</th>\n",
       "      <th>std</th>\n",
       "      <th>min</th>\n",
       "      <th>25%</th>\n",
       "      <th>50%</th>\n",
       "      <th>75%</th>\n",
       "      <th>max</th>\n",
       "    </tr>\n",
       "  </thead>\n",
       "  <tbody>\n",
       "    <tr>\n",
       "      <th>bldgareanu</th>\n",
       "      <td>7512.0</td>\n",
       "      <td>8693.800270</td>\n",
       "      <td>4.104171e+04</td>\n",
       "      <td>0.000000</td>\n",
       "      <td>120.168000</td>\n",
       "      <td>1379.000000</td>\n",
       "      <td>4186.500000</td>\n",
       "      <td>1.548205e+06</td>\n",
       "    </tr>\n",
       "    <tr>\n",
       "      <th>building_a</th>\n",
       "      <td>7512.0</td>\n",
       "      <td>8693.800270</td>\n",
       "      <td>4.104171e+04</td>\n",
       "      <td>0.000000</td>\n",
       "      <td>120.168000</td>\n",
       "      <td>1379.000000</td>\n",
       "      <td>4186.500000</td>\n",
       "      <td>1.548205e+06</td>\n",
       "    </tr>\n",
       "    <tr>\n",
       "      <th>dayofmonth_added_date</th>\n",
       "      <td>7512.0</td>\n",
       "      <td>15.883253</td>\n",
       "      <td>8.567638e+00</td>\n",
       "      <td>1.000000</td>\n",
       "      <td>9.000000</td>\n",
       "      <td>16.000000</td>\n",
       "      <td>23.000000</td>\n",
       "      <td>3.100000e+01</td>\n",
       "    </tr>\n",
       "    <tr>\n",
       "      <th>dayofmonth_final_date</th>\n",
       "      <td>3890.0</td>\n",
       "      <td>15.574550</td>\n",
       "      <td>8.892878e+00</td>\n",
       "      <td>1.000000</td>\n",
       "      <td>8.000000</td>\n",
       "      <td>16.000000</td>\n",
       "      <td>23.000000</td>\n",
       "      <td>3.100000e+01</td>\n",
       "    </tr>\n",
       "    <tr>\n",
       "      <th>dayofmonth_issue_date</th>\n",
       "      <td>7054.0</td>\n",
       "      <td>15.953360</td>\n",
       "      <td>8.813776e+00</td>\n",
       "      <td>1.000000</td>\n",
       "      <td>8.000000</td>\n",
       "      <td>16.000000</td>\n",
       "      <td>23.000000</td>\n",
       "      <td>3.100000e+01</td>\n",
       "    </tr>\n",
       "    <tr>\n",
       "      <th>dayofweek_added_date</th>\n",
       "      <td>7512.0</td>\n",
       "      <td>3.087593</td>\n",
       "      <td>1.403647e+00</td>\n",
       "      <td>0.000000</td>\n",
       "      <td>2.000000</td>\n",
       "      <td>3.000000</td>\n",
       "      <td>4.000000</td>\n",
       "      <td>6.000000e+00</td>\n",
       "    </tr>\n",
       "    <tr>\n",
       "      <th>dayofweek_final_date</th>\n",
       "      <td>3890.0</td>\n",
       "      <td>3.028021</td>\n",
       "      <td>1.496026e+00</td>\n",
       "      <td>0.000000</td>\n",
       "      <td>2.000000</td>\n",
       "      <td>3.000000</td>\n",
       "      <td>4.000000</td>\n",
       "      <td>6.000000e+00</td>\n",
       "    </tr>\n",
       "    <tr>\n",
       "      <th>dayofweek_issue_date</th>\n",
       "      <td>7054.0</td>\n",
       "      <td>3.107315</td>\n",
       "      <td>1.370517e+00</td>\n",
       "      <td>1.000000</td>\n",
       "      <td>2.000000</td>\n",
       "      <td>3.000000</td>\n",
       "      <td>4.000000</td>\n",
       "      <td>6.000000e+00</td>\n",
       "    </tr>\n",
       "    <tr>\n",
       "      <th>declared_v</th>\n",
       "      <td>7512.0</td>\n",
       "      <td>551598.996733</td>\n",
       "      <td>3.562008e+06</td>\n",
       "      <td>0.000000</td>\n",
       "      <td>20000.000000</td>\n",
       "      <td>57465.000000</td>\n",
       "      <td>164175.000000</td>\n",
       "      <td>8.500000e+07</td>\n",
       "    </tr>\n",
       "    <tr>\n",
       "      <th>declvalnu</th>\n",
       "      <td>7512.0</td>\n",
       "      <td>551598.996733</td>\n",
       "      <td>3.562008e+06</td>\n",
       "      <td>0.000000</td>\n",
       "      <td>20000.000000</td>\n",
       "      <td>57465.000000</td>\n",
       "      <td>164175.000000</td>\n",
       "      <td>8.500000e+07</td>\n",
       "    </tr>\n",
       "    <tr>\n",
       "      <th>fid</th>\n",
       "      <td>7512.0</td>\n",
       "      <td>0.000000</td>\n",
       "      <td>0.000000e+00</td>\n",
       "      <td>0.000000</td>\n",
       "      <td>0.000000</td>\n",
       "      <td>0.000000</td>\n",
       "      <td>0.000000</td>\n",
       "      <td>0.000000e+00</td>\n",
       "    </tr>\n",
       "    <tr>\n",
       "      <th>hour_added_date</th>\n",
       "      <td>7512.0</td>\n",
       "      <td>0.000000</td>\n",
       "      <td>0.000000e+00</td>\n",
       "      <td>0.000000</td>\n",
       "      <td>0.000000</td>\n",
       "      <td>0.000000</td>\n",
       "      <td>0.000000</td>\n",
       "      <td>0.000000e+00</td>\n",
       "    </tr>\n",
       "    <tr>\n",
       "      <th>hour_final_date</th>\n",
       "      <td>3890.0</td>\n",
       "      <td>0.000000</td>\n",
       "      <td>0.000000e+00</td>\n",
       "      <td>0.000000</td>\n",
       "      <td>0.000000</td>\n",
       "      <td>0.000000</td>\n",
       "      <td>0.000000</td>\n",
       "      <td>0.000000e+00</td>\n",
       "    </tr>\n",
       "    <tr>\n",
       "      <th>hour_issue_date</th>\n",
       "      <td>7054.0</td>\n",
       "      <td>0.000000</td>\n",
       "      <td>0.000000e+00</td>\n",
       "      <td>0.000000</td>\n",
       "      <td>0.000000</td>\n",
       "      <td>0.000000</td>\n",
       "      <td>0.000000</td>\n",
       "      <td>0.000000e+00</td>\n",
       "    </tr>\n",
       "    <tr>\n",
       "      <th>latitude</th>\n",
       "      <td>7512.0</td>\n",
       "      <td>39.078655</td>\n",
       "      <td>8.736768e-02</td>\n",
       "      <td>38.943754</td>\n",
       "      <td>38.998268</td>\n",
       "      <td>39.052740</td>\n",
       "      <td>39.155405</td>\n",
       "      <td>3.932752e+01</td>\n",
       "    </tr>\n",
       "    <tr>\n",
       "      <th>longitude</th>\n",
       "      <td>7512.0</td>\n",
       "      <td>-77.129365</td>\n",
       "      <td>9.656554e-02</td>\n",
       "      <td>-77.484224</td>\n",
       "      <td>-77.203195</td>\n",
       "      <td>-77.112745</td>\n",
       "      <td>-77.058127</td>\n",
       "      <td>-7.692405e+01</td>\n",
       "    </tr>\n",
       "    <tr>\n",
       "      <th>minute_added_date</th>\n",
       "      <td>7512.0</td>\n",
       "      <td>0.000000</td>\n",
       "      <td>0.000000e+00</td>\n",
       "      <td>0.000000</td>\n",
       "      <td>0.000000</td>\n",
       "      <td>0.000000</td>\n",
       "      <td>0.000000</td>\n",
       "      <td>0.000000e+00</td>\n",
       "    </tr>\n",
       "    <tr>\n",
       "      <th>minute_final_date</th>\n",
       "      <td>3890.0</td>\n",
       "      <td>0.000000</td>\n",
       "      <td>0.000000e+00</td>\n",
       "      <td>0.000000</td>\n",
       "      <td>0.000000</td>\n",
       "      <td>0.000000</td>\n",
       "      <td>0.000000</td>\n",
       "      <td>0.000000e+00</td>\n",
       "    </tr>\n",
       "    <tr>\n",
       "      <th>minute_issue_date</th>\n",
       "      <td>7054.0</td>\n",
       "      <td>0.000000</td>\n",
       "      <td>0.000000e+00</td>\n",
       "      <td>0.000000</td>\n",
       "      <td>0.000000</td>\n",
       "      <td>0.000000</td>\n",
       "      <td>0.000000</td>\n",
       "      <td>0.000000e+00</td>\n",
       "    </tr>\n",
       "    <tr>\n",
       "      <th>month_added_date</th>\n",
       "      <td>7512.0</td>\n",
       "      <td>6.454340</td>\n",
       "      <td>3.288958e+00</td>\n",
       "      <td>1.000000</td>\n",
       "      <td>4.000000</td>\n",
       "      <td>6.000000</td>\n",
       "      <td>9.000000</td>\n",
       "      <td>1.200000e+01</td>\n",
       "    </tr>\n",
       "    <tr>\n",
       "      <th>month_final_date</th>\n",
       "      <td>3890.0</td>\n",
       "      <td>6.739589</td>\n",
       "      <td>3.405606e+00</td>\n",
       "      <td>1.000000</td>\n",
       "      <td>4.000000</td>\n",
       "      <td>7.000000</td>\n",
       "      <td>10.000000</td>\n",
       "      <td>1.200000e+01</td>\n",
       "    </tr>\n",
       "    <tr>\n",
       "      <th>month_issue_date</th>\n",
       "      <td>7054.0</td>\n",
       "      <td>6.627871</td>\n",
       "      <td>3.299935e+00</td>\n",
       "      <td>1.000000</td>\n",
       "      <td>4.000000</td>\n",
       "      <td>7.000000</td>\n",
       "      <td>9.000000</td>\n",
       "      <td>1.200000e+01</td>\n",
       "    </tr>\n",
       "    <tr>\n",
       "      <th>objectid</th>\n",
       "      <td>7512.0</td>\n",
       "      <td>5346.088525</td>\n",
       "      <td>3.176491e+03</td>\n",
       "      <td>1.000000</td>\n",
       "      <td>2611.500000</td>\n",
       "      <td>5202.000000</td>\n",
       "      <td>8041.250000</td>\n",
       "      <td>1.122400e+04</td>\n",
       "    </tr>\n",
       "    <tr>\n",
       "      <th>permit_num</th>\n",
       "      <td>7512.0</td>\n",
       "      <td>80713.565229</td>\n",
       "      <td>7.613985e+04</td>\n",
       "      <td>528631.000000</td>\n",
       "      <td>584859.500000</td>\n",
       "      <td>647250.500000</td>\n",
       "      <td>716736.250000</td>\n",
       "      <td>7.961930e+05</td>\n",
       "    </tr>\n",
       "    <tr>\n",
       "      <th>quarter_added_date</th>\n",
       "      <td>7512.0</td>\n",
       "      <td>2.487487</td>\n",
       "      <td>1.080123e+00</td>\n",
       "      <td>1.000000</td>\n",
       "      <td>2.000000</td>\n",
       "      <td>2.000000</td>\n",
       "      <td>3.000000</td>\n",
       "      <td>4.000000e+00</td>\n",
       "    </tr>\n",
       "    <tr>\n",
       "      <th>quarter_final_date</th>\n",
       "      <td>3890.0</td>\n",
       "      <td>2.574036</td>\n",
       "      <td>1.099940e+00</td>\n",
       "      <td>1.000000</td>\n",
       "      <td>2.000000</td>\n",
       "      <td>3.000000</td>\n",
       "      <td>4.000000</td>\n",
       "      <td>4.000000e+00</td>\n",
       "    </tr>\n",
       "    <tr>\n",
       "      <th>quarter_issue_date</th>\n",
       "      <td>7054.0</td>\n",
       "      <td>2.539269</td>\n",
       "      <td>1.083670e+00</td>\n",
       "      <td>1.000000</td>\n",
       "      <td>2.000000</td>\n",
       "      <td>3.000000</td>\n",
       "      <td>3.000000</td>\n",
       "      <td>4.000000e+00</td>\n",
       "    </tr>\n",
       "    <tr>\n",
       "      <th>rowid</th>\n",
       "      <td>7512.0</td>\n",
       "      <td>5346.088525</td>\n",
       "      <td>3.176491e+03</td>\n",
       "      <td>1.000000</td>\n",
       "      <td>2611.500000</td>\n",
       "      <td>5202.000000</td>\n",
       "      <td>8041.250000</td>\n",
       "      <td>1.122400e+04</td>\n",
       "    </tr>\n",
       "    <tr>\n",
       "      <th>second_added_date</th>\n",
       "      <td>7512.0</td>\n",
       "      <td>0.000000</td>\n",
       "      <td>0.000000e+00</td>\n",
       "      <td>0.000000</td>\n",
       "      <td>0.000000</td>\n",
       "      <td>0.000000</td>\n",
       "      <td>0.000000</td>\n",
       "      <td>0.000000e+00</td>\n",
       "    </tr>\n",
       "    <tr>\n",
       "      <th>second_final_date</th>\n",
       "      <td>3890.0</td>\n",
       "      <td>0.000000</td>\n",
       "      <td>0.000000e+00</td>\n",
       "      <td>0.000000</td>\n",
       "      <td>0.000000</td>\n",
       "      <td>0.000000</td>\n",
       "      <td>0.000000</td>\n",
       "      <td>0.000000e+00</td>\n",
       "    </tr>\n",
       "    <tr>\n",
       "      <th>second_issue_date</th>\n",
       "      <td>7054.0</td>\n",
       "      <td>0.000000</td>\n",
       "      <td>0.000000e+00</td>\n",
       "      <td>0.000000</td>\n",
       "      <td>0.000000</td>\n",
       "      <td>0.000000</td>\n",
       "      <td>0.000000</td>\n",
       "      <td>0.000000e+00</td>\n",
       "    </tr>\n",
       "    <tr>\n",
       "      <th>year_added_date</th>\n",
       "      <td>7512.0</td>\n",
       "      <td>2013.180511</td>\n",
       "      <td>2.051371e+00</td>\n",
       "      <td>2010.000000</td>\n",
       "      <td>2011.000000</td>\n",
       "      <td>2013.000000</td>\n",
       "      <td>2015.000000</td>\n",
       "      <td>2.017000e+03</td>\n",
       "    </tr>\n",
       "    <tr>\n",
       "      <th>year_final_date</th>\n",
       "      <td>3890.0</td>\n",
       "      <td>2013.498972</td>\n",
       "      <td>1.972848e+00</td>\n",
       "      <td>2010.000000</td>\n",
       "      <td>2012.000000</td>\n",
       "      <td>2014.000000</td>\n",
       "      <td>2015.000000</td>\n",
       "      <td>2.017000e+03</td>\n",
       "    </tr>\n",
       "    <tr>\n",
       "      <th>year_issue_date</th>\n",
       "      <td>7054.0</td>\n",
       "      <td>2013.286646</td>\n",
       "      <td>1.999234e+00</td>\n",
       "      <td>2010.000000</td>\n",
       "      <td>2012.000000</td>\n",
       "      <td>2013.000000</td>\n",
       "      <td>2015.000000</td>\n",
       "      <td>2.017000e+03</td>\n",
       "    </tr>\n",
       "    <tr>\n",
       "      <th>zip_code</th>\n",
       "      <td>7512.0</td>\n",
       "      <td>20852.257455</td>\n",
       "      <td>4.830780e+02</td>\n",
       "      <td>0.000000</td>\n",
       "      <td>20832.000000</td>\n",
       "      <td>20871.000000</td>\n",
       "      <td>20901.000000</td>\n",
       "      <td>2.177100e+04</td>\n",
       "    </tr>\n",
       "  </tbody>\n",
       "</table>\n",
       "</div>"
      ],
      "text/plain": [
       "                        count           mean           std            min  \\\n",
       "bldgareanu             7512.0    8693.800270  4.104171e+04       0.000000   \n",
       "building_a             7512.0    8693.800270  4.104171e+04       0.000000   \n",
       "dayofmonth_added_date  7512.0      15.883253  8.567638e+00       1.000000   \n",
       "dayofmonth_final_date  3890.0      15.574550  8.892878e+00       1.000000   \n",
       "dayofmonth_issue_date  7054.0      15.953360  8.813776e+00       1.000000   \n",
       "dayofweek_added_date   7512.0       3.087593  1.403647e+00       0.000000   \n",
       "dayofweek_final_date   3890.0       3.028021  1.496026e+00       0.000000   \n",
       "dayofweek_issue_date   7054.0       3.107315  1.370517e+00       1.000000   \n",
       "declared_v             7512.0  551598.996733  3.562008e+06       0.000000   \n",
       "declvalnu              7512.0  551598.996733  3.562008e+06       0.000000   \n",
       "fid                    7512.0       0.000000  0.000000e+00       0.000000   \n",
       "hour_added_date        7512.0       0.000000  0.000000e+00       0.000000   \n",
       "hour_final_date        3890.0       0.000000  0.000000e+00       0.000000   \n",
       "hour_issue_date        7054.0       0.000000  0.000000e+00       0.000000   \n",
       "latitude               7512.0      39.078655  8.736768e-02      38.943754   \n",
       "longitude              7512.0     -77.129365  9.656554e-02     -77.484224   \n",
       "minute_added_date      7512.0       0.000000  0.000000e+00       0.000000   \n",
       "minute_final_date      3890.0       0.000000  0.000000e+00       0.000000   \n",
       "minute_issue_date      7054.0       0.000000  0.000000e+00       0.000000   \n",
       "month_added_date       7512.0       6.454340  3.288958e+00       1.000000   \n",
       "month_final_date       3890.0       6.739589  3.405606e+00       1.000000   \n",
       "month_issue_date       7054.0       6.627871  3.299935e+00       1.000000   \n",
       "objectid               7512.0    5346.088525  3.176491e+03       1.000000   \n",
       "permit_num             7512.0   80713.565229  7.613985e+04  528631.000000   \n",
       "quarter_added_date     7512.0       2.487487  1.080123e+00       1.000000   \n",
       "quarter_final_date     3890.0       2.574036  1.099940e+00       1.000000   \n",
       "quarter_issue_date     7054.0       2.539269  1.083670e+00       1.000000   \n",
       "rowid                  7512.0    5346.088525  3.176491e+03       1.000000   \n",
       "second_added_date      7512.0       0.000000  0.000000e+00       0.000000   \n",
       "second_final_date      3890.0       0.000000  0.000000e+00       0.000000   \n",
       "second_issue_date      7054.0       0.000000  0.000000e+00       0.000000   \n",
       "year_added_date        7512.0    2013.180511  2.051371e+00    2010.000000   \n",
       "year_final_date        3890.0    2013.498972  1.972848e+00    2010.000000   \n",
       "year_issue_date        7054.0    2013.286646  1.999234e+00    2010.000000   \n",
       "zip_code               7512.0   20852.257455  4.830780e+02       0.000000   \n",
       "\n",
       "                                 25%            50%            75%  \\\n",
       "bldgareanu                120.168000    1379.000000    4186.500000   \n",
       "building_a                120.168000    1379.000000    4186.500000   \n",
       "dayofmonth_added_date       9.000000      16.000000      23.000000   \n",
       "dayofmonth_final_date       8.000000      16.000000      23.000000   \n",
       "dayofmonth_issue_date       8.000000      16.000000      23.000000   \n",
       "dayofweek_added_date        2.000000       3.000000       4.000000   \n",
       "dayofweek_final_date        2.000000       3.000000       4.000000   \n",
       "dayofweek_issue_date        2.000000       3.000000       4.000000   \n",
       "declared_v              20000.000000   57465.000000  164175.000000   \n",
       "declvalnu               20000.000000   57465.000000  164175.000000   \n",
       "fid                         0.000000       0.000000       0.000000   \n",
       "hour_added_date             0.000000       0.000000       0.000000   \n",
       "hour_final_date             0.000000       0.000000       0.000000   \n",
       "hour_issue_date             0.000000       0.000000       0.000000   \n",
       "latitude                   38.998268      39.052740      39.155405   \n",
       "longitude                 -77.203195     -77.112745     -77.058127   \n",
       "minute_added_date           0.000000       0.000000       0.000000   \n",
       "minute_final_date           0.000000       0.000000       0.000000   \n",
       "minute_issue_date           0.000000       0.000000       0.000000   \n",
       "month_added_date            4.000000       6.000000       9.000000   \n",
       "month_final_date            4.000000       7.000000      10.000000   \n",
       "month_issue_date            4.000000       7.000000       9.000000   \n",
       "objectid                 2611.500000    5202.000000    8041.250000   \n",
       "permit_num             584859.500000  647250.500000  716736.250000   \n",
       "quarter_added_date          2.000000       2.000000       3.000000   \n",
       "quarter_final_date          2.000000       3.000000       4.000000   \n",
       "quarter_issue_date          2.000000       3.000000       3.000000   \n",
       "rowid                    2611.500000    5202.000000    8041.250000   \n",
       "second_added_date           0.000000       0.000000       0.000000   \n",
       "second_final_date           0.000000       0.000000       0.000000   \n",
       "second_issue_date           0.000000       0.000000       0.000000   \n",
       "year_added_date          2011.000000    2013.000000    2015.000000   \n",
       "year_final_date          2012.000000    2014.000000    2015.000000   \n",
       "year_issue_date          2012.000000    2013.000000    2015.000000   \n",
       "zip_code                20832.000000   20871.000000   20901.000000   \n",
       "\n",
       "                                max  \n",
       "bldgareanu             1.548205e+06  \n",
       "building_a             1.548205e+06  \n",
       "dayofmonth_added_date  3.100000e+01  \n",
       "dayofmonth_final_date  3.100000e+01  \n",
       "dayofmonth_issue_date  3.100000e+01  \n",
       "dayofweek_added_date   6.000000e+00  \n",
       "dayofweek_final_date   6.000000e+00  \n",
       "dayofweek_issue_date   6.000000e+00  \n",
       "declared_v             8.500000e+07  \n",
       "declvalnu              8.500000e+07  \n",
       "fid                    0.000000e+00  \n",
       "hour_added_date        0.000000e+00  \n",
       "hour_final_date        0.000000e+00  \n",
       "hour_issue_date        0.000000e+00  \n",
       "latitude               3.932752e+01  \n",
       "longitude             -7.692405e+01  \n",
       "minute_added_date      0.000000e+00  \n",
       "minute_final_date      0.000000e+00  \n",
       "minute_issue_date      0.000000e+00  \n",
       "month_added_date       1.200000e+01  \n",
       "month_final_date       1.200000e+01  \n",
       "month_issue_date       1.200000e+01  \n",
       "objectid               1.122400e+04  \n",
       "permit_num             7.961930e+05  \n",
       "quarter_added_date     4.000000e+00  \n",
       "quarter_final_date     4.000000e+00  \n",
       "quarter_issue_date     4.000000e+00  \n",
       "rowid                  1.122400e+04  \n",
       "second_added_date      0.000000e+00  \n",
       "second_final_date      0.000000e+00  \n",
       "second_issue_date      0.000000e+00  \n",
       "year_added_date        2.017000e+03  \n",
       "year_final_date        2.017000e+03  \n",
       "year_issue_date        2.017000e+03  \n",
       "zip_code               2.177100e+04  "
      ]
     },
     "execution_count": 13,
     "metadata": {},
     "output_type": "execute_result"
    }
   ],
   "source": [
    "sdf.describe().T"
   ]
  },
  {
   "cell_type": "markdown",
   "metadata": {},
   "source": [
    "Query the types of attributes and explore the data."
   ]
  },
  {
   "cell_type": "code",
   "execution_count": 14,
   "metadata": {},
   "outputs": [
    {
     "data": {
      "text/plain": [
       "SHAPE                          geometry\n",
       "added_date               datetime64[ns]\n",
       "address                          string\n",
       "applicatio                       string\n",
       "bldgareanu                      Float64\n",
       "building_a                      Float64\n",
       "city                             string\n",
       "dayofmonth_added_date             Int32\n",
       "dayofmonth_final_date             Int32\n",
       "dayofmonth_issue_date             Int32\n",
       "dayofweek_added_date              Int32\n",
       "dayofweek_final_date              Int32\n",
       "dayofweek_issue_date              Int32\n",
       "declared_v                      Float64\n",
       "declvalnu                       Float64\n",
       "descriptio                       string\n",
       "fid                               Int32\n",
       "final_date               datetime64[ns]\n",
       "hour_added_date                   Int32\n",
       "hour_final_date                   Int32\n",
       "hour_issue_date                   Int32\n",
       "issue_date               datetime64[ns]\n",
       "latitude                        Float64\n",
       "location                         string\n",
       "longitude                       Float64\n",
       "minute_added_date                 Int32\n",
       "minute_final_date                 Int32\n",
       "minute_issue_date                 Int32\n",
       "month_added_date                  Int32\n",
       "month_final_date                  Int32\n",
       "month_issue_date                  Int32\n",
       "objectid                          Int64\n",
       "permit_num                        Int32\n",
       "quarter_added_date                Int32\n",
       "quarter_final_date                Int32\n",
       "quarter_issue_date                Int32\n",
       "rowid                             Int32\n",
       "second_added_date                 Int32\n",
       "second_final_date                 Int32\n",
       "second_issue_date                 Int32\n",
       "state                            string\n",
       "status                           string\n",
       "use_code                         string\n",
       "work_type                        string\n",
       "year_added_date                   Int32\n",
       "year_final_date                   Int32\n",
       "year_issue_date                   Int32\n",
       "zip_code                          Int32\n",
       "dtype: object"
      ]
     },
     "execution_count": 14,
     "metadata": {},
     "output_type": "execute_result"
    }
   ],
   "source": [
    "sdf.dtypes"
   ]
  },
  {
   "cell_type": "code",
   "execution_count": 15,
   "metadata": {},
   "outputs": [
    {
     "data": {
      "text/plain": [
       "<StringArray>\n",
       "[                 'CONSTRUCT',                      'ALTER',\n",
       "   'COMMERCIAL CHANGE OF USE',    'RESTORE AND / OR REPAIR',\n",
       "                        'ADD',           'BUILD FOUNDATION',\n",
       "                    'INSTALL',                    'REPLACE',\n",
       " 'CONSTRUCT SHEETING/SHORING',              'FINAL ONLY AP']\n",
       "Length: 10, dtype: string"
      ]
     },
     "execution_count": 15,
     "metadata": {},
     "output_type": "execute_result"
    }
   ],
   "source": [
    "sdf['work_type'].unique()"
   ]
  },
  {
   "cell_type": "code",
   "execution_count": 16,
   "metadata": {
    "scrolled": true
   },
   "outputs": [
    {
     "data": {
      "text/plain": [
       "<StringArray>\n",
       "['Finaled', 'Issued', 'Open', 'Stop Work']\n",
       "Length: 4, dtype: string"
      ]
     },
     "execution_count": 16,
     "metadata": {},
     "output_type": "execute_result"
    }
   ],
   "source": [
    "sdf['status'].unique()"
   ]
  },
  {
   "cell_type": "code",
   "execution_count": 17,
   "metadata": {},
   "outputs": [
    {
     "data": {
      "text/plain": [
       "<StringArray>\n",
       "[         'MULTI-FAMILY DWELLING',              'BUSINESS BUILDING',\n",
       "            'MERCANTILE BUILDING', 'COMMERCIAL MISCELLANEOUS STRUC']\n",
       "Length: 4, dtype: string"
      ]
     },
     "execution_count": 17,
     "metadata": {},
     "output_type": "execute_result"
    }
   ],
   "source": [
    "sdf['use_code'].unique()"
   ]
  },
  {
   "cell_type": "markdown",
   "metadata": {},
   "source": [
    "## Permits by Status"
   ]
  },
  {
   "cell_type": "markdown",
   "metadata": {},
   "source": [
    "The `groupby()` method groups the rows per the column and does calculations, such as finding their counts, as shown in the following code."
   ]
  },
  {
   "cell_type": "code",
   "execution_count": 18,
   "metadata": {},
   "outputs": [
    {
     "data": {
      "text/plain": [
       "status\n",
       "Finaled      3860\n",
       "Issued       2997\n",
       "Open          455\n",
       "Stop Work     200\n",
       "dtype: int64"
      ]
     },
     "execution_count": 18,
     "metadata": {},
     "output_type": "execute_result"
    }
   ],
   "source": [
    "permits_by_status = sdf.groupby(sdf['status']).size()\n",
    "permits_by_status"
   ]
  },
  {
   "cell_type": "markdown",
   "metadata": {},
   "source": [
    " There are only four permit statuses: Issued, Finaled, Open, and Stop Work. To visualize the number of permits for each status, you'll create a pie chart."
   ]
  },
  {
   "cell_type": "markdown",
   "metadata": {},
   "source": [
    "Since the dataframe attributes just show the count of status, you can consider any attribute to graph the status count."
   ]
  },
  {
   "cell_type": "code",
   "execution_count": 19,
   "metadata": {},
   "outputs": [],
   "source": [
    "%matplotlib inline\n",
    "import matplotlib.pyplot as plt"
   ]
  },
  {
   "cell_type": "code",
   "execution_count": 20,
   "metadata": {},
   "outputs": [
    {
     "data": {
      "image/png": "[encoded data removed]",
      "text/plain": [
       "<Figure size 432x288 with 1 Axes>"
      ]
     },
     "metadata": {},
     "output_type": "display_data"
    }
   ],
   "source": [
    "plt.axis('equal') \n",
    "permits_by_status.plot(kind='pie', legend=False, label='Permits by Status');"
   ]
  },
  {
   "cell_type": "markdown",
   "metadata": {},
   "source": [
    "The pie chart above shows the four permit statuses, with the size of each status determined by the number of permits. The vast majority of permits are either Issued or Finaled. Finaled permits are issued permits that have also had the requisite inspections performed."
   ]
  },
  {
   "cell_type": "markdown",
   "metadata": {},
   "source": [
    "It's helpful to visualize the spatial distribution of permit attributes on a map. You'll change the map so that each permit's symbol represents its status."
   ]
  },
  {
   "cell_type": "code",
   "execution_count": 21,
   "metadata": {},
   "outputs": [
    {
     "data": {
      "application/vnd.jupyter.widget-view+json": {
       "model_id": "ef8630fc1de24718800cd906f1b19761",
       "version_major": 2,
       "version_minor": 0
      },
      "text/plain": [
       "MapView(layout=Layout(height='400px', width='100%'))"
      ]
     },
     "metadata": {},
     "output_type": "display_data"
    },
    {
     "data": {
      "text/html": [
       "<div class=\"map-static-img-preview-7551f03d-2873-4ab2-b738-697930912939\"><img src=\"\"></img></div>"
      ],
      "text/plain": [
       "<IPython.core.display.HTML object>"
      ]
     },
     "metadata": {},
     "output_type": "display_data"
    },
    {
     "data": {
      "text/html": [
       "<div class=\"map-html-embed-preview-7551f03d-2873-4ab2-b738-697930912939\"></div>"
      ],
      "text/plain": [
       "<IPython.core.display.HTML object>"
      ]
     },
     "metadata": {},
     "output_type": "display_data"
    }
   ],
   "source": [
    "permits_by_status_map = agol_gis.map('Montgomery County, Maryland')\n",
    "permits_by_status_map"
   ]
  },
  {
   "cell_type": "markdown",
   "metadata": {},
   "source": [
    "![](insights_images/image_6.png)"
   ]
  },
  {
   "cell_type": "code",
   "execution_count": 22,
   "metadata": {
    "scrolled": false
   },
   "outputs": [
    {
     "data": {
      "text/plain": [
       "True"
      ]
     },
     "execution_count": 22,
     "metadata": {},
     "output_type": "execute_result"
    }
   ],
   "source": [
    "sdf.spatial.plot(kind='map', map_widget=permits_by_status_map,\n",
    "        renderer_type='u', # specify the unique value renderer using its notation 'u'\n",
    "        col='status')  # column to get unique values from"
   ]
  },
  {
   "cell_type": "markdown",
   "metadata": {},
   "source": [
    "## Permits by Type"
   ]
  },
  {
   "cell_type": "code",
   "execution_count": 23,
   "metadata": {
    "scrolled": true
   },
   "outputs": [
    {
     "data": {
      "text/plain": [
       "use_code\n",
       "BUSINESS BUILDING                 3461\n",
       "COMMERCIAL MISCELLANEOUS STRUC    1197\n",
       "MERCANTILE BUILDING               1016\n",
       "MULTI-FAMILY DWELLING             1838\n",
       "dtype: int64"
      ]
     },
     "execution_count": 23,
     "metadata": {},
     "output_type": "execute_result"
    }
   ],
   "source": [
    "permits_by_type = sdf.groupby(['use_code']).size()\n",
    "permits_by_type"
   ]
  },
  {
   "cell_type": "markdown",
   "metadata": {},
   "source": [
    "The series is not sorted properly. Use the `sort()` method to sort it from highest count to lowest count. The most common use code, **Business Buildings**, has almost twice as many permits as the second highest, **Multi-family Dwelling**. The top four use codes together comprise the majority of all permits, so these use codes may be the most important to focus on in your analysis later."
   ]
  },
  {
   "cell_type": "code",
   "execution_count": 24,
   "metadata": {},
   "outputs": [
    {
     "data": {
      "text/plain": [
       "use_code\n",
       "BUSINESS BUILDING                 3461\n",
       "MULTI-FAMILY DWELLING             1838\n",
       "COMMERCIAL MISCELLANEOUS STRUC    1197\n",
       "MERCANTILE BUILDING               1016\n",
       "dtype: int64"
      ]
     },
     "execution_count": 24,
     "metadata": {},
     "output_type": "execute_result"
    }
   ],
   "source": [
    "permits_by_type.sort_values(ascending=False, inplace=True)\n",
    "permits_by_type.head()"
   ]
  },
  {
   "cell_type": "markdown",
   "metadata": {},
   "source": [
    "### Clean up the data"
   ]
  },
  {
   "cell_type": "markdown",
   "metadata": {},
   "source": [
    "Before you begin analysis of your data, you'll hide attribute fields you don't intend to use, rename fields with unclear names, and filter your dataset to only show permits with the four most common use codes. These changes won't permanently affect the original dataset, but they will make the data easier to work with and understand."
   ]
  },
  {
   "cell_type": "markdown",
   "metadata": {},
   "source": [
    "**'Declared_V'**, **'Building_A'**, **'Applicatio'** attribute fields describe aspects of the data that aren't important for your analysis. You'll drop these fields."
   ]
  },
  {
   "cell_type": "code",
   "execution_count": 25,
   "metadata": {},
   "outputs": [],
   "source": [
    "sdf.drop(['declared_v', 'building_a', 'applicatio'], axis=1, inplace=True)"
   ]
  },
  {
   "cell_type": "code",
   "execution_count": 26,
   "metadata": {},
   "outputs": [
    {
     "data": {
      "text/plain": [
       "Index(['SHAPE', 'added_date', 'address', 'bldgareanu', 'city',\n",
       "       'dayofmonth_added_date', 'dayofmonth_final_date',\n",
       "       'dayofmonth_issue_date', 'dayofweek_added_date', 'dayofweek_final_date',\n",
       "       'dayofweek_issue_date', 'declvalnu', 'descriptio', 'fid', 'final_date',\n",
       "       'hour_added_date', 'hour_final_date', 'hour_issue_date', 'issue_date',\n",
       "       'latitude', 'location', 'longitude', 'minute_added_date',\n",
       "       'minute_final_date', 'minute_issue_date', 'month_added_date',\n",
       "       'month_final_date', 'month_issue_date', 'objectid', 'permit_num',\n",
       "       'quarter_added_date', 'quarter_final_date', 'quarter_issue_date',\n",
       "       'rowid', 'second_added_date', 'second_final_date', 'second_issue_date',\n",
       "       'state', 'status', 'use_code', 'work_type', 'year_added_date',\n",
       "       'year_final_date', 'year_issue_date', 'zip_code'],\n",
       "      dtype='object')"
      ]
     },
     "execution_count": 26,
     "metadata": {},
     "output_type": "execute_result"
    }
   ],
   "source": [
    "sdf.columns"
   ]
  },
  {
   "cell_type": "markdown",
   "metadata": {},
   "source": [
    "The fields are no longer listed. "
   ]
  },
  {
   "cell_type": "markdown",
   "metadata": {},
   "source": [
    "Next, you'll rename some of the attribute fields with shortened or unclear names so that their names are more descriptive."
   ]
  },
  {
   "cell_type": "code",
   "execution_count": 27,
   "metadata": {},
   "outputs": [],
   "source": [
    "sdf.rename(columns={\"descriptio\": \"Description\", \"bldgareanu\": \"Building_Area\", \"declvalnu\": \"Declared_Value\"}, inplace=True)"
   ]
  },
  {
   "cell_type": "code",
   "execution_count": 28,
   "metadata": {},
   "outputs": [
    {
     "data": {
      "text/plain": [
       "Index(['SHAPE', 'added_date', 'address', 'Building_Area', 'city',\n",
       "       'dayofmonth_added_date', 'dayofmonth_final_date',\n",
       "       'dayofmonth_issue_date', 'dayofweek_added_date', 'dayofweek_final_date',\n",
       "       'dayofweek_issue_date', 'Declared_Value', 'Description', 'fid',\n",
       "       'final_date', 'hour_added_date', 'hour_final_date', 'hour_issue_date',\n",
       "       'issue_date', 'latitude', 'location', 'longitude', 'minute_added_date',\n",
       "       'minute_final_date', 'minute_issue_date', 'month_added_date',\n",
       "       'month_final_date', 'month_issue_date', 'objectid', 'permit_num',\n",
       "       'quarter_added_date', 'quarter_final_date', 'quarter_issue_date',\n",
       "       'rowid', 'second_added_date', 'second_final_date', 'second_issue_date',\n",
       "       'state', 'status', 'use_code', 'work_type', 'year_added_date',\n",
       "       'year_final_date', 'year_issue_date', 'zip_code'],\n",
       "      dtype='object')"
      ]
     },
     "execution_count": 28,
     "metadata": {},
     "output_type": "execute_result"
    }
   ],
   "source": [
    "sdf.columns"
   ]
  },
  {
   "cell_type": "markdown",
   "metadata": {},
   "source": [
    "There are other fields that you may want to either rename or remove, but for the purposes of this lesson, these are enough. "
   ]
  },
  {
   "cell_type": "markdown",
   "metadata": {},
   "source": [
    "### Filter the permits\n",
    "\n",
    "Next, you'll filter the permits to reduce the number of records in your analysis. As you saw previously, there are four types of permits that comprise over half the total number of permits. Focusing your analysis on just these four types will reduce the amount of data to analyze without ignoring the most important types of development. To remove the other use codes, you'll create a filter."
   ]
  },
  {
   "cell_type": "code",
   "execution_count": 29,
   "metadata": {},
   "outputs": [
    {
     "data": {
      "text/plain": [
       "use_code\n",
       "BUSINESS BUILDING                 3461\n",
       "MULTI-FAMILY DWELLING             1838\n",
       "COMMERCIAL MISCELLANEOUS STRUC    1197\n",
       "MERCANTILE BUILDING               1016\n",
       "dtype: int64"
      ]
     },
     "execution_count": 29,
     "metadata": {},
     "output_type": "execute_result"
    }
   ],
   "source": [
    "permits_by_type.head(4) # top 4 Use_Codes"
   ]
  },
  {
   "cell_type": "code",
   "execution_count": 30,
   "metadata": {},
   "outputs": [
    {
     "data": {
      "text/plain": [
       "['BUSINESS BUILDING',\n",
       " 'MULTI-FAMILY DWELLING',\n",
       " 'COMMERCIAL MISCELLANEOUS STRUC',\n",
       " 'MERCANTILE BUILDING']"
      ]
     },
     "execution_count": 30,
     "metadata": {},
     "output_type": "execute_result"
    }
   ],
   "source": [
    "filtered_permits = list(permits_by_type.head(4).index)\n",
    "filtered_permits"
   ]
  },
  {
   "cell_type": "markdown",
   "metadata": {},
   "source": [
    "To visualize the top 4 Use Codes on a map, you can filer the dataframe with Use_Code containing only the top 4 attribute value."
   ]
  },
  {
   "cell_type": "code",
   "execution_count": 31,
   "metadata": {},
   "outputs": [],
   "source": [
    "filtered_df = sdf.loc[sdf['use_code'].isin(filtered_permits)]"
   ]
  },
  {
   "cell_type": "code",
   "execution_count": 32,
   "metadata": {},
   "outputs": [
    {
     "data": {
      "text/html": [
       "<div>\n",
       "<style scoped>\n",
       "    .dataframe tbody tr th:only-of-type {\n",
       "        vertical-align: middle;\n",
       "    }\n",
       "\n",
       "    .dataframe tbody tr th {\n",
       "        vertical-align: top;\n",
       "    }\n",
       "\n",
       "    .dataframe thead th {\n",
       "        text-align: right;\n",
       "    }\n",
       "</style>\n",
       "<table border=\"1\" class=\"dataframe\">\n",
       "  <thead>\n",
       "    <tr style=\"text-align: right;\">\n",
       "      <th></th>\n",
       "      <th>SHAPE</th>\n",
       "      <th>added_date</th>\n",
       "      <th>address</th>\n",
       "      <th>Building_Area</th>\n",
       "      <th>city</th>\n",
       "      <th>dayofmonth_added_date</th>\n",
       "      <th>dayofmonth_final_date</th>\n",
       "      <th>dayofmonth_issue_date</th>\n",
       "      <th>dayofweek_added_date</th>\n",
       "      <th>dayofweek_final_date</th>\n",
       "      <th>...</th>\n",
       "      <th>second_final_date</th>\n",
       "      <th>second_issue_date</th>\n",
       "      <th>state</th>\n",
       "      <th>status</th>\n",
       "      <th>use_code</th>\n",
       "      <th>work_type</th>\n",
       "      <th>year_added_date</th>\n",
       "      <th>year_final_date</th>\n",
       "      <th>year_issue_date</th>\n",
       "      <th>zip_code</th>\n",
       "    </tr>\n",
       "  </thead>\n",
       "  <tbody>\n",
       "    <tr>\n",
       "      <th>0</th>\n",
       "      <td>{\"x\": -77.278324, \"y\": 39.178067, \"spatialRefe...</td>\n",
       "      <td>2010-01-07</td>\n",
       "      <td>13536 WATERFORD HILLS BLVD</td>\n",
       "      <td>1336.0</td>\n",
       "      <td>GERMANTOWN</td>\n",
       "      <td>7</td>\n",
       "      <td>13</td>\n",
       "      <td>8</td>\n",
       "      <td>4</td>\n",
       "      <td>2</td>\n",
       "      <td>...</td>\n",
       "      <td>0</td>\n",
       "      <td>0</td>\n",
       "      <td>MD</td>\n",
       "      <td>Finaled</td>\n",
       "      <td>MULTI-FAMILY DWELLING</td>\n",
       "      <td>CONSTRUCT</td>\n",
       "      <td>2010</td>\n",
       "      <td>2012</td>\n",
       "      <td>2011</td>\n",
       "      <td>20874</td>\n",
       "    </tr>\n",
       "    <tr>\n",
       "      <th>1</th>\n",
       "      <td>{\"x\": -77.27829, \"y\": 39.178056, \"spatialRefer...</td>\n",
       "      <td>2010-01-07</td>\n",
       "      <td>13538 WATERFORD HILLS BLVD</td>\n",
       "      <td>1730.0</td>\n",
       "      <td>GERMANTOWN</td>\n",
       "      <td>7</td>\n",
       "      <td>15</td>\n",
       "      <td>8</td>\n",
       "      <td>4</td>\n",
       "      <td>4</td>\n",
       "      <td>...</td>\n",
       "      <td>0</td>\n",
       "      <td>0</td>\n",
       "      <td>MD</td>\n",
       "      <td>Finaled</td>\n",
       "      <td>MULTI-FAMILY DWELLING</td>\n",
       "      <td>CONSTRUCT</td>\n",
       "      <td>2010</td>\n",
       "      <td>2012</td>\n",
       "      <td>2011</td>\n",
       "      <td>20874</td>\n",
       "    </tr>\n",
       "    <tr>\n",
       "      <th>2</th>\n",
       "      <td>{\"x\": -77.278256, \"y\": 39.178045, \"spatialRefe...</td>\n",
       "      <td>2010-01-07</td>\n",
       "      <td>13540 WATERFORD HILLS BLVD</td>\n",
       "      <td>1336.0</td>\n",
       "      <td>GERMANTOWN</td>\n",
       "      <td>7</td>\n",
       "      <td>15</td>\n",
       "      <td>8</td>\n",
       "      <td>4</td>\n",
       "      <td>4</td>\n",
       "      <td>...</td>\n",
       "      <td>0</td>\n",
       "      <td>0</td>\n",
       "      <td>MD</td>\n",
       "      <td>Finaled</td>\n",
       "      <td>MULTI-FAMILY DWELLING</td>\n",
       "      <td>CONSTRUCT</td>\n",
       "      <td>2010</td>\n",
       "      <td>2012</td>\n",
       "      <td>2011</td>\n",
       "      <td>20874</td>\n",
       "    </tr>\n",
       "    <tr>\n",
       "      <th>3</th>\n",
       "      <td>{\"x\": -77.278223, \"y\": 39.178035, \"spatialRefe...</td>\n",
       "      <td>2010-01-07</td>\n",
       "      <td>13542 WATERFORD HILLS BLVD</td>\n",
       "      <td>1730.0</td>\n",
       "      <td>GERMANTOWN</td>\n",
       "      <td>7</td>\n",
       "      <td>15</td>\n",
       "      <td>8</td>\n",
       "      <td>4</td>\n",
       "      <td>4</td>\n",
       "      <td>...</td>\n",
       "      <td>0</td>\n",
       "      <td>0</td>\n",
       "      <td>MD</td>\n",
       "      <td>Finaled</td>\n",
       "      <td>MULTI-FAMILY DWELLING</td>\n",
       "      <td>CONSTRUCT</td>\n",
       "      <td>2010</td>\n",
       "      <td>2012</td>\n",
       "      <td>2011</td>\n",
       "      <td>20874</td>\n",
       "    </tr>\n",
       "    <tr>\n",
       "      <th>4</th>\n",
       "      <td>{\"x\": -77.278189, \"y\": 39.178024, \"spatialRefe...</td>\n",
       "      <td>2010-01-07</td>\n",
       "      <td>13544 WATERFORD HILLS BLVD</td>\n",
       "      <td>1336.0</td>\n",
       "      <td>GERMANTOWN</td>\n",
       "      <td>7</td>\n",
       "      <td>15</td>\n",
       "      <td>8</td>\n",
       "      <td>4</td>\n",
       "      <td>4</td>\n",
       "      <td>...</td>\n",
       "      <td>0</td>\n",
       "      <td>0</td>\n",
       "      <td>MD</td>\n",
       "      <td>Finaled</td>\n",
       "      <td>MULTI-FAMILY DWELLING</td>\n",
       "      <td>CONSTRUCT</td>\n",
       "      <td>2010</td>\n",
       "      <td>2012</td>\n",
       "      <td>2011</td>\n",
       "      <td>20874</td>\n",
       "    </tr>\n",
       "  </tbody>\n",
       "</table>\n",
       "<p>5 rows × 45 columns</p>\n",
       "</div>"
      ],
      "text/plain": [
       "                                               SHAPE added_date  \\\n",
       "0  {\"x\": -77.278324, \"y\": 39.178067, \"spatialRefe... 2010-01-07   \n",
       "1  {\"x\": -77.27829, \"y\": 39.178056, \"spatialRefer... 2010-01-07   \n",
       "2  {\"x\": -77.278256, \"y\": 39.178045, \"spatialRefe... 2010-01-07   \n",
       "3  {\"x\": -77.278223, \"y\": 39.178035, \"spatialRefe... 2010-01-07   \n",
       "4  {\"x\": -77.278189, \"y\": 39.178024, \"spatialRefe... 2010-01-07   \n",
       "\n",
       "                      address  Building_Area        city  \\\n",
       "0  13536 WATERFORD HILLS BLVD         1336.0  GERMANTOWN   \n",
       "1  13538 WATERFORD HILLS BLVD         1730.0  GERMANTOWN   \n",
       "2  13540 WATERFORD HILLS BLVD         1336.0  GERMANTOWN   \n",
       "3  13542 WATERFORD HILLS BLVD         1730.0  GERMANTOWN   \n",
       "4  13544 WATERFORD HILLS BLVD         1336.0  GERMANTOWN   \n",
       "\n",
       "   dayofmonth_added_date  dayofmonth_final_date  dayofmonth_issue_date  \\\n",
       "0                      7                     13                      8   \n",
       "1                      7                     15                      8   \n",
       "2                      7                     15                      8   \n",
       "3                      7                     15                      8   \n",
       "4                      7                     15                      8   \n",
       "\n",
       "   dayofweek_added_date  dayofweek_final_date  ...  second_final_date  \\\n",
       "0                     4                     2  ...                  0   \n",
       "1                     4                     4  ...                  0   \n",
       "2                     4                     4  ...                  0   \n",
       "3                     4                     4  ...                  0   \n",
       "4                     4                     4  ...                  0   \n",
       "\n",
       "   second_issue_date state   status               use_code  work_type  \\\n",
       "0                  0    MD  Finaled  MULTI-FAMILY DWELLING  CONSTRUCT   \n",
       "1                  0    MD  Finaled  MULTI-FAMILY DWELLING  CONSTRUCT   \n",
       "2                  0    MD  Finaled  MULTI-FAMILY DWELLING  CONSTRUCT   \n",
       "3                  0    MD  Finaled  MULTI-FAMILY DWELLING  CONSTRUCT   \n",
       "4                  0    MD  Finaled  MULTI-FAMILY DWELLING  CONSTRUCT   \n",
       "\n",
       "   year_added_date  year_final_date year_issue_date  zip_code  \n",
       "0             2010             2012            2011     20874  \n",
       "1             2010             2012            2011     20874  \n",
       "2             2010             2012            2011     20874  \n",
       "3             2010             2012            2011     20874  \n",
       "4             2010             2012            2011     20874  \n",
       "\n",
       "[5 rows x 45 columns]"
      ]
     },
     "execution_count": 32,
     "metadata": {},
     "output_type": "execute_result"
    }
   ],
   "source": [
    "filtered_df.head()"
   ]
  },
  {
   "cell_type": "code",
   "execution_count": 33,
   "metadata": {},
   "outputs": [
    {
     "data": {
      "text/plain": [
       "((7512, 45), (7512, 45))"
      ]
     },
     "execution_count": 33,
     "metadata": {},
     "output_type": "execute_result"
    }
   ],
   "source": [
    "sdf.shape, filtered_df.shape"
   ]
  },
  {
   "cell_type": "markdown",
   "metadata": {},
   "source": [
    "The dataset is filtered. Instead of more than 11,000 permits, the filtered dataframe has about 7,500."
   ]
  },
  {
   "cell_type": "markdown",
   "metadata": {},
   "source": [
    "### Visualize filtered dataset"
   ]
  },
  {
   "cell_type": "code",
   "execution_count": 34,
   "metadata": {},
   "outputs": [],
   "source": [
    "filtered_map = agol_gis.map('Montgomery County, Maryland')"
   ]
  },
  {
   "cell_type": "code",
   "execution_count": 35,
   "metadata": {},
   "outputs": [
    {
     "data": {
      "application/vnd.jupyter.widget-view+json": {
       "model_id": "b81f8862ffe74c02868d772531a8d9d9",
       "version_major": 2,
       "version_minor": 0
      },
      "text/plain": [
       "MapView(layout=Layout(height='400px', width='100%'))"
      ]
     },
     "metadata": {},
     "output_type": "display_data"
    },
    {
     "data": {
      "text/html": [
       "<div class=\"map-static-img-preview-420e7c05-7c0c-4680-b101-636323d37679\"><img src=\"\"></img></div>"
      ],
      "text/plain": [
       "<IPython.core.display.HTML object>"
      ]
     },
     "metadata": {},
     "output_type": "display_data"
    },
    {
     "data": {
      "text/html": [
       "<div class=\"map-html-embed-preview-420e7c05-7c0c-4680-b101-636323d37679\"></div>"
      ],
      "text/plain": [
       "<IPython.core.display.HTML object>"
      ]
     },
     "metadata": {},
     "output_type": "display_data"
    }
   ],
   "source": [
    "filtered_map"
   ]
  },
  {
   "cell_type": "markdown",
   "metadata": {},
   "source": [
    "![](insights_images/image_7.png)"
   ]
  },
  {
   "cell_type": "code",
   "execution_count": 36,
   "metadata": {},
   "outputs": [
    {
     "data": {
      "text/plain": [
       "True"
      ]
     },
     "execution_count": 36,
     "metadata": {},
     "output_type": "execute_result"
    }
   ],
   "source": [
    "filtered_df.spatial.plot(kind='map', map_widget=filtered_map,\n",
    "        renderer_type='u', # specify the unique value renderer using its notation 'u'\n",
    "        col='use_code')  # column to get unique values from"
   ]
  },
  {
   "cell_type": "markdown",
   "metadata": {},
   "source": [
    "## Visualize temporal and spatial trends"
   ]
  },
  {
   "cell_type": "markdown",
   "metadata": {},
   "source": [
    "Your data show permits, but what do these permits say about when and where growth is happening in the county? Your data also contains temporal attribute fields, such as **Added_Date**, which indicates when a permit was first added to the system. The field has several values that break down the data by year, month, and even hour."
   ]
  },
  {
   "cell_type": "markdown",
   "metadata": {},
   "source": [
    "Split the **Added_date** to get year, month, week_of_day"
   ]
  },
  {
   "cell_type": "code",
   "execution_count": 37,
   "metadata": {},
   "outputs": [],
   "source": [
    "sdf['datetime'] = pd.to_datetime(sdf['added_date'], unit='ms')\n",
    "sdf['year'], sdf['month'], sdf['day_of_week'] = sdf.datetime.dt.year, sdf.datetime.dt.month, sdf.datetime.dt.dayofweek"
   ]
  },
  {
   "cell_type": "markdown",
   "metadata": {},
   "source": [
    "### Visualize permits by time of issue\n",
    "You'll create chart cards for the year, month, and day subfields to visualize patterns in permit activity over time."
   ]
  },
  {
   "cell_type": "code",
   "execution_count": 38,
   "metadata": {},
   "outputs": [],
   "source": [
    "import seaborn as sns"
   ]
  },
  {
   "cell_type": "code",
   "execution_count": 39,
   "metadata": {},
   "outputs": [
    {
     "data": {
      "image/png": "[encoded data removed]",
      "text/plain": [
       "<Figure size 432x288 with 1 Axes>"
      ]
     },
     "metadata": {
      "needs_background": "light"
     },
     "output_type": "display_data"
    }
   ],
   "source": [
    "sns.countplot(x=\"year\", data=sdf);"
   ]
  },
  {
   "cell_type": "markdown",
   "metadata": {},
   "source": [
    "The chart shows the number of permits issued each year since 2010. (The year 2017 has significantly fewer permits because the dataset only covers part of 2017.) You can compare the number of permits visually by the size of each bar. Although some fluctuation occurs from year to year, most years had similar permit activity.\n",
    "\n",
    "Similarly you can visualize it by month as well as day_of_week"
   ]
  },
  {
   "cell_type": "code",
   "execution_count": 40,
   "metadata": {},
   "outputs": [
    {
     "data": {
      "image/png": "[encoded data removed]",
      "text/plain": [
       "<Figure size 432x288 with 1 Axes>"
      ]
     },
     "metadata": {
      "needs_background": "light"
     },
     "output_type": "display_data"
    }
   ],
   "source": [
    "sns.countplot(x=\"month\", data=sdf);"
   ]
  },
  {
   "cell_type": "markdown",
   "metadata": {},
   "source": [
    "This bar chart changes to show the number of permits issued by month. Based on the chart, the highest permit activity occurs in June and July."
   ]
  },
  {
   "cell_type": "code",
   "execution_count": 41,
   "metadata": {},
   "outputs": [
    {
     "data": {
      "image/png": "[encoded data removed]",
      "text/plain": [
       "<Figure size 432x288 with 1 Axes>"
      ]
     },
     "metadata": {
      "needs_background": "light"
     },
     "output_type": "display_data"
    }
   ],
   "source": [
    "sns.countplot(x=\"day_of_week\", data=sdf);"
   ]
  },
  {
   "cell_type": "markdown",
   "metadata": {},
   "source": [
    "Almost all permit activity occurs on weekdays. Government offices are closed on weekends, so few permits are issued then."
   ]
  },
  {
   "cell_type": "code",
   "execution_count": 42,
   "metadata": {},
   "outputs": [],
   "source": [
    "ddf = sdf.set_index('datetime')"
   ]
  },
  {
   "cell_type": "code",
   "execution_count": 43,
   "metadata": {},
   "outputs": [
    {
     "data": {
      "image/png": "[encoded data removed]",
      "text/plain": [
       "<Figure size 432x288 with 1 Axes>"
      ]
     },
     "metadata": {
      "needs_background": "light"
     },
     "output_type": "display_data"
    }
   ],
   "source": [
    "ddf['num'] = 1\n",
    "ddf['num'].resample('M').sum().plot();"
   ]
  },
  {
   "cell_type": "markdown",
   "metadata": {},
   "source": [
    "A huge spike in permit activity occurred in mid-2011. What caused this spike? Is it an increase in overall permit activity, or is it mostly an increase in a certain type of permit? You'll plot the number of permits based on Use_Code to find which one cased the spike."
   ]
  },
  {
   "cell_type": "code",
   "execution_count": 44,
   "metadata": {},
   "outputs": [
    {
     "data": {
      "image/png": "[encoded data removed]",
      "text/plain": [
       "<Figure size 1080x360 with 1 Axes>"
      ]
     },
     "metadata": {
      "needs_background": "light"
     },
     "output_type": "display_data"
    }
   ],
   "source": [
    "fig = plt.figure(figsize=(15,5))\n",
    "ax = fig.add_subplot(1, 1, 1)\n",
    "\n",
    "ax.plot(ddf['num'].resample('M').sum(), 'k', label='Total permits')\n",
    "for use_code in filtered_permits:\n",
    "    x = ddf[ddf.use_code == use_code]['num'].resample('M').sum()\n",
    "    ax.plot(x, label=use_code)\n",
    "ax.legend();"
   ]
  },
  {
   "cell_type": "markdown",
   "metadata": {},
   "source": [
    "Based on the legend, permit activity spiked in 2011 due to a sharp increase in the number of multifamily dwelling permits issued. This likely means that there was large residential growth in 2011.\n",
    "\n",
    "You've investigated some temporal patterns in your data. Next, you'll look at spatial patterns. Are there certain areas in the county that have experienced a relatively high degree of permit activity? Was the 2011 spike in residential permits in a specific location? To find out, you'll change the symbology of the map card to show hot spots, or areas with concentrations of points."
   ]
  },
  {
   "cell_type": "code",
   "execution_count": 45,
   "metadata": {},
   "outputs": [
    {
     "data": {
      "application/vnd.jupyter.widget-view+json": {
       "model_id": "60947e097ebc41e38601cd9121f99cbf",
       "version_major": 2,
       "version_minor": 0
      },
      "text/plain": [
       "MapView(layout=Layout(height='400px', width='100%'))"
      ]
     },
     "metadata": {},
     "output_type": "display_data"
    },
    {
     "data": {
      "text/html": [
       "<div class=\"map-static-img-preview-28bf0212-561d-4f84-9a5f-38cee660517c\"><img src=\"\"></img></div>"
      ],
      "text/plain": [
       "<IPython.core.display.HTML object>"
      ]
     },
     "metadata": {},
     "output_type": "display_data"
    },
    {
     "data": {
      "text/html": [
       "<div class=\"map-html-embed-preview-28bf0212-561d-4f84-9a5f-38cee660517c\"></div>"
      ],
      "text/plain": [
       "<IPython.core.display.HTML object>"
      ]
     },
     "metadata": {},
     "output_type": "display_data"
    }
   ],
   "source": [
    "hotspot_map = agol_gis.map('Germantown, Montgomery County, Maryland')\n",
    "hotspot_map"
   ]
  },
  {
   "cell_type": "code",
   "execution_count": 46,
   "metadata": {},
   "outputs": [
    {
     "data": {
      "text/plain": [
       "True"
      ]
     },
     "execution_count": 46,
     "metadata": {},
     "output_type": "execute_result"
    }
   ],
   "source": [
    "sdf.spatial.plot(kind='map', map_widget=hotspot_map,\n",
    "        renderer_type='h', \n",
    "        col='status') "
   ]
  },
  {
   "cell_type": "markdown",
   "metadata": {},
   "source": [
    "![](insights_images/hotspot.png)"
   ]
  },
  {
   "cell_type": "markdown",
   "metadata": {},
   "source": [
    "The hot spots show up  where there is a high concentration of permits. The highest concentration areas are in the southeast and northwest corners of the county, which correspond to the major population centers of Germantown and the suburban communities near Washington, D.C.\n",
    "\n",
    "Next, you'll see if the 2011 permit spike corresponds to a specific area of the map. The code below filters the dataframe to only show permits from 2011 and highlights related data in the map. In this case, the heat map changes to show the hot spot in the northwest part of the county, near Germantown."
   ]
  },
  {
   "cell_type": "code",
   "execution_count": 47,
   "metadata": {},
   "outputs": [
    {
     "data": {
      "application/vnd.jupyter.widget-view+json": {
       "model_id": "ce05493bc7f7401096be7aa5c2555075",
       "version_major": 2,
       "version_minor": 0
      },
      "text/plain": [
       "MapView(layout=Layout(height='400px', width='100%'))"
      ]
     },
     "metadata": {},
     "output_type": "display_data"
    },
    {
     "data": {
      "text/html": [
       "<div class=\"map-static-img-preview-9be394ec-eae7-40f4-9f08-a33620be5feb\"><img src=\"\"></img></div>"
      ],
      "text/plain": [
       "<IPython.core.display.HTML object>"
      ]
     },
     "metadata": {},
     "output_type": "display_data"
    },
    {
     "data": {
      "text/html": [
       "<div class=\"map-html-embed-preview-9be394ec-eae7-40f4-9f08-a33620be5feb\"></div>"
      ],
      "text/plain": [
       "<IPython.core.display.HTML object>"
      ]
     },
     "metadata": {},
     "output_type": "display_data"
    }
   ],
   "source": [
    "hotspot_2011_map = agol_gis.map('Germantown, Montgomery County, Maryland')\n",
    "hotspot_2011_map"
   ]
  },
  {
   "cell_type": "code",
   "execution_count": 48,
   "metadata": {},
   "outputs": [
    {
     "data": {
      "text/plain": [
       "True"
      ]
     },
     "execution_count": 48,
     "metadata": {},
     "output_type": "execute_result"
    }
   ],
   "source": [
    "sdf[sdf.year==2011].spatial.plot(kind='map', map_widget=hotspot_2011_map,\n",
    "        renderer_type='h',\n",
    "        col='status')  # column to get unique values from"
   ]
  },
  {
   "cell_type": "markdown",
   "metadata": {},
   "source": [
    "![](insights_images/filtered_hotspot.png)"
   ]
  }
 ],
 "metadata": {
  "esriNotebookRuntime": {
   "notebookRuntimeName": "ArcGIS Notebook Python 3 Standard",
   "notebookRuntimeVersion": "5.0"
  },
  "kernelspec": {
   "display_name": "Python 3",
   "language": "python",
   "name": "python3"
  },
  "language_info": {
   "codemirror_mode": {
    "name": "ipython",
    "version": 3
   },
   "file_extension": ".py",
   "mimetype": "text/x-python",
   "name": "python",
   "nbconvert_exporter": "python",
   "pygments_lexer": "ipython3",
   "version": "3.9.11"
  },
  "toc": {
   "base_numbering": 1,
   "nav_menu": {},
   "number_sections": false,
   "sideBar": true,
   "skip_h1_title": true,
   "title_cell": "Table of Contents",
   "title_sidebar": "Contents",
   "toc_cell": true,
   "toc_position": {},
   "toc_section_display": true,
   "toc_window_display": false
  }
 },
 "nbformat": 4,
 "nbformat_minor": 2
}
