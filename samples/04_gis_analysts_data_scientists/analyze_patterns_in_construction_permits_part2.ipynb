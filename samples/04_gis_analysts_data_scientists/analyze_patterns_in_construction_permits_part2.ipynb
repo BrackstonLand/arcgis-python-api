{
 "cells": [
  {
   "cell_type": "markdown",
   "metadata": {},
   "source": [
    "# Data Summarization - Construction permits, part 2/2"
   ]
  },
  {
   "cell_type": "markdown",
   "metadata": {
    "toc": true
   },
   "source": [
    "<h1>Table of Contents<span class=\"tocSkip\"></span></h1>\n",
    "<div class=\"toc\"><ul class=\"toc-item\"><li><span><a href=\"#Aggregate-points\" data-toc-modified-id=\"Aggregate-points-1\">Aggregate points</a></span></li><li><span><a href=\"#Aggregation-results\" data-toc-modified-id=\"Aggregation-results-2\">Aggregation results</a></span></li><li><span><a href=\"#Enrich-the-data\" data-toc-modified-id=\"Enrich-the-data-3\">Enrich the data</a></span></li><li><span><a href=\"#Share-your-work\" data-toc-modified-id=\"Share-your-work-4\">Share your work</a></span></li></ul></div>"
   ]
  },
  {
   "cell_type": "markdown",
   "metadata": {},
   "source": [
    "In the \"Data Visualization - Construction permits, part 1/2\" notebook, we explored your data and learned a little about the spatial and temporal trends of permit activity in Montgomery County. In this lesson, we'll move beyond exploration and run spatial analysis tools to answer specific questions that can't be answered by the data itself. In particular, we want to know why permits spiked in Germantown in 2011 and predict where future permit spikes - and, by extension, future growth - are likely to occur.\n",
    "\n",
    "First, we'll aggregate the points by ZIP Code. We'll enrich each ZIP Code with demographic information and learn more about the demographic conditions that led to such rapid growth in such a short time. Once you determine why growth occurred where and when it did, we'll locate other ZIP Codes with similar demographic characteristics to predict future growth."
   ]
  },
  {
   "cell_type": "markdown",
   "metadata": {},
   "source": [
    "## Aggregate points"
   ]
  },
  {
   "cell_type": "code",
   "execution_count": 2,
   "metadata": {},
   "outputs": [],
   "source": [
    "from arcgis import GIS\n",
    "gis = GIS()\n",
    "# import warnings\n",
    "# warnings.filterwarnings(\"ignore\")"
   ]
  },
  {
   "cell_type": "code",
   "execution_count": 3,
   "metadata": {},
   "outputs": [
    {
     "data": {
      "text/html": [
       "<div class=\"item_container\" style=\"height: auto; overflow: hidden; border: 1px solid #cfcfcf; border-radius: 2px; background: #f6fafa; line-height: 1.21429em; padding: 10px;\">\n",
       "                    <div class=\"item_left\" style=\"width: 210px; float: left;\">\n",
       "                       <a href='https://notebooks.maps.arcgis.com/home/item.html?id=854958bac3004f4c88aaca9f64a4d2d9' target='_blank'>\n",
       "                        <img src='data:image/png;base64,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' width='200' height='133' class=\"itemThumbnail\">\n",
       "                       </a>\n",
       "                    </div>\n",
       "\n",
       "                    <div class=\"item_right\"     style=\"float: none; width: auto; overflow: hidden;\">\n",
       "                        <a href='https://notebooks.maps.arcgis.com/home/item.html?id=854958bac3004f4c88aaca9f64a4d2d9' target='_blank'><b>Commercial_Permits_since_2010</b>\n",
       "                        </a>\n",
       "                        <br/>test data<br/><img src='https://notebooks.maps.arcgis.com/home/js/jsapi/esri/css/images/item_type_icons/featureshosted16.png' style=\"vertical-align:middle;\" width=16 height=16>Feature Layer Collection by api_data_owner\n",
       "                        <br/>Last Modified: June 30, 2019\n",
       "                        <br/>0 comments, 950 views\n",
       "                    </div>\n",
       "                </div>\n",
       "                "
      ],
      "text/plain": [
       "<Item title:\"Commercial_Permits_since_2010\" type:Feature Layer Collection owner:api_data_owner>"
      ]
     },
     "execution_count": 3,
     "metadata": {},
     "output_type": "execute_result"
    }
   ],
   "source": [
    "permits = gis.content.search(\n",
    "    \"Commercial_Permits_since_2010 owner:api_data_owner\",\n",
    "                          item_type=\"Feature layer\",\n",
    "                           outside_org=True)[0]\n",
    "permits"
   ]
  },
  {
   "cell_type": "code",
   "execution_count": 4,
   "metadata": {},
   "outputs": [],
   "source": [
    "permits_layer = permits.layers[0]"
   ]
  },
  {
   "cell_type": "markdown",
   "metadata": {},
   "source": [
    "Use authoritative data from Living Atlas to assign a variable to the item."
   ]
  },
  {
   "cell_type": "code",
   "execution_count": 5,
   "metadata": {},
   "outputs": [
    {
     "data": {
      "text/html": [
       "<div class=\"item_container\" style=\"height: auto; overflow: hidden; border: 1px solid #cfcfcf; border-radius: 2px; background: #f6fafa; line-height: 1.21429em; padding: 10px;\">\n",
       "                    <div class=\"item_left\" style=\"width: 210px; float: left;\">\n",
       "                       <a href='https://notebooks.maps.arcgis.com/home/item.html?id=d6f7ee6129e241cc9b6f75978e47128b' target='_blank'>\n",
       "                        <img src='data:image/png;base64,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' width='200' height='133' class=\"itemThumbnail\">\n",
       "                       </a>\n",
       "                    </div>\n",
       "\n",
       "                    <div class=\"item_right\"     style=\"float: none; width: auto; overflow: hidden;\">\n",
       "                        <a href='https://notebooks.maps.arcgis.com/home/item.html?id=d6f7ee6129e241cc9b6f75978e47128b' target='_blank'><b>USA ZIP Code Boundaries</b>\n",
       "                        </a>\n",
       "                        <br/>U.S. ZIP Code Boundaries provides ZIP Code, postal district name, population, and area for the ZIP Code areas in the United States.<br/><img src='https://notebooks.maps.arcgis.com/home/js/jsapi/esri/css/images/item_type_icons/featureshosted16.png' style=\"vertical-align:middle;\" width=16 height=16>Feature Layer Collection by esri_dm\n",
       "                        <br/>Last Modified: August 19, 2024\n",
       "                        <br/>0 comments, 216680320 views\n",
       "                    </div>\n",
       "                </div>\n",
       "                "
      ],
      "text/plain": [
       "<Item title:\"USA ZIP Code Boundaries\" type:Feature Layer Collection owner:esri_dm>"
      ]
     },
     "execution_count": 5,
     "metadata": {},
     "output_type": "execute_result"
    }
   ],
   "source": [
    "zip_boundaries = gis.content.search(\n",
    "    \"title:'USA ZIP Code Boundaries'\",\n",
    "    item_type=\"Feature layer\",\n",
    "    outside_org=True,\n",
    ")[0]\n",
    "zip_boundaries"
   ]
  },
  {
   "cell_type": "markdown",
   "metadata": {},
   "source": [
    "Since the item is a feature layer collection, using the layers property will give us a list of layers."
   ]
  },
  {
   "cell_type": "code",
   "execution_count": 6,
   "metadata": {},
   "outputs": [],
   "source": [
    "zip_layer = zip_boundaries.layers[0]"
   ]
  },
  {
   "cell_type": "markdown",
   "metadata": {},
   "source": [
    "Next, you'll use this layer to aggregate permit points. By default, the parameters are set to use the ZIP Codes as the area layer, the permits as the layer to be aggregated, and the layer style to be based on permit count. These parameters are exactly what you want."
   ]
  },
  {
   "cell_type": "code",
   "execution_count": 7,
   "metadata": {},
   "outputs": [],
   "source": [
    "from arcgis.features.summarize_data import aggregate_points\n",
    "from datetime import datetime as dt"
   ]
  },
  {
   "cell_type": "code",
   "execution_count": 8,
   "metadata": {},
   "outputs": [
    {
     "name": "stderr",
     "output_type": "stream",
     "text": [
      "{\"cost\": 43.492}\n"
     ]
    },
    {
     "data": {
      "text/html": [
       "<div class=\"item_container\" style=\"height: auto; overflow: hidden; border: 1px solid #cfcfcf; border-radius: 2px; background: #f6fafa; line-height: 1.21429em; padding: 10px;\">\n",
       "                    <div class=\"item_left\" style=\"width: 210px; float: left;\">\n",
       "                       <a href='https://notebooks.maps.arcgis.com/home/item.html?id=0eeb44296a5f417abd582d060a5d34cd' target='_blank'>\n",
       "                        <img src='http://static.arcgis.com/images/desktopapp.png' class=\"itemThumbnail\">\n",
       "                       </a>\n",
       "                    </div>\n",
       "\n",
       "                    <div class=\"item_right\"     style=\"float: none; width: auto; overflow: hidden;\">\n",
       "                        <a href='https://notebooks.maps.arcgis.com/home/item.html?id=0eeb44296a5f417abd582d060a5d34cd' target='_blank'><b>permits_aggregated_by_zip_20240905155916</b>\n",
       "                        </a>\n",
       "                        <br/><br/><img src='https://notebooks.maps.arcgis.com/home/js/jsapi/esri/css/images/item_type_icons/featureshosted16.png' style=\"vertical-align:middle;\" width=16 height=16>Feature Layer Collection by Lingtao_X\n",
       "                        <br/>Last Modified: September 05, 2024\n",
       "                        <br/>0 comments, 0 views\n",
       "                    </div>\n",
       "                </div>\n",
       "                "
      ],
      "text/plain": [
       "<Item title:\"permits_aggregated_by_zip_20240905155916\" type:Feature Layer Collection owner:Lingtao_X>"
      ]
     },
     "execution_count": 8,
     "metadata": {},
     "output_type": "execute_result"
    }
   ],
   "source": [
    "permits_agg_by_zip = aggregate_points(\n",
    "    permits_layer,\n",
    "    zip_layer,\n",
    "    keep_boundaries_with_no_points=False,\n",
    "    output_name=f\"permits_aggregated_by_zip_{dt.now().strftime('%Y%m%d%H%M%S')}\"\n",
    ")\n",
    "permits_agg_layer = permits_agg_by_zip.layers[0]"
   ]
  },
  {
   "cell_type": "markdown",
   "metadata": {},
   "source": [
    "## Aggregation results"
   ]
  },
  {
   "cell_type": "code",
   "execution_count": 9,
   "metadata": {},
   "outputs": [
    {
     "data": {
      "application/vnd.jupyter.widget-view+json": {
       "model_id": "07b69013accb4e0cbf2bc1623eeabff9",
       "version_major": 2,
       "version_minor": 1
      },
      "text/plain": [
       "Map(center=[4741230.57328505, -8594330.124312427], extent={'xmin': -8623829.789372643, 'ymin': 4703269.4188818…"
      ]
     },
     "execution_count": 9,
     "metadata": {},
     "output_type": "execute_result"
    }
   ],
   "source": [
    "map_agg = gis.map(\"Montgomery County, Maryland\")\n",
    "map_agg"
   ]
  },
  {
   "cell_type": "code",
   "execution_count": 10,
   "metadata": {},
   "outputs": [],
   "source": [
    "map_agg.content.add(permits_agg_by_zip)"
   ]
  },
  {
   "cell_type": "markdown",
   "metadata": {},
   "source": [
    "The new layer looks like a point layer, but it's actually a polygon layer with a point symbology. Each point represents the number of permits per ZIP Code area. Larger points indicate ZIP Codes with more permits."
   ]
  },
  {
   "cell_type": "code",
   "execution_count": 11,
   "metadata": {},
   "outputs": [],
   "source": [
    "import pandas as pd"
   ]
  },
  {
   "cell_type": "code",
   "execution_count": 16,
   "metadata": {},
   "outputs": [],
   "source": [
    "permits_agg_sdf = pd.DataFrame.spatial.from_layer(permits_agg_layer)\n",
    "permits_agg_sdf.columns = [x if x == \"SHAPE\" else x.lower() for x in permits_agg_sdf.columns]"
   ]
  },
  {
   "cell_type": "code",
   "execution_count": 18,
   "metadata": {},
   "outputs": [
    {
     "data": {
      "text/html": [
       "<div>\n",
       "<style scoped>\n",
       "    .dataframe tbody tr th:only-of-type {\n",
       "        vertical-align: middle;\n",
       "    }\n",
       "\n",
       "    .dataframe tbody tr th {\n",
       "        vertical-align: top;\n",
       "    }\n",
       "\n",
       "    .dataframe thead th {\n",
       "        text-align: right;\n",
       "    }\n",
       "</style>\n",
       "<table border=\"1\" class=\"dataframe\">\n",
       "  <thead>\n",
       "    <tr style=\"text-align: right;\">\n",
       "      <th></th>\n",
       "      <th>objectid</th>\n",
       "      <th>zip_code</th>\n",
       "      <th>po_name</th>\n",
       "      <th>state</th>\n",
       "      <th>population</th>\n",
       "      <th>pop_sqmi</th>\n",
       "      <th>sqmi</th>\n",
       "      <th>point_count</th>\n",
       "      <th>analysisarea</th>\n",
       "      <th>SHAPE</th>\n",
       "    </tr>\n",
       "  </thead>\n",
       "  <tbody>\n",
       "    <tr>\n",
       "      <th>0</th>\n",
       "      <td>1</td>\n",
       "      <td>20012</td>\n",
       "      <td>Washington</td>\n",
       "      <td>DC</td>\n",
       "      <td>16069</td>\n",
       "      <td>6808.9</td>\n",
       "      <td>2.36</td>\n",
       "      <td>6</td>\n",
       "      <td>2.356958</td>\n",
       "      <td>{\"rings\": [[[-8577435.61330738, 4719746.347215...</td>\n",
       "    </tr>\n",
       "    <tr>\n",
       "      <th>1</th>\n",
       "      <td>2</td>\n",
       "      <td>20783</td>\n",
       "      <td>Hyattsville</td>\n",
       "      <td>MD</td>\n",
       "      <td>50387</td>\n",
       "      <td>8061.92</td>\n",
       "      <td>6.25</td>\n",
       "      <td>1</td>\n",
       "      <td>6.252594</td>\n",
       "      <td>{\"rings\": [[[-8571874.52570738, 4716758.150415...</td>\n",
       "    </tr>\n",
       "    <tr>\n",
       "      <th>2</th>\n",
       "      <td>3</td>\n",
       "      <td>20814</td>\n",
       "      <td>Bethesda</td>\n",
       "      <td>MD</td>\n",
       "      <td>33669</td>\n",
       "      <td>6588.85</td>\n",
       "      <td>5.11</td>\n",
       "      <td>1143</td>\n",
       "      <td>5.109396</td>\n",
       "      <td>{\"rings\": [[[-8586356.31200737, 4725395.745915...</td>\n",
       "    </tr>\n",
       "    <tr>\n",
       "      <th>3</th>\n",
       "      <td>4</td>\n",
       "      <td>20815</td>\n",
       "      <td>Chevy Chase</td>\n",
       "      <td>MD</td>\n",
       "      <td>30893</td>\n",
       "      <td>5774.39</td>\n",
       "      <td>5.35</td>\n",
       "      <td>584</td>\n",
       "      <td>5.354012</td>\n",
       "      <td>{\"rings\": [[[-8584098.68600737, 4717919.800115...</td>\n",
       "    </tr>\n",
       "    <tr>\n",
       "      <th>4</th>\n",
       "      <td>5</td>\n",
       "      <td>20816</td>\n",
       "      <td>Bethesda</td>\n",
       "      <td>MD</td>\n",
       "      <td>16512</td>\n",
       "      <td>3581.78</td>\n",
       "      <td>4.61</td>\n",
       "      <td>155</td>\n",
       "      <td>4.608462</td>\n",
       "      <td>{\"rings\": [[[-8591590.85510738, 4717142.631815...</td>\n",
       "    </tr>\n",
       "    <tr>\n",
       "      <th>5</th>\n",
       "      <td>6</td>\n",
       "      <td>20817</td>\n",
       "      <td>Bethesda</td>\n",
       "      <td>MD</td>\n",
       "      <td>39114</td>\n",
       "      <td>2815.98</td>\n",
       "      <td>13.89</td>\n",
       "      <td>734</td>\n",
       "      <td>13.891985</td>\n",
       "      <td>{\"rings\": [[[-8595385.97030737, 4718600.340215...</td>\n",
       "    </tr>\n",
       "    <tr>\n",
       "      <th>6</th>\n",
       "      <td>7</td>\n",
       "      <td>20818</td>\n",
       "      <td>Cabin John</td>\n",
       "      <td>MD</td>\n",
       "      <td>1882</td>\n",
       "      <td>1920.41</td>\n",
       "      <td>0.98</td>\n",
       "      <td>13</td>\n",
       "      <td>0.980814</td>\n",
       "      <td>{\"rings\": [[[-8591561.56690738, 4717346.303815...</td>\n",
       "    </tr>\n",
       "    <tr>\n",
       "      <th>7</th>\n",
       "      <td>8</td>\n",
       "      <td>20832</td>\n",
       "      <td>Olney</td>\n",
       "      <td>MD</td>\n",
       "      <td>26083</td>\n",
       "      <td>2768.9</td>\n",
       "      <td>9.42</td>\n",
       "      <td>212</td>\n",
       "      <td>9.424987</td>\n",
       "      <td>{\"rings\": [[[-8584094.06620738, 4748044.991815...</td>\n",
       "    </tr>\n",
       "    <tr>\n",
       "      <th>8</th>\n",
       "      <td>9</td>\n",
       "      <td>20833</td>\n",
       "      <td>Brookeville</td>\n",
       "      <td>MD</td>\n",
       "      <td>7944</td>\n",
       "      <td>347.35</td>\n",
       "      <td>22.87</td>\n",
       "      <td>40</td>\n",
       "      <td>22.868169</td>\n",
       "      <td>{\"rings\": [[[-8584384.49880738, 4760043.003015...</td>\n",
       "    </tr>\n",
       "    <tr>\n",
       "      <th>9</th>\n",
       "      <td>10</td>\n",
       "      <td>20837</td>\n",
       "      <td>Poolesville</td>\n",
       "      <td>MD</td>\n",
       "      <td>6890</td>\n",
       "      <td>163.66</td>\n",
       "      <td>42.1</td>\n",
       "      <td>51</td>\n",
       "      <td>42.101676</td>\n",
       "      <td>{\"rings\": [[[-8627670.41480738, 4738184.291215...</td>\n",
       "    </tr>\n",
       "  </tbody>\n",
       "</table>\n",
       "</div>"
      ],
      "text/plain": [
       "   objectid zip_code      po_name state  population  pop_sqmi   sqmi  \\\n",
       "0         1    20012   Washington    DC       16069    6808.9   2.36   \n",
       "1         2    20783  Hyattsville    MD       50387   8061.92   6.25   \n",
       "2         3    20814     Bethesda    MD       33669   6588.85   5.11   \n",
       "3         4    20815  Chevy Chase    MD       30893   5774.39   5.35   \n",
       "4         5    20816     Bethesda    MD       16512   3581.78   4.61   \n",
       "5         6    20817     Bethesda    MD       39114   2815.98  13.89   \n",
       "6         7    20818   Cabin John    MD        1882   1920.41   0.98   \n",
       "7         8    20832        Olney    MD       26083    2768.9   9.42   \n",
       "8         9    20833  Brookeville    MD        7944    347.35  22.87   \n",
       "9        10    20837  Poolesville    MD        6890    163.66   42.1   \n",
       "\n",
       "   point_count  analysisarea  \\\n",
       "0            6      2.356958   \n",
       "1            1      6.252594   \n",
       "2         1143      5.109396   \n",
       "3          584      5.354012   \n",
       "4          155      4.608462   \n",
       "5          734     13.891985   \n",
       "6           13      0.980814   \n",
       "7          212      9.424987   \n",
       "8           40     22.868169   \n",
       "9           51     42.101676   \n",
       "\n",
       "                                               SHAPE  \n",
       "0  {\"rings\": [[[-8577435.61330738, 4719746.347215...  \n",
       "1  {\"rings\": [[[-8571874.52570738, 4716758.150415...  \n",
       "2  {\"rings\": [[[-8586356.31200737, 4725395.745915...  \n",
       "3  {\"rings\": [[[-8584098.68600737, 4717919.800115...  \n",
       "4  {\"rings\": [[[-8591590.85510738, 4717142.631815...  \n",
       "5  {\"rings\": [[[-8595385.97030737, 4718600.340215...  \n",
       "6  {\"rings\": [[[-8591561.56690738, 4717346.303815...  \n",
       "7  {\"rings\": [[[-8584094.06620738, 4748044.991815...  \n",
       "8  {\"rings\": [[[-8584384.49880738, 4760043.003015...  \n",
       "9  {\"rings\": [[[-8627670.41480738, 4738184.291215...  "
      ]
     },
     "execution_count": 18,
     "metadata": {},
     "output_type": "execute_result"
    }
   ],
   "source": [
    "permits_agg_sdf.head(10)"
   ]
  },
  {
   "cell_type": "markdown",
   "metadata": {},
   "source": [
    "Review some basic statistics about the data."
   ]
  },
  {
   "cell_type": "code",
   "execution_count": 21,
   "metadata": {},
   "outputs": [
    {
     "data": {
      "text/plain": [
       "count          45.0\n",
       "mean     249.422222\n",
       "std      303.014438\n",
       "min             1.0\n",
       "25%            27.0\n",
       "50%           137.0\n",
       "75%           316.0\n",
       "max          1143.0\n",
       "Name: point_count, dtype: Float64"
      ]
     },
     "execution_count": 21,
     "metadata": {},
     "output_type": "execute_result"
    }
   ],
   "source": [
    "permits_agg_sdf[\"point_count\"].describe()"
   ]
  },
  {
   "cell_type": "markdown",
   "metadata": {},
   "source": [
    "Although most of the large point symbols on the map are in the southeast corner, near Washington, D.C., there are a few large points in the northwest. In particular, there is a very large circle in the ZIP Code located in Clarksburg. (If you're using different ZIP Code data, this area may be identified as ZIP Code 20871 instead.) The ZIP code has 948 permits. Additionally, this area geographically corresponds to the hot spot you identified in the previous lesson. This ZIP Code is one that you'll focus on when you enrich your layer with demographic data."
   ]
  },
  {
   "cell_type": "markdown",
   "metadata": {},
   "source": [
    "## Enrich the data\n",
    "\n",
    "Are there demographic characteristics about the Clarksburg ZIP Code that contributed to its high growth? If so, are there other areas with those characteristics that may experience growth in the future? To answer these questions, you'll use the **Enrich Data** analysis tool. This tool adds demographic attributes of your choice to your data. Specifically, you'll add Tapestry information to each ZIP Code. <a href=\"https://doc.arcgis.com/en/esri-demographics/latest/regional-data/tapestry-segmentation.htm\">Tapestry</a> is a summary of many demographic and socioeconomic variables, including age groups and lifestyle choices. It'll teach you more about the types of people who live in your area of interest and help you better understand the reasons why growth happened where it did."
   ]
  },
  {
   "cell_type": "code",
   "execution_count": 22,
   "metadata": {},
   "outputs": [],
   "source": [
    "from arcgis.features.enrich_data import enrich_layer"
   ]
  },
  {
   "cell_type": "markdown",
   "metadata": {},
   "source": [
    "The analysis variable **TSEGNAME** is 2022 Dominant Tapestry Segment Name such as Exurbanites, City Lights, Metro Renters, etc. The detailed summary of various segments can be found in <a href=\"https://doc.arcgis.com/en/esri-demographics/latest/regional-data/tapestry-segmentation.htm#ESRI_SECTION1_209EDB8ACF264A4785CE8D7C9210949D:~:text=Segmentation%20Methodology%20Statement-,Tapestry%20segment%20summaries,-The%2067%20distinct\">here</a>."
   ]
  },
  {
   "cell_type": "code",
   "execution_count": 23,
   "metadata": {},
   "outputs": [
    {
     "name": "stderr",
     "output_type": "stream",
     "text": [
      "{\"cost\": -1}\n"
     ]
    }
   ],
   "source": [
    "zip_enriched = enrich_layer(\n",
    "    permits_agg_layer,\n",
    "    analysis_variables=[\"AtRisk.TSEGNAME\"],\n",
    "    output_name=f\"zip_enriched_{dt.now().strftime('%Y%m%d%H%M%S')}\"\n",
    ")"
   ]
  },
  {
   "cell_type": "code",
   "execution_count": null,
   "metadata": {},
   "outputs": [],
   "source": [
    "zip_enriched_layer = zip_enriched.layers[0]"
   ]
  },
  {
   "cell_type": "code",
   "execution_count": 26,
   "metadata": {},
   "outputs": [],
   "source": [
    "zip_enriched_sdf = pd.DataFrame.spatial.from_layer(zip_enriched_layer)\n",
    "zip_enriched_sdf.columns = [x if x == \"SHAPE\" else x.lower() for x in zip_enriched_sdf.columns]"
   ]
  },
  {
   "cell_type": "code",
   "execution_count": 27,
   "metadata": {},
   "outputs": [
    {
     "data": {
      "text/html": [
       "<div>\n",
       "<style scoped>\n",
       "    .dataframe tbody tr th:only-of-type {\n",
       "        vertical-align: middle;\n",
       "    }\n",
       "\n",
       "    .dataframe tbody tr th {\n",
       "        vertical-align: top;\n",
       "    }\n",
       "\n",
       "    .dataframe thead th {\n",
       "        text-align: right;\n",
       "    }\n",
       "</style>\n",
       "<table border=\"1\" class=\"dataframe\">\n",
       "  <thead>\n",
       "    <tr style=\"text-align: right;\">\n",
       "      <th></th>\n",
       "      <th>objectid</th>\n",
       "      <th>zip_code</th>\n",
       "      <th>po_name</th>\n",
       "      <th>state</th>\n",
       "      <th>population</th>\n",
       "      <th>pop_sqmi</th>\n",
       "      <th>sqmi</th>\n",
       "      <th>point_count</th>\n",
       "      <th>analysisarea</th>\n",
       "      <th>id</th>\n",
       "      <th>sourcecountry</th>\n",
       "      <th>enrich_fid</th>\n",
       "      <th>aggregationmethod</th>\n",
       "      <th>populationtopolygonsizerating</th>\n",
       "      <th>apportionmentconfidence</th>\n",
       "      <th>hasdata</th>\n",
       "      <th>tsegname</th>\n",
       "      <th>SHAPE</th>\n",
       "    </tr>\n",
       "  </thead>\n",
       "  <tbody>\n",
       "    <tr>\n",
       "      <th>0</th>\n",
       "      <td>1</td>\n",
       "      <td>20012</td>\n",
       "      <td>Washington</td>\n",
       "      <td>DC</td>\n",
       "      <td>16069</td>\n",
       "      <td>6808.9</td>\n",
       "      <td>2.36</td>\n",
       "      <td>6</td>\n",
       "      <td>2.356958</td>\n",
       "      <td>0</td>\n",
       "      <td>US</td>\n",
       "      <td>1</td>\n",
       "      <td>BlockApportionment:US.BlockGroups;PointsLayer:...</td>\n",
       "      <td>2.191</td>\n",
       "      <td>2.576</td>\n",
       "      <td>1</td>\n",
       "      <td>City Lights</td>\n",
       "      <td>{\"rings\": [[[-8577435.6133, 4719746.3472], [-8...</td>\n",
       "    </tr>\n",
       "    <tr>\n",
       "      <th>1</th>\n",
       "      <td>2</td>\n",
       "      <td>20783</td>\n",
       "      <td>Hyattsville</td>\n",
       "      <td>MD</td>\n",
       "      <td>50387</td>\n",
       "      <td>8061.92</td>\n",
       "      <td>6.25</td>\n",
       "      <td>1</td>\n",
       "      <td>6.252594</td>\n",
       "      <td>1</td>\n",
       "      <td>US</td>\n",
       "      <td>2</td>\n",
       "      <td>BlockApportionment:US.BlockGroups;PointsLayer:...</td>\n",
       "      <td>2.191</td>\n",
       "      <td>2.576</td>\n",
       "      <td>1</td>\n",
       "      <td>NeWest Residents</td>\n",
       "      <td>{\"rings\": [[[-8571874.5257, 4716758.1504], [-8...</td>\n",
       "    </tr>\n",
       "    <tr>\n",
       "      <th>2</th>\n",
       "      <td>3</td>\n",
       "      <td>20814</td>\n",
       "      <td>Bethesda</td>\n",
       "      <td>MD</td>\n",
       "      <td>33669</td>\n",
       "      <td>6588.85</td>\n",
       "      <td>5.11</td>\n",
       "      <td>1143</td>\n",
       "      <td>5.109396</td>\n",
       "      <td>2</td>\n",
       "      <td>US</td>\n",
       "      <td>3</td>\n",
       "      <td>BlockApportionment:US.BlockGroups;PointsLayer:...</td>\n",
       "      <td>2.191</td>\n",
       "      <td>2.576</td>\n",
       "      <td>1</td>\n",
       "      <td>Metro Renters</td>\n",
       "      <td>{\"rings\": [[[-8586356.312, 4725395.7459], [-85...</td>\n",
       "    </tr>\n",
       "    <tr>\n",
       "      <th>3</th>\n",
       "      <td>4</td>\n",
       "      <td>20815</td>\n",
       "      <td>Chevy Chase</td>\n",
       "      <td>MD</td>\n",
       "      <td>30893</td>\n",
       "      <td>5774.39</td>\n",
       "      <td>5.35</td>\n",
       "      <td>584</td>\n",
       "      <td>5.354012</td>\n",
       "      <td>3</td>\n",
       "      <td>US</td>\n",
       "      <td>4</td>\n",
       "      <td>BlockApportionment:US.BlockGroups;PointsLayer:...</td>\n",
       "      <td>2.191</td>\n",
       "      <td>2.576</td>\n",
       "      <td>1</td>\n",
       "      <td>Top Tier</td>\n",
       "      <td>{\"rings\": [[[-8584098.686, 4717919.8001], [-85...</td>\n",
       "    </tr>\n",
       "    <tr>\n",
       "      <th>4</th>\n",
       "      <td>5</td>\n",
       "      <td>20816</td>\n",
       "      <td>Bethesda</td>\n",
       "      <td>MD</td>\n",
       "      <td>16512</td>\n",
       "      <td>3581.78</td>\n",
       "      <td>4.61</td>\n",
       "      <td>155</td>\n",
       "      <td>4.608462</td>\n",
       "      <td>4</td>\n",
       "      <td>US</td>\n",
       "      <td>5</td>\n",
       "      <td>BlockApportionment:US.BlockGroups;PointsLayer:...</td>\n",
       "      <td>2.191</td>\n",
       "      <td>2.576</td>\n",
       "      <td>1</td>\n",
       "      <td>Top Tier</td>\n",
       "      <td>{\"rings\": [[[-8591590.8551, 4717142.6318], [-8...</td>\n",
       "    </tr>\n",
       "  </tbody>\n",
       "</table>\n",
       "</div>"
      ],
      "text/plain": [
       "   objectid zip_code      po_name state  population  pop_sqmi  sqmi  \\\n",
       "0         1    20012   Washington    DC       16069    6808.9  2.36   \n",
       "1         2    20783  Hyattsville    MD       50387   8061.92  6.25   \n",
       "2         3    20814     Bethesda    MD       33669   6588.85  5.11   \n",
       "3         4    20815  Chevy Chase    MD       30893   5774.39  5.35   \n",
       "4         5    20816     Bethesda    MD       16512   3581.78  4.61   \n",
       "\n",
       "   point_count  analysisarea id sourcecountry  enrich_fid  \\\n",
       "0            6      2.356958  0            US           1   \n",
       "1            1      6.252594  1            US           2   \n",
       "2         1143      5.109396  2            US           3   \n",
       "3          584      5.354012  3            US           4   \n",
       "4          155      4.608462  4            US           5   \n",
       "\n",
       "                                   aggregationmethod  \\\n",
       "0  BlockApportionment:US.BlockGroups;PointsLayer:...   \n",
       "1  BlockApportionment:US.BlockGroups;PointsLayer:...   \n",
       "2  BlockApportionment:US.BlockGroups;PointsLayer:...   \n",
       "3  BlockApportionment:US.BlockGroups;PointsLayer:...   \n",
       "4  BlockApportionment:US.BlockGroups;PointsLayer:...   \n",
       "\n",
       "   populationtopolygonsizerating  apportionmentconfidence  hasdata  \\\n",
       "0                          2.191                    2.576        1   \n",
       "1                          2.191                    2.576        1   \n",
       "2                          2.191                    2.576        1   \n",
       "3                          2.191                    2.576        1   \n",
       "4                          2.191                    2.576        1   \n",
       "\n",
       "           tsegname                                              SHAPE  \n",
       "0       City Lights  {\"rings\": [[[-8577435.6133, 4719746.3472], [-8...  \n",
       "1  NeWest Residents  {\"rings\": [[[-8571874.5257, 4716758.1504], [-8...  \n",
       "2     Metro Renters  {\"rings\": [[[-8586356.312, 4725395.7459], [-85...  \n",
       "3          Top Tier  {\"rings\": [[[-8584098.686, 4717919.8001], [-85...  \n",
       "4          Top Tier  {\"rings\": [[[-8591590.8551, 4717142.6318], [-8...  "
      ]
     },
     "execution_count": 27,
     "metadata": {},
     "output_type": "execute_result"
    }
   ],
   "source": [
    "zip_enriched_sdf.head()"
   ]
  },
  {
   "cell_type": "code",
   "execution_count": 37,
   "metadata": {},
   "outputs": [
    {
     "data": {
      "application/vnd.jupyter.widget-view+json": {
       "model_id": "2e18ea7ed53b4d9bafcab7a9beb4574f",
       "version_major": 2,
       "version_minor": 1
      },
      "text/plain": [
       "Map(center=[4741230.57328505, -8594330.124312427], extent={'xmin': -8623829.789372643, 'ymin': 4703269.4188818…"
      ]
     },
     "execution_count": 37,
     "metadata": {},
     "output_type": "execute_result"
    }
   ],
   "source": [
    "map_enriched = gis.map(\"Montgomery County, Maryland\")\n",
    "map_enriched"
   ]
  },
  {
   "cell_type": "code",
   "execution_count": 38,
   "metadata": {},
   "outputs": [],
   "source": [
    "map_enriched.content.add(zip_enriched_layer)  # visualizing boundaries"
   ]
  },
  {
   "cell_type": "code",
   "execution_count": 39,
   "metadata": {},
   "outputs": [],
   "source": [
    "map_enriched.content.add(zip_enriched_layer)  # visualizing population"
   ]
  },
  {
   "cell_type": "code",
   "execution_count": 42,
   "metadata": {},
   "outputs": [],
   "source": [
    "zip_enriched_layer_sm = map_enriched.content.renderer(1).smart_mapping()\n",
    "zip_enriched_layer_sm.class_breaks_renderer(\n",
    "    break_type=\"size\",\n",
    "    field=\"population\"\n",
    ")"
   ]
  },
  {
   "cell_type": "markdown",
   "metadata": {},
   "source": [
    "Click some of the ZIP Codes.\n",
    "\n",
    "The Tapestry segment is displayed when you click a ZIP Code. The Tapestry segments have names such as Enterprising Professionals and Savvy Suburbanites. You can look up more information about each segment, including its specific demographic characteristics, on the<a href=\"http://doc.arcgis.com/en/esri-demographics/data/tapestry-segmentation.htm\"> Tapestry Segmentation help page</a>."
   ]
  },
  {
   "cell_type": "markdown",
   "metadata": {},
   "source": [
    "What Tapestry segment is dominant for the Clarksburg ZIP Code where major growth occurred? Click the Clarksburg ZIP Code to find out. According to the pop-up, Boomburbs is the dominant Tapestry segment for the ZIP Code. Boomburbs have many young professionals with families living in affordable new housing. This description may explain why the area saw such rapid residential growth in 2011. It's possible that other ZIP Codes with similar demographic profiles may experience rapid growth in the near future."
   ]
  },
  {
   "cell_type": "markdown",
   "metadata": {},
   "source": [
    "Click the ZIP Code directly southwest of Clarksburg.\n",
    "\n",
    "This ZIP Code is in Boyds. It also has the Boomburbs Tapestry segment. However, its number of permits has been relatively low since 2010. The county may be able to anticipate a similar spike in permit activity in this area.\n",
    "\n",
    "Although Tapestry segments are based on several demographic characteristics, you could also perform this analysis with other variables. For instance, you could determine if there is a correlation between high permit activity and high population growth. Is a young population or a high income level a stronger indicator of growth? You can answer these questions and others with the analysis tools at your disposal. For the purposes of this lesson, however, your results are satisfactory."
   ]
  },
  {
   "cell_type": "markdown",
   "metadata": {},
   "source": [
    "## Share your work"
   ]
  },
  {
   "cell_type": "markdown",
   "metadata": {},
   "source": [
    "We've analyzed your data and come to a couple conclusions about your data. Next, we'll share your results online. Currently, our result layers are layers that are accessible only to you. Sharing our data will make it easier for county officials to use your data in other ArcGIS applications and communicate key information to the public. In particular, we'll share your work to ArcGIS Online. We'll share your enriched ZIP Codes dataset as feature layers that can be added to any web map. \n",
    "\n",
    "The layer contains fields for both the count of permits per ZIP Code and the dominant Tapestry segment—basically all of the result data we created in your analysis. We'll only need to share this layer, not the original aggregation layer.\n",
    "\n",
    "Using the `sharing_level` property, you can share your work with others."
   ]
  },
  {
   "cell_type": "code",
   "execution_count": 33,
   "metadata": {},
   "outputs": [],
   "source": [
    "zip_enriched.sharing.sharing_level = \"EVERYONE\""
   ]
  },
  {
   "cell_type": "markdown",
   "metadata": {},
   "source": [
    "In this notebook, we used ArcGIS API for Python to explore and analyze permit data for Montgomery County, Maryland. You answered questions about your data's spatial and temporal trends and located areas of the county with rapid growth. We compared your findings with demographic data, came to conclusions about the possible causes of growth, and even predicted an area that may experience similar growth in the future based on shared demographic characteristics. With ArcGIS API for Python, we can perform a similar workflow on any of your data to better understand what it contains and what questions it can answer."
   ]
  }
 ],
 "metadata": {
  "esriNotebookRuntime": {
   "notebookRuntimeName": "ArcGIS Notebook Python 3 Standard",
   "notebookRuntimeVersion": "9.0"
  },
  "kernelspec": {
   "display_name": "Python 3 (ipykernel)",
   "language": "python",
   "name": "python3"
  },
  "language_info": {
   "codemirror_mode": {
    "name": "ipython",
    "version": 3
   },
   "file_extension": ".py",
   "mimetype": "text/x-python",
   "name": "python",
   "nbconvert_exporter": "python",
   "pygments_lexer": "ipython3",
   "version": "3.11.8"
  },
  "toc": {
   "base_numbering": 1,
   "nav_menu": {},
   "number_sections": false,
   "sideBar": true,
   "skip_h1_title": true,
   "title_cell": "Table of Contents",
   "title_sidebar": "Contents",
   "toc_cell": true,
   "toc_position": {},
   "toc_section_display": true,
   "toc_window_display": false
  }
 },
 "nbformat": 4,
 "nbformat_minor": 4
}
