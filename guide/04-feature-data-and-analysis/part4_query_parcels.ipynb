{
 "cells": [
  {
   "cell_type": "markdown",
   "metadata": {},
   "source": [
    "# Part 4 - Query Parcels"
   ]
  },
  {
   "cell_type": "markdown",
   "metadata": {
    "toc": true
   },
   "source": [
    "<h1>Table of Contents<span class=\"tocSkip\"></span></h1>\n",
    "<div class=\"toc\"><ul class=\"toc-item\"><li><span><a href=\"#Part-4---Query-Parcels\" data-toc-modified-id=\"Part-4---Query-Parcels-1\"><span class=\"toc-item-num\">1&nbsp;&nbsp;</span>Part 4 - Query Parcels</a></span><ul class=\"toc-item\"><li><ul class=\"toc-item\"><li><span><a href=\"#Parcel-Feature-Relationships-and-Querying\" data-toc-modified-id=\"Parcel-Feature-Relationships-and-Querying-1.0.1\"><span class=\"toc-item-num\">1.0.1&nbsp;&nbsp;</span>Parcel Feature Relationships and Querying</a></span><ul class=\"toc-item\"><li><span><a href=\"#Records\" data-toc-modified-id=\"Records-1.0.1.1\"><span class=\"toc-item-num\">1.0.1.1&nbsp;&nbsp;</span>Records</a></span></li><li><span><a href=\"#Parcel-features\" data-toc-modified-id=\"Parcel-features-1.0.1.2\"><span class=\"toc-item-num\">1.0.1.2&nbsp;&nbsp;</span>Parcel features</a></span></li><li><span><a href=\"#Find-a-parcel-record-by-its-name\" data-toc-modified-id=\"Find-a-parcel-record-by-its-name-1.0.1.3\"><span class=\"toc-item-num\">1.0.1.3&nbsp;&nbsp;</span>Find a parcel record by its name</a></span></li></ul></li><li><span><a href=\"#Find-parcel-features-by-Record-GlobalID\" data-toc-modified-id=\"Find-parcel-features-by-Record-GlobalID-1.0.2\"><span class=\"toc-item-num\">1.0.2&nbsp;&nbsp;</span>Find parcel features by Record GlobalID</a></span></li><li><span><a href=\"#API-Ref-Documentation\" data-toc-modified-id=\"API-Ref-Documentation-1.0.3\"><span class=\"toc-item-num\">1.0.3&nbsp;&nbsp;</span>API Ref Documentation</a></span></li></ul></li></ul></li></ul></div>"
   ]
  },
  {
   "cell_type": "markdown",
   "metadata": {},
   "source": [
    "### Parcel Feature Relationships and Querying\n",
    "\n",
    "This notebook demonstrates the following:\n",
    "\n",
    "1. How to query a feature layer\n",
    "2. How to find parcel features within a parcel record.\n",
    "3. How to find parcel features by an attribute.\n",
    "4. Build up a dict of parcel features for Parcel Fabric capabilities."
   ]
  },
  {
   "cell_type": "markdown",
   "metadata": {},
   "source": [
    "#### Records\n",
    "A Parcel Fabric contains a Records which represents the legal document information about a parcel or set of parcels.  The geometry of a record is the outer boundary of any parcel polygon features associated with a particular record.  The record feature and parcel feature(s) are related by GUID fields (GlobalID) in each."
   ]
  },
  {
   "cell_type": "markdown",
   "metadata": {},
   "source": [
    "|Field Name  |Type  |\n",
    "|------------|------|\n",
    "|GlobalID    |GUID  |"
   ]
  },
  {
   "cell_type": "markdown",
   "metadata": {},
   "source": [
    "#### Parcel features\n",
    "A parcel type consists of a pair of feature classes.  \n",
    "- A polygon feature class representing the area of a parcel.\n",
    "- A COGO enabled line feature class representing the boundary of a parcel.\n",
    "\n",
    "Parcel features (both lines and polygons) relate to a Record and to themselves:"
   ]
  },
  {
   "cell_type": "markdown",
   "metadata": {},
   "source": [
    "|Field Name      |Type       |\n",
    "|----------------|-----------|\n",
    "|CreatedByRecord |GUID       |\n",
    "|RetiredByRecord |GUID       |"
   ]
  },
  {
   "cell_type": "code",
   "execution_count": 1,
   "metadata": {},
   "outputs": [],
   "source": [
    "from arcgis.gis import GIS\n",
    "from arcgis.features.layer import FeatureLayerCollection\n",
    "from arcgis.features.layer import FeatureLayer"
   ]
  },
  {
   "cell_type": "code",
   "execution_count": 2,
   "metadata": {},
   "outputs": [
    {
     "name": "stderr",
     "output_type": "stream",
     "text": [
      "Setting `verify_cert` to False is a security risk, use at your own risk.\n"
     ]
    },
    {
     "data": {
      "text/plain": [
       "'WashCoFabricSubset'"
      ]
     },
     "execution_count": 2,
     "metadata": {},
     "output_type": "execute_result"
    }
   ],
   "source": [
    "base_server_url = (\n",
    "    \"https://rextapilnx02eb.mysite.com/server/rest/services/WashingtonCounty/\"\n",
    ")\n",
    "gis = GIS(\n",
    "    \"https://myenterprisesite.com/portal/\",\n",
    "    \"my_user_name\",\n",
    "    \"my_secure_password\",\n",
    "    verify_cert=False,\n",
    ")\n",
    "\n",
    "# generate the enpoint urls for feature server, version management and parcel fabric\n",
    "service_endpoints = [\"FeatureServer\", \"VersionManagementServer\"]\n",
    "service_urls = {url: base_server_url + url for url in service_endpoints}\n",
    "\n",
    "parcel_fabric_flc = FeatureLayerCollection(service_urls[\"FeatureServer\"], gis)\n",
    "parcel_fabric_flc.layers[0].properties.name"
   ]
  },
  {
   "cell_type": "code",
   "execution_count": 3,
   "metadata": {},
   "outputs": [
    {
     "data": {
      "text/plain": [
       "'https://rextapilnx02eb.mysite.com/server/rest/services/WashingtonCounty/FeatureServer/1'"
      ]
     },
     "execution_count": 3,
     "metadata": {},
     "output_type": "execute_result"
    }
   ],
   "source": [
    "# Get the URL of the Records feature layer\n",
    "records_fl_url = [n for n in parcel_fabric_flc.layers if n.properties.name == \"Records\"]\n",
    "records_fl_url = records_fl_url[0].url\n",
    "records_fl_url"
   ]
  },
  {
   "cell_type": "markdown",
   "metadata": {},
   "source": [
    "#### Find a parcel record by its name\n",
    "\n",
    "- Access the Records feature layer\n",
    "- Create a WHERE clause and list of fields to return\n",
    "- Query the records feature layer\n",
    "- Return the result as a spatial data frame\n",
    " "
   ]
  },
  {
   "cell_type": "code",
   "execution_count": 4,
   "metadata": {},
   "outputs": [
    {
     "data": {
      "text/html": [
       "<div>\n",
       "<style scoped>\n",
       "    .dataframe tbody tr th:only-of-type {\n",
       "        vertical-align: middle;\n",
       "    }\n",
       "\n",
       "    .dataframe tbody tr th {\n",
       "        vertical-align: top;\n",
       "    }\n",
       "\n",
       "    .dataframe thead th {\n",
       "        text-align: right;\n",
       "    }\n",
       "</style>\n",
       "<table border=\"1\" class=\"dataframe\">\n",
       "  <thead>\n",
       "    <tr style=\"text-align: right;\">\n",
       "      <th></th>\n",
       "      <th>objectid</th>\n",
       "      <th>name</th>\n",
       "      <th>globalid</th>\n",
       "      <th>SHAPE</th>\n",
       "    </tr>\n",
       "  </thead>\n",
       "  <tbody>\n",
       "    <tr>\n",
       "      <th>0</th>\n",
       "      <td>123</td>\n",
       "      <td>Record001</td>\n",
       "      <td>{4B753DC5-AEDD-4703-AE56-B236EBB5DEFB}</td>\n",
       "      <td>{\"rings\": [[[2474616.7778283805, 503108.655806...</td>\n",
       "    </tr>\n",
       "  </tbody>\n",
       "</table>\n",
       "</div>"
      ],
      "text/plain": [
       "   objectid       name                                globalid  \\\n",
       "0       123  Record001  {4B753DC5-AEDD-4703-AE56-B236EBB5DEFB}   \n",
       "\n",
       "                                               SHAPE  \n",
       "0  {\"rings\": [[[2474616.7778283805, 503108.655806...  "
      ]
     },
     "execution_count": 4,
     "metadata": {},
     "output_type": "execute_result"
    }
   ],
   "source": [
    "record_name = \"Record001\"  # name to search\n",
    "out_fields = [\"name\", \"globalId\"]  # fields to return\n",
    "\n",
    "where = f\"name = '{record_name}'\"\n",
    "\n",
    "records_fl = FeatureLayer(records_fl_url, gis)\n",
    "record_row = records_fl.query(\n",
    "    where=where,\n",
    "    out_fields=out_fields,\n",
    ").sdf\n",
    "\n",
    "record_row"
   ]
  },
  {
   "cell_type": "markdown",
   "metadata": {},
   "source": [
    "### Find parcel features by Record GlobalID\n",
    "In the cell above, the Records feature layer was queried by using its name.  The GlobalID value for 'Record001' is now available to use in a search for its associated parcel features.\n",
    "\n",
    "The proceeding cells will show the following:\n",
    "1. Extract the globalID of the record\n",
    "2. Access the parcel polygon feature layer\n",
    "3. Query the features in the parcels feature layer associated to the record\n",
    "\n",
    "`parcels(CreatedByRecord) = records(GlobalID)`\n",
    "\n",
    "4. Draw the subset on a map"
   ]
  },
  {
   "cell_type": "code",
   "execution_count": 5,
   "metadata": {},
   "outputs": [
    {
     "data": {
      "text/plain": [
       "'{4B753DC5-AEDD-4703-AE56-B236EBB5DEFB}'"
      ]
     },
     "execution_count": 5,
     "metadata": {},
     "output_type": "execute_result"
    }
   ],
   "source": [
    "record_globalid = record_row.at[0, \"globalid\"]\n",
    "record_globalid"
   ]
  },
  {
   "cell_type": "code",
   "execution_count": 6,
   "metadata": {},
   "outputs": [
    {
     "data": {
      "text/plain": [
       "'https://rextapilnx02eb.mysite.com/server/rest/services/WashingtonCounty/FeatureServer/15'"
      ]
     },
     "execution_count": 6,
     "metadata": {},
     "output_type": "execute_result"
    }
   ],
   "source": [
    "# Get the URL of the parcel polygon feature layer\n",
    "parcels_fl_url = [n for n in parcel_fabric_flc.layers if n.properties.name == \"Tax_PF\"]\n",
    "parcels_fl_url = parcels_fl_url[0].url\n",
    "parcels_fl_url"
   ]
  },
  {
   "cell_type": "code",
   "execution_count": 7,
   "metadata": {},
   "outputs": [
    {
     "data": {
      "text/plain": [
       "<FeatureSet> 12 features"
      ]
     },
     "execution_count": 7,
     "metadata": {},
     "output_type": "execute_result"
    }
   ],
   "source": [
    "out_fields = [\"name\", \"globalId\"]\n",
    "where_clause = f\"CreatedByRecord = '{record_globalid}'\"\n",
    "parcels_fl = FeatureLayer(parcels_fl_url, gis)\n",
    "\n",
    "parcels_subset = parcels_fl.query(where=where_clause, out_fields=out_fields)\n",
    "parcels_subset"
   ]
  },
  {
   "cell_type": "markdown",
   "metadata": {},
   "source": [
    "### API Ref Documentation\n",
    "\n",
    "- [ArcGIS Python API - Version Manager](https://developers.arcgis.com/python/api-reference/arcgis.features.managers.html#versionmanager)\n",
    "- [ArcGIS Python API - Parcel Fabric Manager](https://developers.arcgis.com/python/api-reference/arcgis.features.managers.html#parcelfabricmanager)\n",
    "- [ArcGIS REST API - VersionManagementServer](https://developers.arcgis.com/rest/services-reference/enterprise/version-management-service.htm)\n",
    "- [ArcGIS REST API - ParcelFabricServer](https://developers.arcgis.com/rest/services-reference/enterprise/overview-of-parcel-fabric-sevices.htm)\n",
    "- [ArcGIS Pro - Branch Versioning Scenarios](https://pro.arcgis.com/en/pro-app/latest/help/data/geodatabases/overview/branch-version-scenarios.htm)"
   ]
  }
 ],
 "metadata": {
  "kernelspec": {
   "display_name": "Python 3 (ipykernel)",
   "language": "python",
   "name": "python3"
  },
  "language_info": {
   "codemirror_mode": {
    "name": "ipython",
    "version": 3
   },
   "file_extension": ".py",
   "mimetype": "text/x-python",
   "name": "python",
   "nbconvert_exporter": "python",
   "pygments_lexer": "ipython3",
   "version": "3.11.8"
  },
  "toc": {
   "base_numbering": 1,
   "nav_menu": {},
   "number_sections": true,
   "sideBar": true,
   "skip_h1_title": false,
   "title_cell": "Table of Contents",
   "title_sidebar": "Contents",
   "toc_cell": true,
   "toc_position": {},
   "toc_section_display": true,
   "toc_window_display": true
  },
  "vscode": {
   "interpreter": {
    "hash": "ce21b655b4d6c9e397d5ad93d5666c623f49909f6d0cc2f72076dafcf1b3ecfb"
   }
  }
 },
 "nbformat": 4,
 "nbformat_minor": 2
}
