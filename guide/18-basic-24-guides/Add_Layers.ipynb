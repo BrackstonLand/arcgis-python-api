{
 "cells": [
  {
   "cell_type": "markdown",
   "id": "c8646948-1e43-484a-974b-509d87088007",
   "metadata": {},
   "source": [
    "# Adding Layers to a Map"
   ]
  },
  {
   "cell_type": "markdown",
   "id": "ad0b8b2f-c758-4843-897a-a12e7c82295d",
   "metadata": {},
   "source": [
    "## Import classes"
   ]
  },
  {
   "cell_type": "code",
   "execution_count": null,
   "id": "47019591-2971-46fe-a38f-5f6fe4db643a",
   "metadata": {},
   "outputs": [],
   "source": [
    "from arcgis.gis import GIS\n",
    "from arcgis.map import Map"
   ]
  },
  {
   "cell_type": "code",
   "execution_count": null,
   "id": "5f4b98d8-14f5-4825-a2f2-c133022ab9ba",
   "metadata": {},
   "outputs": [],
   "source": [
    "gis = GIS(profile=\"your_online_profile\")"
   ]
  },
  {
   "cell_type": "code",
   "execution_count": null,
   "id": "fd936a79-942c-4d9b-8075-d4454402d8ce",
   "metadata": {},
   "outputs": [],
   "source": [
    "m = gis.map()\n",
    "m"
   ]
  },
  {
   "cell_type": "markdown",
   "id": "cb4efc56-ab34-4659-b1ed-d25a9d1def7e",
   "metadata": {},
   "source": [
    "## To manage all Map content we can access the Map's content manager"
   ]
  },
  {
   "cell_type": "code",
   "execution_count": null,
   "id": "bcc784ba-f165-4907-b5ed-67efcbfef42f",
   "metadata": {},
   "outputs": [],
   "source": [
    "cm = m.content\n",
    "cm"
   ]
  },
  {
   "cell_type": "code",
   "execution_count": null,
   "id": "450c76a7-c9db-449f-a89d-fa05ccc7c453",
   "metadata": {},
   "outputs": [],
   "source": [
    "# So far our map is empty\n",
    "cm.layers"
   ]
  },
  {
   "cell_type": "markdown",
   "id": "a22813c7-da3c-463c-94f3-e40560ecb501",
   "metadata": {},
   "source": [
    "### Let's add a layer"
   ]
  },
  {
   "cell_type": "markdown",
   "id": "c882ce40-4f48-4e83-9ab6-3c86516be212",
   "metadata": {},
   "source": [
    "#### Get a list of items"
   ]
  },
  {
   "cell_type": "code",
   "execution_count": null,
   "id": "d696b5c2-5258-4c3f-9ec6-4fbf1e8420c3",
   "metadata": {},
   "outputs": [],
   "source": [
    "items = gis.content.search(\n",
    "    \"World Exclusive Economic Zone Boundaries, owner:esri\",\n",
    "    item_type=\"Feature Layer\",\n",
    "    outside_org=True,\n",
    ")\n",
    "items"
   ]
  },
  {
   "cell_type": "markdown",
   "id": "0789eeba-4ed1-49ae-9896-62024426819b",
   "metadata": {},
   "source": [
    "#### First we can add just one layer from an item"
   ]
  },
  {
   "cell_type": "code",
   "execution_count": null,
   "id": "edfe68e3-39fd-4e40-b273-638cd6ab3c06",
   "metadata": {},
   "outputs": [],
   "source": [
    "layers = items[0].layers\n",
    "layers"
   ]
  },
  {
   "cell_type": "code",
   "execution_count": null,
   "id": "ee5a7dbf-a3a7-4620-9b6c-7b2250f0d05f",
   "metadata": {},
   "outputs": [],
   "source": [
    "# Nice purple lines!\n",
    "m.content.add(layers[0])"
   ]
  },
  {
   "cell_type": "code",
   "execution_count": null,
   "id": "3c51d464-25d7-4a7c-b806-894c5c0c0a1a",
   "metadata": {},
   "outputs": [],
   "source": [
    "m.content.layers"
   ]
  },
  {
   "cell_type": "markdown",
   "id": "d7bcdaca-e801-48a8-9adf-b3f15407bec7",
   "metadata": {},
   "source": [
    "#### What if we want both layers from the item? Let's remove and add again"
   ]
  },
  {
   "cell_type": "code",
   "execution_count": null,
   "id": "933627b9-1af7-44fc-996b-d25708e573b7",
   "metadata": {},
   "outputs": [],
   "source": [
    "m.content.remove(0)"
   ]
  },
  {
   "cell_type": "code",
   "execution_count": null,
   "id": "2bf9046c-7b3b-41a9-82f1-7ad5874cabfe",
   "metadata": {},
   "outputs": [],
   "source": [
    "m.content.layers"
   ]
  },
  {
   "cell_type": "code",
   "execution_count": null,
   "id": "256d5b15-61ba-4d68-acf3-12517402d3c9",
   "metadata": {},
   "outputs": [],
   "source": [
    "m.content.add(layers)"
   ]
  },
  {
   "cell_type": "code",
   "execution_count": null,
   "id": "fed68924-8f71-4e18-be34-56c2c04ee8b8",
   "metadata": {},
   "outputs": [],
   "source": [
    "m.content.layers"
   ]
  },
  {
   "cell_type": "markdown",
   "id": "f8293440-8980-4c24-858d-a080a69db68c",
   "metadata": {},
   "source": [
    "#### Congrats you've just added a Group Layer!\n",
    "This occurs when you add an item that has more than one layer. This will automatically create a Group Layer for you"
   ]
  },
  {
   "cell_type": "code",
   "execution_count": null,
   "id": "be831ada-cfc7-49d4-b374-e779bdcb3824",
   "metadata": {},
   "outputs": [],
   "source": [
    "m.content.layers[0]"
   ]
  },
  {
   "cell_type": "markdown",
   "id": "203fc029-8116-4d41-a80e-6be8884953f0",
   "metadata": {},
   "source": [
    "#### You can also create a Group Layer to add"
   ]
  },
  {
   "cell_type": "code",
   "execution_count": null,
   "id": "be19b267-4144-4611-b5dd-ce2996ab194a",
   "metadata": {},
   "outputs": [],
   "source": [
    "# let's find an imagery item we want to use\n",
    "imagery_items = gis.content.search(\n",
    "    \"Routes, owner:esri\", item_type=\"Imagery Layer\", outside_org=True\n",
    ")\n",
    "imagery_items"
   ]
  },
  {
   "cell_type": "code",
   "execution_count": null,
   "id": "dbb04225-74f4-4ac8-9ba0-99e91187f080",
   "metadata": {},
   "outputs": [],
   "source": [
    "# we can use this layer\n",
    "imagery_items[0].layers"
   ]
  },
  {
   "cell_type": "code",
   "execution_count": null,
   "id": "65f38b92-30a0-4019-9a6b-e15610956787",
   "metadata": {},
   "outputs": [],
   "source": [
    "# let's find a related feature layer as well\n",
    "fl_items = gis.content.search(\n",
    "    \"Valley Metro Bus Routes\", item_type=\"Feature Layer\", outside_org=True\n",
    ")\n",
    "fl_items"
   ]
  },
  {
   "cell_type": "code",
   "execution_count": null,
   "id": "8bd76ffc-f780-4d08-b550-5c214b34ed8f",
   "metadata": {},
   "outputs": [],
   "source": [
    "# Make sure this is the Valley Metro Bus Routes item\n",
    "fl_items[0].layers"
   ]
  },
  {
   "cell_type": "code",
   "execution_count": null,
   "id": "7cc7913a-0177-4db9-9454-39f9d734fb45",
   "metadata": {},
   "outputs": [],
   "source": [
    "# we can create a list with these two layers\n",
    "imagery_layer = imagery_items[0].layers[0]\n",
    "fl = fl_items[0].layers[0]\n",
    "my_route_layers = [imagery_layer, fl]"
   ]
  },
  {
   "cell_type": "code",
   "execution_count": null,
   "id": "70f4f239-77a7-4d19-8383-8880658d25d3",
   "metadata": {},
   "outputs": [],
   "source": [
    "m.content.add(my_route_layers)"
   ]
  },
  {
   "cell_type": "code",
   "execution_count": null,
   "id": "886453c0-6679-4ba5-8ff6-815336a72d48",
   "metadata": {},
   "outputs": [],
   "source": [
    "# Now there are two group layers:\n",
    "m.content.layers"
   ]
  },
  {
   "cell_type": "code",
   "execution_count": null,
   "id": "c7f60fac-00c8-4cdf-8c71-7b3d0b10111d",
   "metadata": {},
   "outputs": [],
   "source": [
    "# To differentiate them we can rename to make it more clear. This rename can only be done on a GroupLayer class.\n",
    "m.content.layers[0].title = \"World Exclusive Economic Zone Boundaries\"\n",
    "m.content.layers[1].title = \"My Custom Group\"\n",
    "m.content.layers"
   ]
  },
  {
   "cell_type": "code",
   "execution_count": null,
   "id": "588192cd-5217-49de-ac3f-ea5cfd4472f1",
   "metadata": {},
   "outputs": [],
   "source": []
  }
 ],
 "metadata": {
  "kernelspec": {
   "display_name": "Python 3 (ipykernel)",
   "language": "python",
   "name": "python3"
  },
  "language_info": {
   "codemirror_mode": {
    "name": "ipython",
    "version": 3
   },
   "file_extension": ".py",
   "mimetype": "text/x-python",
   "name": "python",
   "nbconvert_exporter": "python",
   "pygments_lexer": "ipython3",
   "version": "3.11.0"
  }
 },
 "nbformat": 4,
 "nbformat_minor": 5
}
