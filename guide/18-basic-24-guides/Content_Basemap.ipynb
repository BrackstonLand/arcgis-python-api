{
 "cells": [
  {
   "cell_type": "markdown",
   "id": "de5f927b-b1d3-48ab-8af7-f09eda5833f5",
   "metadata": {},
   "source": [
    "# New Classes"
   ]
  },
  {
   "cell_type": "markdown",
   "id": "f23d802a-05a0-40ae-beb8-a14bf8ac10e5",
   "metadata": {},
   "source": [
    "### There are new classes to perform edits and customizations on your Map"
   ]
  },
  {
   "cell_type": "code",
   "execution_count": null,
   "id": "1f6b8289-401d-4a73-82bc-fd727bdcfbee",
   "metadata": {},
   "outputs": [],
   "source": [
    "from arcgis.map import Map\n",
    "from arcgis.gis import GIS"
   ]
  },
  {
   "cell_type": "code",
   "execution_count": null,
   "id": "a22c25f6-63fe-4581-a9be-fa56525a8c6f",
   "metadata": {},
   "outputs": [],
   "source": [
    "# login to ArcGIS Online\n",
    "gis = GIS(profile=\"your_online_profile\")\n",
    "webmap = gis.content.get(\"3d717eaa25c34fd6baf2a8cf4b636994\")\n",
    "webmap"
   ]
  },
  {
   "cell_type": "code",
   "execution_count": null,
   "id": "77f19089-c65f-4b2b-8e2d-cf59977255f3",
   "metadata": {},
   "outputs": [],
   "source": [
    "# create an instance of Map\n",
    "m = Map(item=webmap)"
   ]
  },
  {
   "cell_type": "markdown",
   "id": "1803ddab-55b8-4d33-95d4-44bae0fc4de2",
   "metadata": {},
   "source": [
    "## Manage Map Content"
   ]
  },
  {
   "cell_type": "markdown",
   "id": "055e6c3c-27f0-46ad-82de-0cca8f1e99ff",
   "metadata": {},
   "source": [
    "The `MapContent` class is a powerful extension of the main Map class, accessible through the `content` property. This specialized class empowers users to efficiently manage the content displayed on the Map. Users can seamlessly add, remove, and update layers, as well as reposition them within the Map.\n",
    "\n",
    "### Key Features:\n",
    "- **Layer Management:** Easily add, remove, and update layers on the Map.\n",
    "- **Layer Positioning:** Effortlessly reposition layers for a customized display.\n",
    "- **Layer-specific Classes:** Gain access to more specialized classes such as the Popup Class and Smart Mapping Manager for each layer.\n",
    "\n",
    "With the `MapManager`, streamline your mapping experience and unlock enhanced control over the content visualization on your Map."
   ]
  },
  {
   "cell_type": "code",
   "execution_count": null,
   "id": "4bc21045-7741-4907-b558-dcea768d8064",
   "metadata": {},
   "outputs": [],
   "source": [
    "m.content"
   ]
  },
  {
   "cell_type": "code",
   "execution_count": null,
   "id": "e3ebac21-2e1b-4d65-b0fa-5bd6b4ff552f",
   "metadata": {},
   "outputs": [],
   "source": [
    "content_manager = m.content"
   ]
  },
  {
   "cell_type": "code",
   "execution_count": null,
   "id": "a6adb95d-26b6-4ab0-b9eb-23093617241c",
   "metadata": {},
   "outputs": [],
   "source": [
    "content_manager.layers"
   ]
  },
  {
   "cell_type": "markdown",
   "id": "45fd8a33-583a-44a4-b4db-19ed61b0fd57",
   "metadata": {},
   "source": [
    "#### Add new layer"
   ]
  },
  {
   "cell_type": "code",
   "execution_count": null,
   "id": "b45a1be5-f584-459a-becf-b54ec927378f",
   "metadata": {},
   "outputs": [],
   "source": [
    "feature_layer = gis.content.get(\"4f43b3bb1e274795b14e5da42dea95d5\").layers[0]\n",
    "feature_layer"
   ]
  },
  {
   "cell_type": "code",
   "execution_count": null,
   "id": "38507cae-4a8a-44cf-ab89-306a487358f0",
   "metadata": {},
   "outputs": [],
   "source": [
    "content_manager.add(feature_layer)\n",
    "content_manager.layers"
   ]
  },
  {
   "cell_type": "markdown",
   "id": "e5ac474a-6e7f-43e5-80ac-5f7c0ca2b3d7",
   "metadata": {},
   "source": [
    "#### Reposition so our latest layer is on top"
   ]
  },
  {
   "cell_type": "code",
   "execution_count": null,
   "id": "8eecbda0-b19f-4e8c-be87-e5d61615c503",
   "metadata": {},
   "outputs": [],
   "source": [
    "content_manager.reposition_to_top(3)\n",
    "content_manager.layers"
   ]
  },
  {
   "cell_type": "markdown",
   "id": "f485264b-bb6d-4f39-9db2-1d3bc1b827fe",
   "metadata": {},
   "source": [
    "### Access a layer specific class in the arcgismapping module"
   ]
  },
  {
   "cell_type": "code",
   "execution_count": null,
   "id": "22908896-b7e9-4199-a688-da10b24b5bd3",
   "metadata": {},
   "outputs": [],
   "source": [
    "# We can get a layer's popup class\n",
    "popup_manager = content_manager.popup(1)\n",
    "popup_manager"
   ]
  },
  {
   "cell_type": "code",
   "execution_count": null,
   "id": "b90b853c-97a7-47ad-ae3a-593d13d8d513",
   "metadata": {
    "scrolled": true
   },
   "outputs": [],
   "source": [
    "# See the popup info for the layer\n",
    "popup_manager.info"
   ]
  },
  {
   "cell_type": "markdown",
   "id": "5ac76078-053b-48b7-8e00-ad552cd567ba",
   "metadata": {},
   "source": [
    "### Wow lot's of information! Check out the Popup Guide to see how to edit this further"
   ]
  },
  {
   "cell_type": "markdown",
   "id": "2de3be0b-eafe-4928-89d1-7a3b73a01868",
   "metadata": {},
   "source": [
    "###"
   ]
  },
  {
   "cell_type": "markdown",
   "id": "cce7627e-35be-4e6c-a288-7eb817b7336d",
   "metadata": {},
   "source": [
    "## Manage Basemaps"
   ]
  },
  {
   "cell_type": "markdown",
   "id": "ccd3c23c-6903-4f90-96b6-1169feac98dd",
   "metadata": {},
   "source": [
    "The `BasemapManager` class, accessible through the `basemap` property on the main Map class, empowers users with comprehensive control over basemap layers. With this class, seamlessly manage available basemap layers, edit existing ones, and manipulate the relationship between main operational layers and basemap layers.\n",
    "\n",
    "### Key Capabilities:\n",
    "- **Basemap Layer Access:** Effortlessly access and explore the available basemap layers.\n",
    "- **Edit Basemaps:** Set a new basemap layer or reposition existing layers within the basemap collection.\n",
    "- **Layer Transfer:** Move layers between the main operational layers and basemap layers for dynamic map configuration.\n",
    "\n",
    "The `BasemapManager` provides a versatile toolset for fine-tuning the visual foundation of your map, allowing you to tailor the basemap layers to suit your specific mapping needs."
   ]
  },
  {
   "cell_type": "code",
   "execution_count": null,
   "id": "8e632e96-48d2-42c7-91ca-65b30c238ba2",
   "metadata": {},
   "outputs": [],
   "source": [
    "basemap_manager = m.basemap\n",
    "basemap_manager"
   ]
  },
  {
   "cell_type": "markdown",
   "id": "4a6176b8-041d-41be-83bb-cdd617cab8f5",
   "metadata": {},
   "source": [
    "#### See current basemap"
   ]
  },
  {
   "cell_type": "code",
   "execution_count": null,
   "id": "43b2eaec-3100-4a8e-b307-d67b93f00ca8",
   "metadata": {},
   "outputs": [],
   "source": [
    "basemap_manager.basemap"
   ]
  },
  {
   "cell_type": "markdown",
   "id": "2be28c58-77d0-4096-8b17-93e5a881206a",
   "metadata": {},
   "source": [
    "#### See available pre-defined basemaps"
   ]
  },
  {
   "cell_type": "code",
   "execution_count": null,
   "id": "a58bde65-b3dd-45bb-92ec-ff578a7427bd",
   "metadata": {},
   "outputs": [],
   "source": [
    "basemap_manager.basemaps"
   ]
  },
  {
   "cell_type": "markdown",
   "id": "e805026d-7681-41c8-9f09-958dd70b1135",
   "metadata": {},
   "source": [
    "##### You can use one of these to set the entire basemap to one of these predefined\n",
    "##### Example: `basemap_manager.basemap = \"arcgis-oceans\"`"
   ]
  },
  {
   "cell_type": "markdown",
   "id": "071b27b9-c0f2-412e-9fce-6c34e171368c",
   "metadata": {},
   "source": [
    "#### Edit the current layers by moving one to the operation layers"
   ]
  },
  {
   "cell_type": "code",
   "execution_count": null,
   "id": "1e262725-8f98-4c43-87f8-6f78d37aa036",
   "metadata": {},
   "outputs": [],
   "source": [
    "# Moving 'Human Geography Base'\n",
    "basemap_manager.move_from_basemap(0)"
   ]
  },
  {
   "cell_type": "code",
   "execution_count": null,
   "id": "e28b6ef5-9c2d-47e6-928c-6e9ef0594960",
   "metadata": {},
   "outputs": [],
   "source": [
    "# The layer is no longer here\n",
    "basemap_manager.basemap"
   ]
  },
  {
   "cell_type": "code",
   "execution_count": null,
   "id": "1bdfb18a-77bd-475f-876a-7ba225abd4d4",
   "metadata": {},
   "outputs": [],
   "source": [
    "# The layer is now part of the main Map layers\n",
    "content_manager.layers"
   ]
  },
  {
   "cell_type": "markdown",
   "id": "ae899165-dad8-461d-938f-8b4eeafa95ff",
   "metadata": {},
   "source": [
    "#### We can move a layer into the basemap layers\n",
    "##### Be aware that only certain layer types can be basemap layers:\n",
    "- Image Service Layer\n",
    "- Image Service Vector Layer\n",
    "- Map Service Layer\n",
    "- Tiled Image Service Layer\n",
    "- Tiled Map Service Layer\n",
    "- Vector Tile Layer"
   ]
  },
  {
   "cell_type": "code",
   "execution_count": null,
   "id": "b4ed39a3-2db1-4143-85bc-6a70643c19b8",
   "metadata": {},
   "outputs": [],
   "source": [
    "# specify the index from the main layer list\n",
    "basemap_manager.move_to_basemap(4)"
   ]
  },
  {
   "cell_type": "code",
   "execution_count": null,
   "id": "15de8558-7956-4f06-b08e-90a3c8f39a91",
   "metadata": {},
   "outputs": [],
   "source": [
    "basemap_manager.basemap"
   ]
  },
  {
   "cell_type": "code",
   "execution_count": null,
   "id": "cf7e9c82-3d16-4169-8494-cdd7e4c6fd56",
   "metadata": {},
   "outputs": [],
   "source": [
    "content_manager.layers"
   ]
  },
  {
   "cell_type": "markdown",
   "id": "d0012e96-84f0-4805-ac30-eb8978d160e8",
   "metadata": {},
   "source": [
    "## To see all widget related classes such as Legend, Layer Visibility, etc.: See the Create_Map and Create_Scene guides"
   ]
  }
 ],
 "metadata": {
  "kernelspec": {
   "display_name": "Python 3 (ipykernel)",
   "language": "python",
   "name": "python3"
  },
  "language_info": {
   "codemirror_mode": {
    "name": "ipython",
    "version": 3
   },
   "file_extension": ".py",
   "mimetype": "text/x-python",
   "name": "python",
   "nbconvert_exporter": "python",
   "pygments_lexer": "ipython3",
   "version": "3.11.8"
  }
 },
 "nbformat": 4,
 "nbformat_minor": 5
}
