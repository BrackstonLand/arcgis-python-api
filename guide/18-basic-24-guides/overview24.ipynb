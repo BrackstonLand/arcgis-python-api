{
 "cells": [
  {
   "cell_type": "markdown",
   "id": "17574565-b2a1-4a25-96d0-6a2d2f56f684",
   "metadata": {},
   "source": [
    "## Summary\n",
    "\n",
    "The 2.4 Release contains many new changes that improve the performance and experience of using the Python API.  The Python API incorporates the Jupyter Lab 4.0 and Notebook 7.0 architecture to align with how these applications process Python code. The backend architecture changes necessitated a complete overhaul of fundamental structures within the Python API which required both the removal of some modules and classes and transfer of functionality into new modules, classes, and accompanying properties and methods. \n",
    "\n",
    "These modifications change how some familiar functionality is accessed, and provides some new ways to work with your Web GIS organization. Let's take a look at some of these new updates."
   ]
  },
  {
   "cell_type": "markdown",
   "id": "ea6769b7-0727-4afe-b5d0-c052726e4a46",
   "metadata": {},
   "source": [
    "Primary Python Support is for version 3.11.  Secondary support is provided for Python 3.10 and 3.12.  We have dropped Support for Python 3.9."
   ]
  },
  {
   "cell_type": "markdown",
   "id": "3da4c48b-3c82-490f-9b76-d2063307b56c",
   "metadata": {},
   "source": [
    "## Refactor: `arcgis.mapping` module"
   ]
  },
  {
   "cell_type": "markdown",
   "id": "a3b59934-0694-41d2-8721-0a7bcdffa94b",
   "metadata": {},
   "source": [
    "The previous `arcgis.mapping` module functionality was documented in the following subsections in the Python API reference. The _mapping_ module has been refactored into two new modules, the `map` and `layers` modules. Let's do a quick rundown of how those classes have been refactored."
   ]
  },
  {
   "cell_type": "markdown",
   "id": "44159000-6f6b-473f-8243-8a2e809bc302",
   "metadata": {},
   "source": [
    "**Working with 2D Maps:**\n",
    "Classes for working with Web Map items and packaging offline map areas \n",
    "\n",
    "* The _WebMap_ class has been deprecated. The functionality for working with web maps has been refactored to the new [_Map_](/python/api-reference/arcgis.map.toc.html#map) class in the [`arcgis.map`](/python/api-reference/arcgis.map.toc.html) module. See [WebMap class](#webmap-class).\n",
    "* The _OfflineMapAreaManager_ and _PackagingJob_ have been refactored into the _arcgis.map_ module.  The [_offline_areas_](/python/api-reference/arcgis.map.toc.html#arcgis.map.Map.offline_areas) property of the new _Map_ class accesses the [OfflineMapAreaManager](/python/api-reference/arcgis.map.toc.html#offlinemapareamanager) similarly to the same property on the previous _WebMap_."
   ]
  },
  {
   "cell_type": "markdown",
   "id": "10347e9f-b4b9-4dcf-855b-4cf2fc5f5426",
   "metadata": {},
   "source": [
    "**Working with 3D Maps:**\n",
    "Classes for working the Web Scenes and the data types displayed through scene layers\n",
    "\n",
    "* The _WebScene_ class has been deprecated and its functionality refactored into the [_Scene_ ](/python/api-reference/arcgis.map.toc.html#scene) class in the `arcgis.map` module.\n",
    "* All other classes except have been refactored into the [`arcgis.layers`](/python/api-reference/arcgis.layers.toc.html) module and documented under the [_Working with 3D Maps_](/python/api-reference/arcgis.layers.toc.html#working-with-3d-maps) section in the new module.  "
   ]
  },
  {
   "cell_type": "markdown",
   "id": "4682b163-320c-4aa5-8b5d-7021c82088e5",
   "metadata": {},
   "source": [
    "**Working with Map Service Layers:**\n",
    "Classes for working with Map Services and the associated layers within them\n",
    "\n",
    "The classes have been refactored into the `arcgis.layers` module documented under the [_Working with Map Service Layers_](/python/arcgis.layers.toc.html#working-with-map-service-layers) subsection."
   ]
  },
  {
   "cell_type": "markdown",
   "id": "c7a09e11-2731-4b32-a260-12dceed86505",
   "metadata": {},
   "source": [
    "**Working with OGC layers:**\n",
    "Classes for working with services compliant with [OGC standards](https://opengeospatial.github.io/e-learning/ogc-standards/text/services-ogc.html)\n",
    " \n",
    "The `arcgis.mapping.ogc` submodule classes have all been refactored into the `arcgis.layers` module documented in the [_Working with OGC layers_](/python/api-reference/arcgis.layers.toc.html#working-with-ogc-layers) subsection."
   ]
  },
  {
   "cell_type": "markdown",
   "id": "cdd763f9-a5f1-4ec0-8c2e-602fe02bae3b",
   "metadata": {},
   "source": [
    "**Working with Map Forms:**\n",
    "Components to control behavior for data collecting and editing in applications like Map Viewer or ArcGIS Field Maps\n",
    "\n",
    "The functionality of the `arcgis.mapping.forms` submodule has been refactored into the `arcgis.map` module and accessed using the [_form()_](/python/api-reference/arcgis.map.toc.html#arcgis.map.map_widget.MapContent.form) method of the [_MapContent_](/python/api-reference/arcgis.map.toc.html#arcgis.map.map_widget.MapContent) class. Full reference documentation is provided in [_Forms_](/python/api-reference/arcgis.map.toc.html#forms) documentation."
   ]
  },
  {
   "cell_type": "markdown",
   "id": "94db7fbf-52b1-416d-a6bc-6228c3e218e9",
   "metadata": {},
   "source": [
    "**Utility Functions for Mapping:**\n",
    "Class and functions for working with symbology and rendering in the map widget.\n",
    "\n",
    "* The functionality of the _Symbology_ class has been refactored into the [`Symbols`](/python/api-reference/arcgis.map.toc.html#symbols) module.\n",
    "* The functionality for generating renderers has been refactored into the [_SmartMappingManager_](/python/api-reference/arcgis.map.toc.html#arcgis.map.SmartMappingManager) and [_RendererManager_](/python/api-reference/arcgis.map.toc.html#arcgis.map.renderers.RendererManager) classes.\n",
    "* The functionality for exporting and printing has been refactored into the [print()](/python//api-reference/arcgis.map.toc.html#arcgis.map.Map.print) method of the _Map_ class."
   ]
  },
  {
   "cell_type": "markdown",
   "id": "500a26a0-d8aa-498e-9ec3-0a4473994b9f",
   "metadata": {},
   "source": [
    "## `WebMap` class"
   ]
  },
  {
   "cell_type": "code",
   "execution_count": null,
   "id": "8a31d940-b8bd-4bcb-b2cd-8ee9aeb4d964",
   "metadata": {},
   "outputs": [],
   "source": [
    "# Initialize in 2.4.x and after\n",
    "from arcgis.map import Map\n",
    "wm = Map(\n",
    "    item= item\n",
    ")"
   ]
  },
  {
   "cell_type": "code",
   "execution_count": null,
   "id": "cf93fbbc-d2b9-4770-bb3e-875d1b44db9f",
   "metadata": {},
   "outputs": [],
   "source": [
    "# Initialize in 2.3.x and prior\n",
    "from arcgis.mapping import WebMap\n",
    "wm = WebMap(\n",
    "    webmapitem= item\n",
    ")"
   ]
  },
  {
   "cell_type": "code",
   "execution_count": 29,
   "id": "d38f0969-97e5-483e-af03-d9408cc481ca",
   "metadata": {},
   "outputs": [],
   "source": [
    "from arcgis.geocoding import geocode, Geocoder"
   ]
  },
  {
   "cell_type": "code",
   "execution_count": null,
   "id": "1e6dad58-4e6c-4fe8-989a-884ea3520b59",
   "metadata": {},
   "outputs": [],
   "source": []
  },
  {
   "cell_type": "markdown",
   "id": "6d0ad020-53e3-4710-80d5-d20beb724730",
   "metadata": {},
   "source": [
    "The _WebMap_ class has been deprecated and its functionality has been refactored into the new class within `arcgis.map` module, [_Map_](/python/api-reference/arcgis.map.toc.html#map). Initialize a new map object with an existing Web Map item by entering it as the *item* argument.\n",
    "\n",
    "Methods:\n",
    "\n",
    "|WebMap operation                      |Map operation                        |Notes|\n",
    "|:-                                 |:-                                 |:-    |\n",
    "|wm.add_layer()|m.content.add()|method on new MapContent class\n",
    "|wm.add_table()]()|m.content.add()|method on MapContent class\n",
    "|wm.basemap_title()|m.basemap.title|get/set on new BasemapManager class\n",
    "|wm.configure_pop_ups()|m.content.popup(layer_index)|\n",
    "|wm.get_layer()|||\n",
    "|wm.get_table()|||\n",
    "|wm.move_from_basemap()|m.basemap.move_from_basemap()|\n",
    "|wm.move_to_basemap()]|m.content.move_to_basemap(layer_index)|\n",
    "|wm.print()|\n",
    "|wm.remove_layer()|\n",
    "|wm.remove_table()|\n",
    "|wm.save()|\n",
    "|wm.update()|\n",
    "|wm.update_drawing_info()|\n",
    "|wu.update_layer()|\n",
    "\n",
    "Properties\n",
    "\n",
    "|WebMap member                      |Map member                         |Return|\n",
    "|:-                                 |:-                                 |:-    |\n",
    "|wm.basemap|m.basemap.basemap|new BasemapManager class|\n",
    "|wm.basemap_switcher|NA||\n",
    "|wm.basemaps|wm.basemap.basemap_gallery|List|\n",
    "|wm.basemaps|m.basemap.basemaps|property on new BasemapManager class\n",
    "|wm.bookmarks|m.bookmarks|new \n",
    "|wm.events|\n",
    "|wm.forms|\n",
    "|wm.gallery_basemaps|||\n",
    "|wm.height|||\n",
    "|wm.layer_visibility|\n",
    "|wm.layers|\n",
    "|wm.legend|\n",
    "|wm.navigation|\n",
    "|wm.offline_areas|\n",
    "|wm.pop_ups|\n",
    "|wm.scale_bar|\n",
    "|wm.search|\n",
    "|wm.tables|\n",
    "|wm.view_bookmarks|\n",
    "|wm.width|\n",
    "|wm.zoom|"
   ]
  },
  {
   "cell_type": "code",
   "execution_count": 20,
   "id": "4a37a7f0-88f2-4668-9ebd-687d600584dc",
   "metadata": {},
   "outputs": [],
   "source": [
    "wm_item = gis.content.search(\"Denmark Web Map\", \"Web Map\")[0]"
   ]
  },
  {
   "cell_type": "code",
   "execution_count": 21,
   "id": "3ae04b55-f551-46a4-82ee-84e42e8b3857",
   "metadata": {},
   "outputs": [],
   "source": [
    "from arcgis.map import Map\n",
    "m_obj = Map(item=wm_item)"
   ]
  },
  {
   "cell_type": "code",
   "execution_count": 49,
   "id": "f6e54fc6-209f-4432-b68b-4bc39b560377",
   "metadata": {},
   "outputs": [],
   "source": [
    "glyr = m_obj.content.layers[0]"
   ]
  },
  {
   "cell_type": "code",
   "execution_count": 50,
   "id": "2a4de73e-511d-4fa3-bd04-ef784ba216bb",
   "metadata": {},
   "outputs": [],
   "source": [
    "flyr0 = glyr.layers[0]\n",
    "flyr1 = glyr.layers[1]"
   ]
  },
  {
   "cell_type": "code",
   "execution_count": 52,
   "id": "cddf31de-3108-4495-8062-f4e32d30cd15",
   "metadata": {},
   "outputs": [],
   "source": [
    "from arcgis.map import popups"
   ]
  },
  {
   "cell_type": "code",
   "execution_count": 59,
   "id": "ed1c8353-babe-4cbf-b258-469cc627bba3",
   "metadata": {},
   "outputs": [
    {
     "ename": "AttributeError",
     "evalue": "module 'arcgis.map._dataclasses._webmap_spec' has no attribute '_source'",
     "output_type": "error",
     "traceback": [
      "\u001b[0;31m---------------------------------------------------------------------------\u001b[0m",
      "\u001b[0;31mAttributeError\u001b[0m                            Traceback (most recent call last)",
      "Cell \u001b[0;32mIn[59], line 1\u001b[0m\n\u001b[0;32m----> 1\u001b[0m glyr\u001b[38;5;241m.\u001b[39mpopup(\u001b[38;5;241m1\u001b[39m)\n",
      "File \u001b[0;32m~/opt/anaconda3/envs/geosaurus_dev_env/lib/python3.11/site-packages/arcgis/map/group_layer.py:122\u001b[0m, in \u001b[0;36mGroupLayer.popup\u001b[0;34m(self, index)\u001b[0m\n\u001b[1;32m    109\u001b[0m \u001b[38;5;250m\u001b[39m\u001b[38;5;124;03m\"\"\"\u001b[39;00m\n\u001b[1;32m    110\u001b[0m \u001b[38;5;124;03mGet an instance of the PopupManager class for the layer specified. Specify the layer through it's\u001b[39;00m\n\u001b[1;32m    111\u001b[0m \u001b[38;5;124;03mposition in the list of layers. The list of layers can be accessed with the `layers` property.\u001b[39;00m\n\u001b[0;32m   (...)\u001b[0m\n\u001b[1;32m    119\u001b[0m \u001b[38;5;124;03m==================      =====================================================================\u001b[39;00m\n\u001b[1;32m    120\u001b[0m \u001b[38;5;124;03m\"\"\"\u001b[39;00m\n\u001b[1;32m    121\u001b[0m \u001b[38;5;66;03m# Pass in the layer instance from the group layer\u001b[39;00m\n\u001b[0;32m--> 122\u001b[0m \u001b[38;5;28;01mreturn\u001b[39;00m popups\u001b[38;5;241m.\u001b[39mPopupManager(\u001b[38;5;28mself\u001b[39m\u001b[38;5;241m.\u001b[39m_layer\u001b[38;5;241m.\u001b[39mlayers[index], \u001b[38;5;28mself\u001b[39m\u001b[38;5;241m.\u001b[39m_spec, \u001b[38;5;28mself\u001b[39m\u001b[38;5;241m.\u001b[39m_source)\n",
      "File \u001b[0;32m~/opt/anaconda3/envs/geosaurus_dev_env/lib/python3.11/site-packages/arcgis/map/popups.py:618\u001b[0m, in \u001b[0;36mPopupManager.__init__\u001b[0;34m(self, layer, source, spec)\u001b[0m\n\u001b[1;32m    616\u001b[0m \u001b[38;5;28mself\u001b[39m\u001b[38;5;241m.\u001b[39m_spec \u001b[38;5;241m=\u001b[39m spec\n\u001b[1;32m    617\u001b[0m \u001b[38;5;28mself\u001b[39m\u001b[38;5;241m.\u001b[39m_parent \u001b[38;5;241m=\u001b[39m source\n\u001b[0;32m--> 618\u001b[0m \u001b[38;5;28mself\u001b[39m\u001b[38;5;241m.\u001b[39m_source \u001b[38;5;241m=\u001b[39m source\u001b[38;5;241m.\u001b[39m_source\n",
      "\u001b[0;31mAttributeError\u001b[0m: module 'arcgis.map._dataclasses._webmap_spec' has no attribute '_source'"
     ]
    }
   ],
   "source": [
    "glyr.popup()"
   ]
  },
  {
   "cell_type": "markdown",
   "id": "ec299774-0441-4158-af5d-e6fb4831bf10",
   "metadata": {},
   "source": [
    "### `arcgis.widgets` module"
   ]
  },
  {
   "cell_type": "markdown",
   "id": "595c5654-4f1c-42ee-ad9b-b3aa205c8826",
   "metadata": {},
   "source": [
    "The previous map widget initialized the [MapView](https://developers.arcgis.com/python/api-reference/arcgis.widgets.html#mapview) class. The Python API 2.4 release refactors this functionality of the _MapView_ class into two new classes in the [`arcgis.map`](/python/api-reference/arcgis.map.toc.html) module: [_Map_](/python/api-reference/arcgis.map.toc.html#map) and [_Scene_](/api-reference/arcgis.map.toc.html#scene) classes.\n",
    "\n",
    "In previous releases, maps and scenes were intialized based on the *mode* argument entered in the [GIS.map()](/python/api-reference/arcgis.gis.toc.html#arcgis.gis.GIS.map) method, or by setting the [*mode*](/python/api-reference/arcgis.widgets.html#arcgis.widgets.MapView.mode) attribute of the MapView.  Either way, you were always working with an instance of the _MapView_ class. You can still use the *mode* argument when intializing the object, but the values of *2D* and *3D* return objects of separate classes.  This means that for _Map_ and _Scene_ objects development aligns with the [web map specification](https://developers.arcgis.com/web-map-specification/) and the [web scene specification](https://developers.arcgis.com/web-map-specification/), respectively. This will allow widget intraction within notebooks to more closely reflect the browser experiences of the Map Viewer and Scene Viewer.\n",
    "\n",
    "Some properties and methods on the _MapView_ class have been entirely removed and functionality not refactored into other classes, mainly the methods associated with clicking on the widget, embedding, and interacting with graphics:\n",
    "\n",
    "Methods:\n",
    "* [on_click()]()\n",
    "* [on_draw_end()]()\n",
    "* [clear_graphics()]()\n",
    "* [remove_layers()]()\n",
    "* [display_message()]()\n",
    "* [draw()]()\n",
    "* [embed()]()\n",
    "* [hide_mode_swich()]()\n",
    "* [set_js_cdn]()\n",
    "* [set_time_extent()]()\n",
    "* [snap_to_zoom()]()\n",
    "* [take_screenshot()]()\n",
    "* [toggle_window_view()]()\n",
    "* [update_layer()]()\n",
    "* [zoom_to_layer()]()\n",
    "\n",
    "Properties:\n",
    "* [end_time]()\n",
    "* [start_time]()\n",
    "* [jupyter_target]()\n",
    "* [local_raster_file_format]()\n",
    "* [mode]()\n",
    "* [print_service_url]()\n",
    "* [tab_mode]()\n",
    "* [time_mode]()"
   ]
  },
  {
   "cell_type": "code",
   "execution_count": 18,
   "id": "dc3440eb-ba4e-4d53-8ec6-29f45616ef68",
   "metadata": {},
   "outputs": [
    {
     "data": {
      "text/plain": [
       "<contextlib._GeneratorContextManager at 0x141dc5f50>"
      ]
     },
     "execution_count": 18,
     "metadata": {},
     "output_type": "execute_result"
    }
   ],
   "source": []
  },
  {
   "cell_type": "code",
   "execution_count": null,
   "id": "fe02f3b9-a721-4cec-b490-d159735986d4",
   "metadata": {},
   "outputs": [],
   "source": [
    "m = gis.map(location=\"Nairobi\", mode=\"2D\")\n",
    "m"
   ]
  },
  {
   "cell_type": "markdown",
   "id": "394dc436-eb8d-4b4b-a611-32fa0b39857d",
   "metadata": {},
   "source": [
    "### `arcgis.mapping.forms` submodule"
   ]
  },
  {
   "cell_type": "markdown",
   "id": "cf3137ae-d871-4e3b-8750-5f16a88502f8",
   "metadata": {},
   "source": [
    "## Additions"
   ]
  },
  {
   "cell_type": "markdown",
   "id": "a119cda3-90e8-4218-a69c-9d8e8305b38a",
   "metadata": {},
   "source": [
    "### `arcgis.map` module"
   ]
  },
  {
   "cell_type": "markdown",
   "id": "71dfa756-839a-4816-833f-05942aa488d4",
   "metadata": {},
   "source": [
    "#### The `Map` class"
   ]
  },
  {
   "cell_type": "markdown",
   "id": "05f7b7ef-b00f-4cc1-acf6-a96967562447",
   "metadata": {},
   "source": [
    "#### The `Scene` Class"
   ]
  },
  {
   "cell_type": "markdown",
   "id": "192b0363-0e55-4c7f-8e52-0ce5515464bd",
   "metadata": {},
   "source": [
    "### `arcgis.layers` module"
   ]
  },
  {
   "cell_type": "code",
   "execution_count": null,
   "id": "94017385-6821-4cf1-aa0a-7c32585c41ff",
   "metadata": {},
   "outputs": [],
   "source": []
  }
 ],
 "metadata": {
  "kernelspec": {
   "display_name": "Python 3 (ipykernel)",
   "language": "python",
   "name": "python3"
  },
  "language_info": {
   "codemirror_mode": {
    "name": "ipython",
    "version": 3
   },
   "file_extension": ".py",
   "mimetype": "text/x-python",
   "name": "python",
   "nbconvert_exporter": "python",
   "pygments_lexer": "ipython3",
   "version": "3.11.0"
  }
 },
 "nbformat": 4,
 "nbformat_minor": 5
}
