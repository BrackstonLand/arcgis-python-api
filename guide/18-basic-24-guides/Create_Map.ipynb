{
 "cells": [
  {
   "cell_type": "markdown",
   "id": "2050079d-da6c-413d-8b80-7b5033b920b6",
   "metadata": {},
   "source": [
    "## Creating a Map"
   ]
  },
  {
   "cell_type": "markdown",
   "id": "5a47f479-aad1-42d4-87a4-f82804b8561e",
   "metadata": {},
   "source": [
    "### Introduction:"
   ]
  },
  {
   "cell_type": "markdown",
   "id": "e240ede8-2c2d-4b9a-af27-ca74984b6612",
   "metadata": {},
   "source": [
    "The Python API 2.4 release integrates with the Jupyter Notebook 7/Jupyter Lab 4 backend architecture. For some explanations and highlights of the Features of this new environment, see the following documentation:\n",
    "\n",
    "-  [Jupyter Lab 4](https://blog.jupyter.org/jupyterlab-4-0-is-here-388d05e03442)\n",
    "- [Jupyter Notebook 7](https://blog.jupyter.org/announcing-jupyter-notebook-7-8d6d66126d)\n",
    "- [Jupyter Enhancement Proposal 79](https://jupyter.org/enhancement-proposals/79-notebook-v7/notebook-v7.h)\r",
    "\t\r",
    "The transition to the new Jupyter Lab code base environment provided the Python API team the opportunity to modernize the previous implementation of the map widget that allowed for map visualization within a Jupyter notebook. To make the move to this new environment as smooth as possible, the most popular way to access the mapping functionality will not change. Once a user has a _GIS_ object within a lab notebook, the _map_ property accesses the map widget in the same manner as prior releases:\n",
    "\n",
    "`new_map = gis.map()`\n",
    "\n",
    "Let's illustrate the process:\r\n"
   ]
  },
  {
   "cell_type": "markdown",
   "id": "fb173efb-036c-4e02-8658-2d7e9d554400",
   "metadata": {},
   "source": [
    "#### Import the necessary class"
   ]
  },
  {
   "cell_type": "code",
   "execution_count": null,
   "id": "b2e28ce3-12b0-483c-b87f-430e73cd73a1",
   "metadata": {},
   "outputs": [],
   "source": [
    "from arcgis.gis import GIS"
   ]
  },
  {
   "cell_type": "code",
   "execution_count": null,
   "id": "126bfc7b-42ab-498c-b261-695983b85c41",
   "metadata": {},
   "outputs": [],
   "source": [
    "gis = GIS()\n",
    "new_map = gis.map()\n",
    "new_map"
   ]
  },
  {
   "cell_type": "markdown",
   "id": "bc731fe7-3a41-4876-8315-94cf7ccabd81",
   "metadata": {},
   "source": [
    "### Create a new Map instance directly"
   ]
  },
  {
   "cell_type": "markdown",
   "id": "8151fa86-3070-4b26-8d43-3bc3e1aaab07",
   "metadata": {},
   "source": [
    "The Python API 2.4 differs significantly from previous releases in how the mapping functionality has been implemented. The previous [_arcgis.widgets_](https://developers.arcgis.com/python/api-reference/arcgis.widgets.html) module, including the [MapView](https://developers.arcgis.com/python/api-reference/arcgis.widgets.html#mapview) class has been deprecated.\n",
    "\n",
    "The new release instead implements a _Map_ class accessed from a new module version called _arcgis.map_. Many former properties and methods of a previous _map_ object will still be available with the same name; some names will change; and some new properties and methods have been introduced. For an initial document outlining a mapping from old class to new class, you can look through [WidgetMigrationGuide 7](https://esriis.sharepoint.com/:w:/s/ArcGISAPIforPython/EflEBrnFc-RFkkyWn9REongBA-lk3o0v_HEtExwKnJjcdg?e=eLELz0).\n",
    "\n",
    "Let's begin to explore directly accessing this class and new properties and methods. Start by importing the class, then assign an instance to a variable to get started. Here's an example:"
   ]
  },
  {
   "cell_type": "code",
   "execution_count": null,
   "id": "ad2282e9-73c9-43b8-b240-a7408ff3059f",
   "metadata": {},
   "outputs": [],
   "source": [
    "from arcgis.map import Map"
   ]
  },
  {
   "cell_type": "code",
   "execution_count": null,
   "id": "b20f0917-1b2b-4785-aaed-296346874d9f",
   "metadata": {},
   "outputs": [],
   "source": [
    "m = Map()\n",
    "m"
   ]
  },
  {
   "cell_type": "markdown",
   "id": "26c80782-f113-49e4-9f44-42f39a7f38d2",
   "metadata": {},
   "source": [
    "This sets a map using default basemap and extent properties from the Web GIS which a user is connected. In this case, we've made an anonymous connection, so there's a default basemap and location from ArcGIS Online. Let's dive into the next section to explore options for customizing the map."
   ]
  },
  {
   "cell_type": "markdown",
   "id": "b78293f4-8125-41f5-80fd-42223ea174f9",
   "metadata": {},
   "source": [
    "### Create a new Map with a specific location\n",
    "Tailoring your map to a specific location is crucial for focusing on relevant geographical areas. In this section, we'll guide you through specifying the location parameter to create a map with an extent centered around a chosen location. First, let's examine the docstring for the _Map_ class to see what parameters are avaiable:"
   ]
  },
  {
   "cell_type": "code",
   "execution_count": null,
   "id": "584d047f-cf3c-4fb0-a850-3ba1461d0185",
   "metadata": {},
   "outputs": [],
   "source": [
    "Map?"
   ]
  },
  {
   "cell_type": "markdown",
   "id": "bd7fa6b5-3c3d-4ba0-a3bc-1079e2556917",
   "metadata": {},
   "source": [
    "The `*` in the _Map_ signature serves as way to define parameters such that additional ones may be added in the middle of the signature without causing a breaking change. When you see the * in a function or method signature, that does indicate that all arguments following the `*` **MUST** be specified with the keyword.  So in the method above, the following will not work:\n",
    "\n",
    "```python\n",
    "m = GIS(\"Seattle\", \"a492efd820a89ecd93892baba73abc9a\")\n",
    "```\n",
    "\n",
    "The following will work:\n",
    "```python\n",
    "m = GIS(\"Seattle\", item=\"a492efd820a89ecd93892baba73abc9a\")\n",
    "```\n",
    "\n",
    "\n",
    "Let's use the _location_ parameter to specify a location to center our map:"
   ]
  },
  {
   "cell_type": "code",
   "execution_count": null,
   "id": "681d39eb-bf56-4631-9437-77554e8c22e7",
   "metadata": {},
   "outputs": [],
   "source": [
    "m2 = Map(location=\"Serbia\")\n",
    "m2"
   ]
  },
  {
   "cell_type": "markdown",
   "id": "456620dd-1ce6-40dd-b98b-65310d2c8a5f",
   "metadata": {},
   "source": [
    "#### The Map class comes equipped with various properties"
   ]
  },
  {
   "cell_type": "markdown",
   "id": "f4bb8cf9-f70c-4da4-a36d-1c46a0952767",
   "metadata": {},
   "source": [
    "Use the + / - buttons on the rendered Map.  Then run the cell below to see the zoom updated on the map:"
   ]
  },
  {
   "cell_type": "code",
   "execution_count": null,
   "id": "3150f909-81f6-456d-beb9-8bed48944e73",
   "metadata": {},
   "outputs": [],
   "source": [
    "m2.zoom"
   ]
  },
  {
   "cell_type": "markdown",
   "id": "3f380786-fed1-4974-81ae-1c3ae8c11d5c",
   "metadata": {},
   "source": [
    "You can explicitly set the zoom as well:"
   ]
  },
  {
   "cell_type": "code",
   "execution_count": null,
   "id": "6cf74c33-38ef-447e-9445-8412f9c4a15d",
   "metadata": {},
   "outputs": [],
   "source": [
    "m2.zoom = 6"
   ]
  },
  {
   "cell_type": "markdown",
   "id": "ab0d6889-f780-441d-9194-0f61a2c233ee",
   "metadata": {},
   "source": [
    "Run the cell below to view the current extent of the rendered map. Then, pan on the map and run the cell below to see the extent value updated:"
   ]
  },
  {
   "cell_type": "code",
   "execution_count": null,
   "id": "9595b6ef-d305-487c-a8bd-6d574325e2c8",
   "metadata": {},
   "outputs": [],
   "source": [
    "m2.extent"
   ]
  },
  {
   "cell_type": "markdown",
   "id": "12a41a20-6419-471b-83d7-010c8fe5dd08",
   "metadata": {},
   "source": [
    "You can also enter an extent directly to have the map render in that location:"
   ]
  },
  {
   "cell_type": "code",
   "execution_count": null,
   "id": "642c8a4d-1381-4320-871d-a44ad55a0ff1",
   "metadata": {},
   "outputs": [],
   "source": [
    "m2"
   ]
  },
  {
   "cell_type": "code",
   "execution_count": null,
   "id": "ce160409-6195-4691-996e-71e350f23bc0",
   "metadata": {},
   "outputs": [],
   "source": [
    "# The United States\n",
    "m2.extent = {\n",
    "    \"spatialReference\": {\"latestWkid\": 3857, \"wkid\": 102100},\n",
    "    \"xmin\": -20473188.86127435,\n",
    "    \"ymin\": 1906235.6873989855,\n",
    "    \"xmax\": -6081013.679518911,\n",
    "    \"ymax\": 6798205.497648966,\n",
    "}"
   ]
  },
  {
   "cell_type": "code",
   "execution_count": null,
   "id": "132a2be0-26ef-4fe4-adb8-67b6f77e1658",
   "metadata": {},
   "outputs": [],
   "source": [
    "# St Petersburg\n",
    "m2.extent = {\n",
    "    \"spatialReference\": {\"wkid\": 4326},\n",
    "    \"xmin\": 23.3414842,\n",
    "    \"ymin\": 57.8011455,\n",
    "    \"xmax\": 33.662109,\n",
    "    \"ymax\": 61.79584\n",
    "}"
   ]
  },
  {
   "cell_type": "markdown",
   "id": "57089679-d758-4c11-a38e-bac289a4c8d4",
   "metadata": {},
   "source": [
    "### Accessing Widgets\n",
    "With 2.4 and the new map widget, you can incorporate various widgets to extend the functionality of the map within a notebook. This section describes accessing and utilizing new classes that enable additional features on the map, such as bookmarks and legends, enhancing the overall user experience."
   ]
  },
  {
   "cell_type": "markdown",
   "id": "e651364e-e908-4e2a-a80e-a9f1571ddc8d",
   "metadata": {},
   "source": [
    "First, let's access a publicly available Web Map and create a Map object from it.  We'll search for a specific webmap, then use the map widget's _item_ parameter to initialize an object using this map:"
   ]
  },
  {
   "cell_type": "code",
   "execution_count": null,
   "id": "d1d661ca-0352-4bc6-91d4-d1e6f8aeca7e",
   "metadata": {},
   "outputs": [],
   "source": [
    "gis = GIS()\n",
    "webmap_items = gis.content.search(\"USA Major Cities, owner:esri\", item_type=\"Web Map\")\n",
    "webmap_items"
   ]
  },
  {
   "cell_type": "code",
   "execution_count": null,
   "id": "aea5d722-7216-4bf2-a670-ba69f3f5c6ea",
   "metadata": {},
   "outputs": [],
   "source": [
    "m3 = Map(item=webmap_items[1], location=\"Texas\")\n",
    "m3"
   ]
  },
  {
   "cell_type": "markdown",
   "id": "9ab82956-6430-4283-a19d-ed4a70f0619b",
   "metadata": {},
   "source": [
    "A variety of widgets can be enabled on the map widget. Each widget can be accessed as a property on the map object, which returns a widget manager object. Each manager has an _enabled_ property you can set to True or False:"
   ]
  },
  {
   "cell_type": "markdown",
   "id": "bff95582-58c5-4b4c-8ae3-993fbe91405d",
   "metadata": {},
   "source": [
    "#### Enabling Widgets on the _map_\n",
    "\n",
    "Run the cells below and notice in the upper-right hand corner the addition of buttons to the screen. Once enabled, you can click each button to see the corresponding information. Click the button again to remove the display.  Set the widget to _False_ to remove the button entirely from the screen."
   ]
  },
  {
   "cell_type": "code",
   "execution_count": null,
   "id": "2a799e4d-2589-4855-8f18-5ccf6eb00a36",
   "metadata": {},
   "outputs": [],
   "source": [
    "bookmark_manager = m3.bookmarks\n",
    "type(bookmark_manager)"
   ]
  },
  {
   "cell_type": "code",
   "execution_count": null,
   "id": "701d31d0-598b-4595-a1af-8712ea4b19b5",
   "metadata": {},
   "outputs": [],
   "source": [
    "bookmark_manager.enabled = True"
   ]
  },
  {
   "cell_type": "markdown",
   "id": "5864836b-fc03-4131-bd56-16e25f174199",
   "metadata": {},
   "source": [
    "Click the bookmark button, and notice no bookmarks are available. Let's inspect the properties available on the _bookmark_manager_ we created to see how to add one:\n",
    "\n",
    "Type \"bookmark_manager\"...then type a dot and hit the tab key to see available properties and methods. We can see an _add_ method, so lets type _add_ and follow it with a question mark to bring up the docstring:"
   ]
  },
  {
   "cell_type": "code",
   "execution_count": null,
   "id": "e7717572-7309-4d64-8558-bc77065a167f",
   "metadata": {},
   "outputs": [],
   "source": [
    "bookmark_manager.add?"
   ]
  },
  {
   "cell_type": "markdown",
   "id": "773ad5bc-0598-4f0f-bfca-51fe92e7dd5e",
   "metadata": {},
   "source": [
    "Let's create a bookmark:"
   ]
  },
  {
   "cell_type": "code",
   "execution_count": null,
   "id": "d245cb5d-114c-4a23-82c9-1970d6c8f321",
   "metadata": {},
   "outputs": [],
   "source": [
    "abq_extent = {\n",
    "    \"spatialReference\": {\"wkid\": 4326},\n",
    "    \"xmin\": -106.859035,\n",
    "    \"ymin\": 34.976002,\n",
    "    \"xmax\": -106.479492,\n",
    "    \"ymax\": 35.216243\n",
    "}\n",
    "\n",
    "bookmark_manager.add(\n",
    "    name= \"Albuquerque\",\n",
    "    extent=  abq_extent,\n",
    "    index=  0\n",
    ")"
   ]
  },
  {
   "cell_type": "markdown",
   "id": "5fd26224-1776-4f65-adc9-36adaa0009c8",
   "metadata": {},
   "source": [
    "Now navigate back the map and click on the bookmarks widget. We should see a bookmark named `Albuquerque`. Click it and the map will zoom to that location. Repeat with the widgets below and click on each button on the map to see what each widget contains."
   ]
  },
  {
   "cell_type": "code",
   "execution_count": null,
   "id": "817fada2-acad-43a8-9e37-825d5a96840e",
   "metadata": {},
   "outputs": [],
   "source": [
    "legend_manager = m3.legend\n",
    "legend_manager.enabled = True"
   ]
  },
  {
   "cell_type": "code",
   "execution_count": null,
   "id": "5d623581-c107-4207-bd15-67e744b93882",
   "metadata": {},
   "outputs": [],
   "source": [
    "layer_list_manager = m3.layer_list\n",
    "layer_list_manager.enabled = True"
   ]
  },
  {
   "cell_type": "markdown",
   "id": "f492ddd6-d567-40fe-a9fb-82c42f3d503f",
   "metadata": {},
   "source": [
    "A time slider widget is available for time-enabled data. We;ll adjust our connection to access data we have published with a time extent:"
   ]
  },
  {
   "cell_type": "code",
   "execution_count": null,
   "id": "41bb4478-d4fb-4ba7-ac62-b9fc4b2ece73",
   "metadata": {},
   "outputs": [],
   "source": [
    "gis = GIS(url=\"https://turing4.esri.com/portal\",\n",
    "          username=\"admin\",\n",
    "          verify_cert=False)"
   ]
  },
  {
   "cell_type": "code",
   "execution_count": null,
   "id": "c9e5c9c2-a75c-4d2d-a523-01a43e0113e0",
   "metadata": {},
   "outputs": [],
   "source": [
    "eq_item = gis.content.search(\"Earthquakes*\", \"Feature Layer\")[0]\n",
    "eq_item"
   ]
  },
  {
   "cell_type": "code",
   "execution_count": null,
   "id": "a0f1e922-2d90-4f9e-a1c4-a85f4c7227a5",
   "metadata": {},
   "outputs": [],
   "source": [
    "eq_lyr = eq_item.layers[0]"
   ]
  },
  {
   "cell_type": "code",
   "execution_count": null,
   "id": "ed684d17-825d-47e9-9999-72718e9ff77d",
   "metadata": {},
   "outputs": [],
   "source": [
    "eq_lyr.properties.timeInfo"
   ]
  },
  {
   "cell_type": "code",
   "execution_count": null,
   "id": "2f74049a-d995-4116-85d7-150a26c500c6",
   "metadata": {},
   "outputs": [],
   "source": [
    "mt = gis.map(location=\"Accra\")\n",
    "mt"
   ]
  },
  {
   "cell_type": "code",
   "execution_count": null,
   "id": "2f9c4077-e1a7-4292-9046-6c7ccb09ef43",
   "metadata": {},
   "outputs": [],
   "source": [
    "mt.zoom = 3"
   ]
  },
  {
   "cell_type": "code",
   "execution_count": null,
   "id": "2b5f3de5-ad75-4863-a4ee-7b1a04e557ad",
   "metadata": {},
   "outputs": [],
   "source": [
    "mt.content.add(eq_lyr)"
   ]
  },
  {
   "cell_type": "code",
   "execution_count": null,
   "id": "4938f802-0985-4eed-acbc-eaea2135750d",
   "metadata": {},
   "outputs": [],
   "source": [
    "time_slider = mt.time_slider\n",
    "time_slider.enabled = False"
   ]
  },
  {
   "cell_type": "markdown",
   "id": "10d5b113-36be-496e-937c-dfbe18f7eeb3",
   "metadata": {},
   "source": [
    "### Saving the Map\n",
    "\n",
    "To save your map you must be logged in to either ArcGIS Online or Enterprise. Since we are logged in we'll save this map:"
   ]
  },
  {
   "cell_type": "markdown",
   "id": "c70f5392-30ef-4564-9577-f87c98e549d7",
   "metadata": {},
   "source": [
    "Let's change the basemap.  First we'll access the _BasemapManager_ class with the _basemap_ property, then set the basemap to a new value."
   ]
  },
  {
   "cell_type": "code",
   "execution_count": null,
   "id": "bd789164-be26-414d-8a3f-46fb67048a09",
   "metadata": {},
   "outputs": [],
   "source": [
    "basemap_mgr = mt.basemap\n",
    "basemap_mgr.title"
   ]
  },
  {
   "cell_type": "code",
   "execution_count": null,
   "id": "d47203a4-90ac-4b2a-8f46-dde44520fd06",
   "metadata": {},
   "outputs": [],
   "source": [
    "type(basemap_mgr)"
   ]
  },
  {
   "cell_type": "code",
   "execution_count": null,
   "id": "aeff29a8-ddb0-4531-b706-65739826cca0",
   "metadata": {},
   "outputs": [],
   "source": [
    "basemap_mgr.basemap = \"oceans\""
   ]
  },
  {
   "cell_type": "markdown",
   "id": "08341960-c168-42fa-8913-49c3b3d0facd",
   "metadata": {},
   "source": [
    "Explore the new values of the basemap:"
   ]
  },
  {
   "cell_type": "code",
   "execution_count": null,
   "id": "bdc4ed60-69b7-4f04-be8a-898c9511f95d",
   "metadata": {},
   "outputs": [],
   "source": [
    "basemap_mgr.title"
   ]
  },
  {
   "cell_type": "code",
   "execution_count": null,
   "id": "14d821a6-ac57-41b6-a968-1b9b58e8c249",
   "metadata": {},
   "outputs": [],
   "source": [
    "basemap_mgr.basemap"
   ]
  },
  {
   "cell_type": "markdown",
   "id": "31c91267-8903-4623-abce-81131d817271",
   "metadata": {},
   "source": [
    "Now, save the map."
   ]
  },
  {
   "cell_type": "code",
   "execution_count": null,
   "id": "76a39ecc-7095-4447-b924-25a384b05366",
   "metadata": {},
   "outputs": [],
   "source": [
    "mt.save?"
   ]
  },
  {
   "cell_type": "code",
   "execution_count": null,
   "id": "ce2470e4-a304-4ea0-938c-c96e68dfeeb7",
   "metadata": {},
   "outputs": [],
   "source": [
    "mt.save(\n",
    "    item_properties = {\n",
    "        \"title\": \"Earthquakes May-June 2009\",\n",
    "        \"snippet\": \"Web map with time-enabled earthquakes data made in Jupyter Lab Notebook using the Python API\",\n",
    "        \"tags\": [\"mapping\", \"python\", \"time-enabled\"],\n",
    "    },\n",
    "    folder=\"time_enabled\"\n",
    ")"
   ]
  }
 ],
 "metadata": {
  "kernelspec": {
   "display_name": "Python 3 (ipykernel)",
   "language": "python",
   "name": "python3"
  },
  "language_info": {
   "codemirror_mode": {
    "name": "ipython",
    "version": 3
   },
   "file_extension": ".py",
   "mimetype": "text/x-python",
   "name": "python",
   "nbconvert_exporter": "python",
   "pygments_lexer": "ipython3",
   "version": "3.11.0"
  }
 },
 "nbformat": 4,
 "nbformat_minor": 5
}
