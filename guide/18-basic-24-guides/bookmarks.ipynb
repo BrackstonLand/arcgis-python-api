{
 "cells": [
  {
   "cell_type": "markdown",
   "id": "b7aac703-5db8-4e5e-b975-25b4b8030cb1",
   "metadata": {},
   "source": [
    "# Bookmarks"
   ]
  },
  {
   "cell_type": "markdown",
   "id": "24ffd5b9-35f8-4eaa-a5dd-053360c1a1a1",
   "metadata": {},
   "source": [
    "## Import Classes"
   ]
  },
  {
   "cell_type": "code",
   "execution_count": null,
   "id": "e0f3b00b-11d9-460a-b51b-293434a11645",
   "metadata": {},
   "outputs": [],
   "source": [
    "from arcgis.map import Map"
   ]
  },
  {
   "cell_type": "code",
   "execution_count": null,
   "id": "27f37080-8320-4dcf-b821-afb4a244dfe5",
   "metadata": {},
   "outputs": [],
   "source": [
    "mmap = Map()\n",
    "mmap"
   ]
  },
  {
   "cell_type": "markdown",
   "id": "1a326238-d288-42c9-b00c-8a98514f155f",
   "metadata": {},
   "source": [
    "## Bookmark Manager Class"
   ]
  },
  {
   "cell_type": "code",
   "execution_count": null,
   "id": "f109aa8a-5ccf-477b-9c9c-05ee13ba2b15",
   "metadata": {},
   "outputs": [],
   "source": [
    "bm = mmap.bookmarks\n",
    "bm"
   ]
  },
  {
   "cell_type": "markdown",
   "id": "946537de-ce00-495a-acaa-a177522787bb",
   "metadata": {},
   "source": [
    "## Enable the widget to see it on rendered Map"
   ]
  },
  {
   "cell_type": "code",
   "execution_count": null,
   "id": "57a579f0-6555-446d-be44-8c085cc22816",
   "metadata": {},
   "outputs": [],
   "source": [
    "bm.enabled = True"
   ]
  },
  {
   "cell_type": "markdown",
   "id": "2340b22a-2cbb-4e7d-baaf-1ccc9c78264e",
   "metadata": {},
   "source": [
    "## Add a new Bookmark"
   ]
  },
  {
   "cell_type": "code",
   "execution_count": null,
   "id": "0a50357b-86f8-48da-8188-c0678e605408",
   "metadata": {},
   "outputs": [],
   "source": [
    "# We don't have any bookmarks on the map\n",
    "bm.list"
   ]
  },
  {
   "cell_type": "code",
   "execution_count": null,
   "id": "cb7d495b-7c4c-4a4c-a1e9-cf696e85dd54",
   "metadata": {},
   "outputs": [],
   "source": [
    "# Add a bookmark\n",
    "bm.add(\n",
    "    name=\"TestBookmark\",\n",
    "    extent={\n",
    "        \"xmin\": -13458971.714869041,\n",
    "        \"ymin\": 3612376.446092521,\n",
    "        \"xmax\": -12305256.512287628,\n",
    "        \"ymax\": 4354833.185272345,\n",
    "        \"spatialReference\": {\"wkid\": 102100},\n",
    "    },\n",
    ")\n",
    "bm.list"
   ]
  },
  {
   "cell_type": "markdown",
   "id": "dad06b59-f1c4-4d7b-a231-722fc3768f16",
   "metadata": {},
   "source": [
    "## Make edits to existing bookmarks with the Bookmark Class"
   ]
  },
  {
   "cell_type": "code",
   "execution_count": null,
   "id": "df9a9169-24a0-4fbc-8aab-46a60035fe63",
   "metadata": {},
   "outputs": [],
   "source": [
    "test_bm = bm.list[0]\n",
    "test_bm"
   ]
  },
  {
   "cell_type": "code",
   "execution_count": null,
   "id": "c06150ce-e364-40bb-8b8b-ac66a0131ff4",
   "metadata": {},
   "outputs": [],
   "source": [
    "test_bm.viewpoint"
   ]
  },
  {
   "cell_type": "code",
   "execution_count": null,
   "id": "4f565f5c-0eba-447e-b859-86b96d7bd10b",
   "metadata": {},
   "outputs": [],
   "source": [
    "test_bm.edit(\n",
    "    extent={\n",
    "        \"spatialReference\": {\"wkid\": 102100},\n",
    "        \"xmin\": -8575296.79931021,\n",
    "        \"ymin\": 4836277.257855453,\n",
    "        \"xmax\": -7715533.10515859,\n",
    "        \"ymax\": 5142025.370996142,\n",
    "    }\n",
    ")"
   ]
  },
  {
   "cell_type": "code",
   "execution_count": null,
   "id": "056f6b9f-a329-4faa-a875-44c23bfd4ed5",
   "metadata": {},
   "outputs": [],
   "source": [
    "test_bm.viewpoint"
   ]
  },
  {
   "cell_type": "code",
   "execution_count": null,
   "id": "a729f2dc-7902-4a1b-8f8e-9e4d09543d61",
   "metadata": {},
   "outputs": [],
   "source": []
  }
 ],
 "metadata": {
  "kernelspec": {
   "display_name": "Python 3 (ipykernel)",
   "language": "python",
   "name": "python3"
  },
  "language_info": {
   "codemirror_mode": {
    "name": "ipython",
    "version": 3
   },
   "file_extension": ".py",
   "mimetype": "text/x-python",
   "name": "python",
   "nbconvert_exporter": "python",
   "pygments_lexer": "ipython3",
   "version": "3.11.8"
  }
 },
 "nbformat": 4,
 "nbformat_minor": 5
}
