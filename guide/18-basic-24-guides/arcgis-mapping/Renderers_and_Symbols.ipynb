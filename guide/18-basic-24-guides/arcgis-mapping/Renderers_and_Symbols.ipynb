{
 "cells": [
  {
   "cell_type": "markdown",
   "id": "83a3faec-b49b-4176-a0d4-ebe961ad7020",
   "metadata": {},
   "source": [
    "# Using Renderer and Symbol Dataclasses"
   ]
  },
  {
   "cell_type": "code",
   "execution_count": null,
   "id": "56f479a8-d9fb-437e-a07c-c4848dba9a9b",
   "metadata": {},
   "outputs": [],
   "source": [
    "from arcgis.gis import GIS\n",
    "from arcgis.map import Map, renderers, symbols"
   ]
  },
  {
   "cell_type": "code",
   "execution_count": null,
   "id": "bb5841e1-a679-47e2-8a47-0920a38dbd2c",
   "metadata": {},
   "outputs": [],
   "source": [
    "gis = GIS(profile=\"your_online_profile\")"
   ]
  },
  {
   "cell_type": "markdown",
   "id": "e0934e44-f6f6-422b-9aaf-e893d41ae5b5",
   "metadata": {},
   "source": [
    "## Why Dataclasses?"
   ]
  },
  {
   "cell_type": "markdown",
   "id": "0d460a86-3230-4f15-9aec-782df21dbdbc",
   "metadata": {},
   "source": [
    "In our ongoing commitment to providing a seamless and user-friendly API experience, we're excited to introduce Pydantic dataclasses into our system. Pydantic, a powerful data validation and parsing library, enhances the way you interact with our API by bringing a myriad of benefits to the table.\n",
    "\n",
    "__Simplified Input Validation:__\n",
    "Pydantic dataclasses allow us to effortlessly validate and parse incoming data. By defining the structure of your data using Pydantic models, we ensure that input adheres to the specified format, reducing the risk of errors and enhancing the reliability of your API interactions.\n",
    "\n",
    "__Robust Type Hinting:__\n",
    "Harness the power of Pydantic's type hinting capabilities to catch potential errors early in the development process. With well-defined data models, you benefit from improved code introspection, better IDE support, and increased confidence in the correctness of your code."
   ]
  },
  {
   "cell_type": "markdown",
   "id": "4e3f2f95-9cbc-4c66-9935-7aaf9645a8df",
   "metadata": {},
   "source": [
    "### Creating a Simple Renderer"
   ]
  },
  {
   "cell_type": "markdown",
   "id": "81fbecc6-8ad7-45e5-a594-d9f1cfe8ca12",
   "metadata": {},
   "source": [
    "#### First let's see how these pydantic classes can help us understand where we went wrong"
   ]
  },
  {
   "cell_type": "code",
   "execution_count": null,
   "id": "f1d8f1e1-d3a2-41f0-ae73-15c017d1bda3",
   "metadata": {},
   "outputs": [],
   "source": [
    "# let's see an example where the style is wrong!\n",
    "renderer = renderers.SimpleRenderer(\n",
    "    symbol=symbols.SimpleMarkerSymbolEsriSMS(\n",
    "        style=\"circle\", color=[255, 0, 0, 1], size=10\n",
    "    )\n",
    ")"
   ]
  },
  {
   "cell_type": "markdown",
   "id": "3ac1820a-11e6-44c8-8639-251c01742533",
   "metadata": {},
   "source": [
    "#### Thanks to the pydantic class we see that the type of 'style' is wrong and it tells us what this should be"
   ]
  },
  {
   "cell_type": "code",
   "execution_count": null,
   "id": "e526b7b1-3e1c-4abc-bcb4-0fdec4debe00",
   "metadata": {},
   "outputs": [],
   "source": [
    "renderer = renderers.SimpleRenderer(\n",
    "    symbol=symbols.SimpleMarkerSymbolEsriSMS(\n",
    "        style=\"esriSMSCircle\", color=[0, 0, 255], size=3\n",
    "    )\n",
    ")\n",
    "renderer"
   ]
  },
  {
   "cell_type": "markdown",
   "id": "1070d85e-308b-4de7-a390-634e6ba5474d",
   "metadata": {},
   "source": [
    "#### Great we have successfully made an instance of this dataclass"
   ]
  },
  {
   "cell_type": "code",
   "execution_count": null,
   "id": "8695a3a4-bb82-49af-a913-860825a5abd7",
   "metadata": {},
   "outputs": [],
   "source": [
    "# You can see this displayed as a dictionary with the `dict` method\n",
    "renderer.dict()"
   ]
  },
  {
   "cell_type": "markdown",
   "id": "324f4156-8f49-4d94-9532-afecd3578778",
   "metadata": {},
   "source": [
    "### Apply Renderer to Feature Layer on Map `add`"
   ]
  },
  {
   "cell_type": "code",
   "execution_count": null,
   "id": "bec9fefd-e63f-4f90-b218-e9956ec7d7ec",
   "metadata": {},
   "outputs": [],
   "source": [
    "major_cities = gis.content.search(\n",
    "    \"USA major cities, owner:esri_dm\", item_type=\"Feature Layer\", outside_org=True\n",
    ")[1]\n",
    "major_cities"
   ]
  },
  {
   "cell_type": "code",
   "execution_count": null,
   "id": "d043e59e-b324-4b85-8dd9-41edf5447467",
   "metadata": {},
   "outputs": [],
   "source": [
    "m = Map()\n",
    "m"
   ]
  },
  {
   "cell_type": "code",
   "execution_count": null,
   "id": "763da2b8-57a1-470a-9380-77ec65c2c33f",
   "metadata": {},
   "outputs": [],
   "source": [
    "# change the basemap so we can see it better\n",
    "m.basemap.basemap = \"gray-vector\""
   ]
  },
  {
   "cell_type": "code",
   "execution_count": null,
   "id": "1aed3944-3e89-4ee2-8eca-76d12931441a",
   "metadata": {},
   "outputs": [],
   "source": [
    "# this will make the layer render with blue dots rather than the original red dots\n",
    "m.content.add(major_cities.layers[0], drawing_info={\"renderer\": renderer.dict()})"
   ]
  }
 ],
 "metadata": {
  "kernelspec": {
   "display_name": "Python 3 (ipykernel)",
   "language": "python",
   "name": "python3"
  },
  "language_info": {
   "codemirror_mode": {
    "name": "ipython",
    "version": 3
   },
   "file_extension": ".py",
   "mimetype": "text/x-python",
   "name": "python",
   "nbconvert_exporter": "python",
   "pygments_lexer": "ipython3",
   "version": "3.11.8"
  }
 },
 "nbformat": 4,
 "nbformat_minor": 5
}
