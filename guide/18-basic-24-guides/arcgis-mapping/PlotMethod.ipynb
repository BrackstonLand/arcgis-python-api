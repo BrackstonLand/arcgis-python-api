{
 "cells": [
  {
   "cell_type": "markdown",
   "id": "e84d6c59-de9c-4884-820a-d459697abbae",
   "metadata": {},
   "source": [
    "# Use the `plot` method"
   ]
  },
  {
   "cell_type": "markdown",
   "id": "09aaf283-2a15-4b6b-a3c6-d4bf6bc4893c",
   "metadata": {},
   "source": [
    "The plot method can help you visualize your Spatially Enabled DataFrame geometries on a rendered Map."
   ]
  },
  {
   "cell_type": "markdown",
   "id": "5f6655ff-6924-456d-a10f-b73097fd57ac",
   "metadata": {},
   "source": [
    "## Import Libraries"
   ]
  },
  {
   "cell_type": "code",
   "execution_count": null,
   "id": "77720a07-f7fe-402e-a7ce-14be1c212f38",
   "metadata": {},
   "outputs": [],
   "source": [
    "from arcgis.gis import GIS\n",
    "from arcgis.features import GeoAccessor\n",
    "from arcgis.map import Map"
   ]
  },
  {
   "cell_type": "markdown",
   "id": "c05ebf6b-dec1-4bb8-8d89-9819381b11d5",
   "metadata": {},
   "source": [
    "## Create a SeDF"
   ]
  },
  {
   "cell_type": "code",
   "execution_count": null,
   "id": "3e797fba-3ef2-419e-bcfb-742dde10cf36",
   "metadata": {},
   "outputs": [],
   "source": [
    "gis = GIS()\n",
    "# create an anonymous connection to ArcGIS Online and get a public item\n",
    "item = gis.content.get(\"85d0ca4ea1ca4b9abf0c51b9bd34de2e\")\n",
    "flayer = item.layers[0]\n",
    "\n",
    "# Specify a SQL query and get a sub-set of the original data as a DataFrame\n",
    "df = flayer.query(where=\"AGE_45_54 < 1500\").sdf\n",
    "\n",
    "# Visualize the top 5 records\n",
    "df.head()"
   ]
  },
  {
   "cell_type": "markdown",
   "id": "41bef968-2f88-4f20-a750-fffdc4d31e1e",
   "metadata": {},
   "source": [
    "## Create a Map"
   ]
  },
  {
   "cell_type": "code",
   "execution_count": null,
   "id": "ebb46d9a-9852-4317-aa9f-727404603f2c",
   "metadata": {},
   "outputs": [],
   "source": [
    "map = Map(location=\"Midwest\")\n",
    "map"
   ]
  },
  {
   "cell_type": "code",
   "execution_count": null,
   "id": "44b27047-24c1-45ae-82f6-9b4b1e92f920",
   "metadata": {},
   "outputs": [],
   "source": [
    "# adjust the zoom\n",
    "map.zoom = 5"
   ]
  },
  {
   "cell_type": "markdown",
   "id": "9a86eb86-950a-458b-a8f6-0a6c474978b8",
   "metadata": {},
   "source": [
    "## Plotting the DataFrame\n",
    "You can quickly visualize the points by calling the plot() method off the DataFrame's spatial accessor and passing the map you created above."
   ]
  },
  {
   "cell_type": "code",
   "execution_count": null,
   "id": "122d1837-f329-4f7b-bf29-fb0e45507359",
   "metadata": {},
   "outputs": [],
   "source": [
    "df.spatial.plot(map)"
   ]
  },
  {
   "cell_type": "markdown",
   "id": "73844808-93d6-468a-8dcc-d4c3e956390c",
   "metadata": {},
   "source": [
    "You can customize the symbols, their color, shape, border etc. like you would in a typical matplotlib plot. The rest of this guide talks about such customizations and suggestions to visualize your spatial and non-spatial data.\n",
    "\n",
    "The code below plots the same set of points on a new map using a common structure used amongst many different Python packages for defining symbology. It is built off of the matplotlib libraries for simple, straightforward plotting. We'll explain some of the parameters below, and the plot() API Reference outlines more options."
   ]
  },
  {
   "cell_type": "code",
   "execution_count": null,
   "id": "b2d26a41-0c33-4a64-8702-b5fbc22a4fcd",
   "metadata": {},
   "outputs": [],
   "source": [
    "map2 = Map(location=\"Midwest\")\n",
    "map2"
   ]
  },
  {
   "cell_type": "code",
   "execution_count": null,
   "id": "cab80319-6598-4627-8b0c-20ba43c143f6",
   "metadata": {},
   "outputs": [],
   "source": [
    "map2.zoom = 5"
   ]
  },
  {
   "cell_type": "markdown",
   "id": "ae86c268-6cce-48c9-9489-238308b03433",
   "metadata": {},
   "source": [
    "## Create a Renderer Dataclass to pass to the map\n",
    "Creating a dataclass allows you to customize your renderers to the fullest. You can fine tune each property."
   ]
  },
  {
   "cell_type": "code",
   "execution_count": null,
   "id": "84f35661-45bd-4048-a7cd-e13e5fd7497d",
   "metadata": {},
   "outputs": [],
   "source": [
    "from arcgis.map.renderers import SimpleRenderer\n",
    "from arcgis.map.symbols import SimpleMarkerSymbolEsriSMS, SimpleLineSymbolEsriSLS\n",
    "\n",
    "# make blue outline symbol\n",
    "line = SimpleLineSymbolEsriSLS(color=[21, 27, 141])\n",
    "\n",
    "# this will be the main marker for the points: red diamonds with blue outline\n",
    "marker = SimpleMarkerSymbolEsriSMS(\n",
    "    style=\"esriSMSDiamond\", color=[255, 0, 0], outline=line, size=10\n",
    ")\n",
    "\n",
    "rend = SimpleRenderer(symbol=marker)"
   ]
  },
  {
   "cell_type": "code",
   "execution_count": null,
   "id": "c97e9ff9-2963-4303-afaa-1b2a7d6698c5",
   "metadata": {},
   "outputs": [],
   "source": [
    "df.spatial.plot(map2, renderer=rend)"
   ]
  },
  {
   "cell_type": "markdown",
   "id": "f614dfac-700f-48d3-a0d5-91fcdc861cc4",
   "metadata": {},
   "source": [
    "## Using the Smart Mapping Manager\n",
    "When your map is rendered in a notebook you can define the renderer as a string. This will use the JS API smart mapping methods to render the layer.  \n",
    "You can fine tune the properties in the options parameter as well."
   ]
  },
  {
   "cell_type": "code",
   "execution_count": null,
   "id": "56350d2a-bc44-4b90-b009-a91093acee97",
   "metadata": {},
   "outputs": [],
   "source": [
    "map3 = Map(location=\"Midwest\")\n",
    "map3"
   ]
  },
  {
   "cell_type": "code",
   "execution_count": null,
   "id": "d4173699-a2f4-451a-85b1-4ad356481329",
   "metadata": {},
   "outputs": [],
   "source": [
    "map3.zoom = 5"
   ]
  },
  {
   "cell_type": "code",
   "execution_count": null,
   "id": "0ef00692-c776-4b61-b161-969593733609",
   "metadata": {},
   "outputs": [],
   "source": [
    "# Use class breaks renderer and define the field that will be used\n",
    "df.spatial.plot(map3, renderer=\"c\", options={\"break_type\": \"size\", \"field\": \"FAMILIES\"})"
   ]
  },
  {
   "cell_type": "code",
   "execution_count": null,
   "id": "cb60db6e-ca2c-4542-833b-80654ef32b7b",
   "metadata": {},
   "outputs": [],
   "source": [
    "# enable the legend at the top right\n",
    "map3.legend.enabled = True"
   ]
  },
  {
   "cell_type": "markdown",
   "id": "80af68db-2ecd-4c20-8337-922606f271d6",
   "metadata": {},
   "source": [
    "#### Great! But the class breaks are not highlighting the map in the best way possible. We can provide more properties to the options dictionary to edit this smart mapping renderer."
   ]
  },
  {
   "cell_type": "code",
   "execution_count": null,
   "id": "bb79927d-129c-4c85-b50e-d972d7e26cbc",
   "metadata": {},
   "outputs": [],
   "source": [
    "map4 = Map(location=\"Midwest\")\n",
    "map4"
   ]
  },
  {
   "cell_type": "code",
   "execution_count": null,
   "id": "aa6213d9-48bb-4df5-9a71-646830a391ca",
   "metadata": {},
   "outputs": [],
   "source": [
    "map4.zoom = 4"
   ]
  },
  {
   "cell_type": "code",
   "execution_count": null,
   "id": "3d83967b-aa08-4ccd-932d-ec3e14b991d7",
   "metadata": {},
   "outputs": [],
   "source": [
    "# Use class breaks renderer and define the field that will be used as well as other parameters\n",
    "df.spatial.plot(\n",
    "    map4,\n",
    "    renderer=\"c\",\n",
    "    options={\n",
    "        \"break_type\": \"size\",\n",
    "        \"field\": \"FAMILIES\",\n",
    "        \"num_classes\": 2,\n",
    "        \"min_value\": 500,\n",
    "        \"max_value\": 10000,\n",
    "    },\n",
    ")"
   ]
  },
  {
   "cell_type": "code",
   "execution_count": null,
   "id": "75e30cdd-fd39-4dfd-a3be-539e86c7d616",
   "metadata": {},
   "outputs": [],
   "source": [
    "map4.legend.enabled = True"
   ]
  }
 ],
 "metadata": {
  "kernelspec": {
   "display_name": "Python 3 (ipykernel)",
   "language": "python",
   "name": "python3"
  },
  "language_info": {
   "codemirror_mode": {
    "name": "ipython",
    "version": 3
   },
   "file_extension": ".py",
   "mimetype": "text/x-python",
   "name": "python",
   "nbconvert_exporter": "python",
   "pygments_lexer": "ipython3",
   "version": "3.11.8"
  }
 },
 "nbformat": 4,
 "nbformat_minor": 5
}
