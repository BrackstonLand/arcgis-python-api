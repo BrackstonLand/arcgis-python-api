{
 "cells": [
  {
   "cell_type": "markdown",
   "id": "c6c0cc3f-27a9-4aa9-8b24-bbb1803e805d",
   "metadata": {},
   "source": [
    "# Draw Method"
   ]
  },
  {
   "cell_type": "code",
   "execution_count": null,
   "id": "ee5b2324-a61c-42e5-bf46-8813a8162e57",
   "metadata": {},
   "outputs": [],
   "source": [
    "from arcgis.map import Map, popups\n",
    "from arcgis.gis import GIS\n",
    "from arcgis.geocoding import geocode"
   ]
  },
  {
   "cell_type": "code",
   "execution_count": null,
   "id": "11252e97-879a-422b-b529-0ef3b3dfa587",
   "metadata": {},
   "outputs": [],
   "source": [
    "gis = GIS(profile=\"your_online_profile\")"
   ]
  },
  {
   "cell_type": "markdown",
   "id": "995087de-931b-4e17-b709-1c4121e26dc5",
   "metadata": {},
   "source": [
    "## Draw from a geocoded location"
   ]
  },
  {
   "cell_type": "code",
   "execution_count": null,
   "id": "b9bf0c5c-2e02-4860-95f7-58dfb417ec39",
   "metadata": {},
   "outputs": [],
   "source": [
    "esri_map = gis.map()\n",
    "esri_map"
   ]
  },
  {
   "cell_type": "code",
   "execution_count": null,
   "id": "2cd6a065-0417-419a-807e-e64080fc82d2",
   "metadata": {},
   "outputs": [],
   "source": [
    "single_line_address = \"380 New York Street, Redlands, CA 92373\"\n",
    "esrihq = geocode(single_line_address)[0]\n",
    "\n",
    "text = popups.PopupElementText(text=\"Esri Headquarters\")\n",
    "popup = popups.PopupInfo(popup_elements=[text], title=\"Sketch Layer\")"
   ]
  },
  {
   "cell_type": "code",
   "execution_count": null,
   "id": "40a4729a-4175-478c-a94e-72618d26b5f3",
   "metadata": {},
   "outputs": [],
   "source": [
    "# you will see a pink dot over redlands\n",
    "esri_map.content.draw(esrihq[\"location\"], popup)"
   ]
  },
  {
   "cell_type": "code",
   "execution_count": null,
   "id": "41bf3df6-4e6b-4578-91e2-4d6fadf7ac11",
   "metadata": {},
   "outputs": [],
   "source": [
    "esri_map.content.layers"
   ]
  },
  {
   "cell_type": "markdown",
   "id": "bfa25467-14c7-4871-8c8b-9464440e62f8",
   "metadata": {},
   "source": [
    "## Draw a Geometry"
   ]
  },
  {
   "cell_type": "code",
   "execution_count": null,
   "id": "fa98278b-457e-4f10-8a2d-9f0415bbb3c5",
   "metadata": {},
   "outputs": [],
   "source": [
    "from arcgis.geometry import Point, Polyline, Polygon\n",
    "\n",
    "point = Point({\"x\": -130, \"y\": 35})\n",
    "polyline = Polyline({\"paths\": [[[-130, 35], [-120, 35], [-120, 40]]]})\n",
    "polygon = Polygon({\"rings\": [[[-130, 35], [-120, 35], [-120, 40], [-130, 40]]]})"
   ]
  },
  {
   "cell_type": "code",
   "execution_count": null,
   "id": "b1eaf130-e533-4168-991a-b68fc814a457",
   "metadata": {},
   "outputs": [],
   "source": [
    "geom_map = Map(location=\"California\")\n",
    "geom_map"
   ]
  },
  {
   "cell_type": "code",
   "execution_count": null,
   "id": "067a0d40-dca4-4956-a9c8-1122a10f7325",
   "metadata": {},
   "outputs": [],
   "source": [
    "# A pink dot will show up on the map\n",
    "geom_map.content.draw(point)"
   ]
  },
  {
   "cell_type": "code",
   "execution_count": null,
   "id": "0dcea602-d2f5-4480-8b6f-c1af5ca5b0ed",
   "metadata": {},
   "outputs": [],
   "source": [
    "# A black line will show up on the map, making a right angle\n",
    "geom_map.content.draw(polyline)"
   ]
  },
  {
   "cell_type": "code",
   "execution_count": null,
   "id": "ab890ed5-73e6-4122-abd1-d87994154a8c",
   "metadata": {},
   "outputs": [],
   "source": [
    "# A shaded rectangle will show up on the map\n",
    "geom_map.content.draw(polygon)"
   ]
  },
  {
   "cell_type": "code",
   "execution_count": null,
   "id": "81f26917-3bac-4e03-b600-b51a0d4af0d4",
   "metadata": {},
   "outputs": [],
   "source": [
    "geom_map.content.layers"
   ]
  }
 ],
 "metadata": {
  "kernelspec": {
   "display_name": "Python 3 (ipykernel)",
   "language": "python",
   "name": "python3"
  },
  "language_info": {
   "codemirror_mode": {
    "name": "ipython",
    "version": 3
   },
   "file_extension": ".py",
   "mimetype": "text/x-python",
   "name": "python",
   "nbconvert_exporter": "python",
   "pygments_lexer": "ipython3",
   "version": "3.11.8"
  }
 },
 "nbformat": 4,
 "nbformat_minor": 5
}
