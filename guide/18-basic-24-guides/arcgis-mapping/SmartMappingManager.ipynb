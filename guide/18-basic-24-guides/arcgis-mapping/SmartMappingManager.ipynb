{
 "cells": [
  {
   "cell_type": "markdown",
   "id": "5cf0bd4e-6e01-404b-8789-dd8195c7ee87",
   "metadata": {},
   "source": [
    "# Using Smart Mapping"
   ]
  },
  {
   "cell_type": "markdown",
   "id": "264a851d-4a00-4b22-93bc-cfc4e668f1c8",
   "metadata": {},
   "source": [
    "## Import Classes"
   ]
  },
  {
   "cell_type": "code",
   "execution_count": null,
   "id": "5b0bd860-25c7-4d6c-8eea-30fceb45febf",
   "metadata": {},
   "outputs": [],
   "source": [
    "from arcgis.map import Map\n",
    "from arcgis.gis import GIS\n",
    "\n",
    "gis = GIS(profile=\"your_online_profile\", verify_cert=False)"
   ]
  },
  {
   "cell_type": "markdown",
   "id": "999ef453-6dc4-48a6-9265-e5639d9684b7",
   "metadata": {},
   "source": [
    "## Creating a Map from existing Item"
   ]
  },
  {
   "cell_type": "code",
   "execution_count": null,
   "id": "a715bab1-fede-45f6-b970-b35944960d0e",
   "metadata": {},
   "outputs": [],
   "source": [
    "m = Map(item=\"3d717eaa25c34fd6baf2a8cf4b636994\", location=\"East Coast\")\n",
    "m"
   ]
  },
  {
   "cell_type": "code",
   "execution_count": null,
   "id": "6f4ed505-9bc5-491f-99bc-37808d701772",
   "metadata": {},
   "outputs": [],
   "source": [
    "# We can work with the county layer (1)\n",
    "m.content.layers"
   ]
  },
  {
   "cell_type": "markdown",
   "id": "bc65aa1b-7f85-4150-9405-0219db10ae69",
   "metadata": {},
   "source": [
    "## Access the Smart Mapping Manager for the layer"
   ]
  },
  {
   "cell_type": "code",
   "execution_count": null,
   "id": "0a80416c-32e9-4850-8e54-ac7ce9524057",
   "metadata": {},
   "outputs": [],
   "source": [
    "sm_manager = m.content.smart_mapping(1)\n",
    "sm_manager"
   ]
  },
  {
   "cell_type": "markdown",
   "id": "6ccf1475-e38d-4656-8528-2197e98cc5eb",
   "metadata": {},
   "source": [
    "#### Test a smart mapping method and see the map change\n",
    "\n",
    "A note on these methods: They are occurring asynchronously on the rendered map. Meaning that the length of time it takes to see a result will depend on the size of the data. In this case wait about 10 seconds max."
   ]
  },
  {
   "cell_type": "code",
   "execution_count": null,
   "id": "02557633-b4e4-46db-85d7-c2b128f3b5db",
   "metadata": {},
   "outputs": [],
   "source": [
    "sm_manager.class_breaks_renderer(break_type=\"size\", field=\"B24022_calc_pctFtoM_PRODM\")"
   ]
  }
 ],
 "metadata": {
  "kernelspec": {
   "display_name": "Python 3 (ipykernel)",
   "language": "python",
   "name": "python3"
  },
  "language_info": {
   "codemirror_mode": {
    "name": "ipython",
    "version": 3
   },
   "file_extension": ".py",
   "mimetype": "text/x-python",
   "name": "python",
   "nbconvert_exporter": "python",
   "pygments_lexer": "ipython3",
   "version": "3.11.8"
  }
 },
 "nbformat": 4,
 "nbformat_minor": 5
}
