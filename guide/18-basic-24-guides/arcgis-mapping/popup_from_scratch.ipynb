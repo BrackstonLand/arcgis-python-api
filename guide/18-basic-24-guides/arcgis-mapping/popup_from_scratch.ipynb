{
 "cells": [
  {
   "cell_type": "code",
   "execution_count": 7,
   "id": "75080071-655c-447a-b888-2866e1d70116",
   "metadata": {},
   "outputs": [],
   "source": [
    "from arcgis.gis import GIS\n",
    "from arcgis.map import Map"
   ]
  },
  {
   "cell_type": "code",
   "execution_count": 2,
   "id": "eefd1d35-e0df-4ac5-88d6-69637bdb256e",
   "metadata": {},
   "outputs": [],
   "source": [
    "gis = GIS(profile=\"your_online_profile\")"
   ]
  },
  {
   "cell_type": "markdown",
   "id": "393d2230-171f-42a6-9736-a7ee9039e88a",
   "metadata": {},
   "source": [
    "### Pop-ups in Added Layer"
   ]
  },
  {
   "cell_type": "code",
   "execution_count": 3,
   "id": "c6eb6e55-ff04-4ae2-b6b0-66d60a1abbfc",
   "metadata": {},
   "outputs": [
    {
     "data": {
      "text/plain": [
       "<FeatureLayer url:\"https://services7.arcgis.com/JEwYeAy2cc8qOe3o/arcgis/rest/services/fcs_stadium_locations/FeatureServer/0\">"
      ]
     },
     "execution_count": 3,
     "metadata": {},
     "output_type": "execute_result"
    }
   ],
   "source": [
    "# Let's get a layer about current college football stadiums in the United States\n",
    "feature_layer = gis.content.get(\"70173904c6de4a5aa6d4e24533efdd25\").layers[0]\n",
    "feature_layer"
   ]
  },
  {
   "cell_type": "code",
   "execution_count": 8,
   "id": "a951905b-b433-4c92-b74a-c35b7cfdc9b0",
   "metadata": {},
   "outputs": [
    {
     "data": {
      "text/plain": [
       "[<FeatureLayer url:\"https://services7.arcgis.com/JEwYeAy2cc8qOe3o/arcgis/rest/services/fcs_stadium_locations/FeatureServer/0\">]"
      ]
     },
     "execution_count": 8,
     "metadata": {},
     "output_type": "execute_result"
    }
   ],
   "source": [
    "m2 = Map()\n",
    "m2.content.add(feature_layer)\n",
    "m2.content.layers"
   ]
  },
  {
   "cell_type": "code",
   "execution_count": 9,
   "id": "45d1ad6e-6b40-4423-97d4-99374a494432",
   "metadata": {},
   "outputs": [
    {
     "data": {
      "application/vnd.jupyter.widget-view+json": {
       "model_id": "0e3944e942fc40f69d56774ed5b22cbb",
       "version_major": 2,
       "version_minor": 1
      },
      "text/plain": [
       "Map(extent={'xmin': -14954681.929724608, 'ymin': 3341779.8113346146, 'xmax': -12529809.39213255, 'ymax': 51799…"
      ]
     },
     "execution_count": 9,
     "metadata": {},
     "output_type": "execute_result"
    }
   ],
   "source": [
    "# Let's display the map and see a popup on the layer (Click on a symbol to see this)\n",
    "m2"
   ]
  },
  {
   "cell_type": "code",
   "execution_count": 10,
   "id": "28701b4a-74c1-4625-afe3-73cd127edf17",
   "metadata": {},
   "outputs": [],
   "source": [
    "m2.zoom_to_layer(feature_layer)"
   ]
  },
  {
   "cell_type": "code",
   "execution_count": 11,
   "id": "7306cf40-fe54-413a-8592-dd5c5a7022d9",
   "metadata": {},
   "outputs": [],
   "source": [
    "m2.center = [38, -98]"
   ]
  },
  {
   "cell_type": "code",
   "execution_count": 12,
   "id": "88e9cad3-6abc-4f6a-b211-d516c79850e0",
   "metadata": {},
   "outputs": [],
   "source": [
    "m2.zoom = 3"
   ]
  },
  {
   "cell_type": "markdown",
   "id": "bc74dc61-f26f-4677-8bb9-10e815ca069b",
   "metadata": {},
   "source": [
    "### Clicking in the map above at this stage - nothing happens when I click on a point"
   ]
  },
  {
   "cell_type": "code",
   "execution_count": 13,
   "id": "454c8077-1f50-4068-9ef0-4be5255bd50f",
   "metadata": {},
   "outputs": [
    {
     "data": {
      "text/plain": [
       "PopupManager for: fcs_stadium_locations"
      ]
     },
     "execution_count": 13,
     "metadata": {},
     "output_type": "execute_result"
    }
   ],
   "source": [
    "pop_mgr = m2.content.popup(0)\n",
    "pop_mgr"
   ]
  },
  {
   "cell_type": "code",
   "execution_count": 14,
   "id": "d0decebd-36d5-4e79-97aa-da39f8b470b9",
   "metadata": {},
   "outputs": [],
   "source": [
    "pop_mgr.title"
   ]
  },
  {
   "cell_type": "code",
   "execution_count": 15,
   "id": "edc986cb-cbc7-4334-b2ef-ad4fc040dd98",
   "metadata": {},
   "outputs": [
    {
     "data": {
      "text/plain": [
       "True"
      ]
     },
     "execution_count": 15,
     "metadata": {},
     "output_type": "execute_result"
    }
   ],
   "source": [
    "pop_mgr.disable_popup"
   ]
  },
  {
   "cell_type": "code",
   "execution_count": 16,
   "id": "4246c73a-81fc-49f5-be07-ee0b7f873e3f",
   "metadata": {},
   "outputs": [],
   "source": [
    "pop_mgr.disable_popup = False"
   ]
  },
  {
   "cell_type": "code",
   "execution_count": 17,
   "id": "19503118-e285-434b-9f56-f6df584ad165",
   "metadata": {},
   "outputs": [
    {
     "data": {
      "text/plain": [
       "True"
      ]
     },
     "execution_count": 17,
     "metadata": {},
     "output_type": "execute_result"
    }
   ],
   "source": [
    "pop_mgr.edit(\n",
    "    title=\"US College Football Stadiums\"\n",
    ")"
   ]
  },
  {
   "cell_type": "code",
   "execution_count": null,
   "id": "662487aa-49b1-4b50-9a27-e757ffe35008",
   "metadata": {},
   "outputs": [],
   "source": [
    "pop_mgr.edit(\n",
    "    field_infos=[\n",
    "        \n",
    "    ]"
   ]
  },
  {
   "cell_type": "code",
   "execution_count": null,
   "id": "9f69865d-2c24-40b4-81be-fb0e3a664d97",
   "metadata": {},
   "outputs": [],
   "source": [
    "saved_map_item = m2.save(\n",
    "    item_properties={\n",
    "        \"title\":\"FCS Stadiums\",\n",
    "        \"tags\":\"popup_testing,Python API\",\n",
    "        \"snippet\":\"Web Map saved in API to test enabling popups\"\n",
    "    },\n",
    "    folder=\"stadiums\"\n",
    ")"
   ]
  }
 ],
 "metadata": {
  "kernelspec": {
   "display_name": "Python 3 (ipykernel)",
   "language": "python",
   "name": "python3"
  },
  "language_info": {
   "codemirror_mode": {
    "name": "ipython",
    "version": 3
   },
   "file_extension": ".py",
   "mimetype": "text/x-python",
   "name": "python",
   "nbconvert_exporter": "python",
   "pygments_lexer": "ipython3",
   "version": "3.11.0"
  }
 },
 "nbformat": 4,
 "nbformat_minor": 5
}
