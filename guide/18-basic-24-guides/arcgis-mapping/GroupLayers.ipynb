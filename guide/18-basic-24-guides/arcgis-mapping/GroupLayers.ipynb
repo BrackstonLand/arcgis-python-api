{
 "cells": [
  {
   "cell_type": "markdown",
   "id": "da70223a-b6ae-4fad-be44-f65d482d51b6",
   "metadata": {},
   "source": [
    "# Working with Group Layers"
   ]
  },
  {
   "cell_type": "markdown",
   "id": "4312edc2-c4df-4a71-90e5-84fb97943108",
   "metadata": {},
   "source": [
    "## Import Classes"
   ]
  },
  {
   "cell_type": "code",
   "execution_count": null,
   "id": "594dd4f4-1069-4b44-a8c9-a918d7f9fb4e",
   "metadata": {},
   "outputs": [],
   "source": [
    "from arcgis.gis import GIS\n",
    "from arcgis.map import Map"
   ]
  },
  {
   "cell_type": "code",
   "execution_count": null,
   "id": "e98f9bf6-2cbc-422b-952c-81e566290250",
   "metadata": {},
   "outputs": [],
   "source": [
    "gis = GIS(profile=\"your_online_profile\")"
   ]
  },
  {
   "cell_type": "code",
   "execution_count": null,
   "id": "85d0264a-e1ff-44e3-a5ea-976bad956a5a",
   "metadata": {},
   "outputs": [],
   "source": [
    "m = Map()\n",
    "m"
   ]
  },
  {
   "cell_type": "markdown",
   "id": "0b41f0e5-1152-4f43-b12e-940bdf138449",
   "metadata": {},
   "source": [
    "## Add a Group Layer\n",
    "\n",
    "You can either:\n",
    "- pass a list of layers to the add method\n",
    "- pass an Item instance that contains multiple layers"
   ]
  },
  {
   "cell_type": "code",
   "execution_count": null,
   "id": "b2f00686-b13b-489d-a8c3-73ba06e72d2f",
   "metadata": {},
   "outputs": [],
   "source": [
    "items = gis.content.search(\n",
    "    \"USA Airports, owner:esri_dm\", item_type=\"Feature Layer\", outside_org=True\n",
    ")\n",
    "items"
   ]
  },
  {
   "cell_type": "code",
   "execution_count": null,
   "id": "4bba5cb8-995d-4241-8d2a-431226cfbb78",
   "metadata": {},
   "outputs": [],
   "source": [
    "airport_item = items[0]\n",
    "airport_item.layers"
   ]
  },
  {
   "cell_type": "code",
   "execution_count": null,
   "id": "fc026d10-2108-41b4-984e-a68888b89dee",
   "metadata": {},
   "outputs": [],
   "source": [
    "m.content.add(airport_item)"
   ]
  },
  {
   "cell_type": "markdown",
   "id": "bf5e1754-d70e-496e-a224-ecf87e29528a",
   "metadata": {},
   "source": [
    "### Edit the Group Layer"
   ]
  },
  {
   "cell_type": "code",
   "execution_count": null,
   "id": "54637adb-8219-4bbf-b19d-c81e307e4681",
   "metadata": {},
   "outputs": [],
   "source": [
    "m.content.layers"
   ]
  },
  {
   "cell_type": "code",
   "execution_count": null,
   "id": "2749d371-83e0-48cb-aeec-4ce7cc7cd53d",
   "metadata": {},
   "outputs": [],
   "source": [
    "group = m.content.layers[0]\n",
    "group"
   ]
  },
  {
   "cell_type": "code",
   "execution_count": null,
   "id": "de16a9d9-6b1b-47bc-a776-c5a7444f554b",
   "metadata": {},
   "outputs": [],
   "source": [
    "group.title"
   ]
  },
  {
   "cell_type": "code",
   "execution_count": null,
   "id": "80df54e9-540b-4d9c-9ff6-cf9c1da29c13",
   "metadata": {},
   "outputs": [],
   "source": [
    "group.layers"
   ]
  },
  {
   "cell_type": "markdown",
   "id": "80ba697a-2574-4e47-99ec-6bcaff555945",
   "metadata": {},
   "source": [
    "#### We can `move` a layer out of the Group Layer:"
   ]
  },
  {
   "cell_type": "code",
   "execution_count": null,
   "id": "add84305-bbd1-46e0-9bf6-44cbde6863cd",
   "metadata": {},
   "outputs": [],
   "source": [
    "group.move(0)"
   ]
  },
  {
   "cell_type": "code",
   "execution_count": null,
   "id": "7f518b29-3a9a-433e-baca-493759e0602b",
   "metadata": {},
   "outputs": [],
   "source": [
    "# Notice layer 1 has moved\n",
    "group.layers"
   ]
  },
  {
   "cell_type": "code",
   "execution_count": null,
   "id": "11b333fd-0d36-4879-90e2-84f35c322ad6",
   "metadata": {},
   "outputs": [],
   "source": [
    "# The layer was moved as an individual layer on the map\n",
    "m.content.layers"
   ]
  },
  {
   "cell_type": "markdown",
   "id": "7495101c-6229-4a44-8013-5a2f4efaa24e",
   "metadata": {},
   "source": [
    "#### Access other classes through the Group"
   ]
  },
  {
   "cell_type": "code",
   "execution_count": null,
   "id": "17f5aeca-e36b-46e2-ba29-891c3f921588",
   "metadata": {},
   "outputs": [],
   "source": [
    "# Get the popup class for an individual layer in the Group\n",
    "group.popup(2)"
   ]
  },
  {
   "cell_type": "code",
   "execution_count": null,
   "id": "b848093a-fadf-4b7e-a37f-37650862782c",
   "metadata": {},
   "outputs": [],
   "source": [
    "group.layer_visibility(3)"
   ]
  },
  {
   "cell_type": "code",
   "execution_count": null,
   "id": "35b39e4b-eaf4-4f55-a840-3d2104631f60",
   "metadata": {},
   "outputs": [],
   "source": [
    "group.form(3)"
   ]
  },
  {
   "cell_type": "markdown",
   "id": "09624953-dc88-4774-a3d4-202db31fa529",
   "metadata": {},
   "source": [
    "#### Update a layer within the Group Layer"
   ]
  },
  {
   "cell_type": "markdown",
   "id": "8878cfe2-6a6b-41f5-96b6-586549638a7f",
   "metadata": {},
   "source": [
    "Create a Simple Renderer from the available dataclass"
   ]
  },
  {
   "cell_type": "code",
   "execution_count": null,
   "id": "7a21bff5-9af3-42f4-87e8-c53654e38fdf",
   "metadata": {},
   "outputs": [],
   "source": [
    "from arcgis.map.renderers import SimpleRenderer\n",
    "\n",
    "renderer = SimpleRenderer(\n",
    "    **{\n",
    "        \"type\": \"simple\",\n",
    "        \"symbol\": {\n",
    "            \"type\": \"esriPMS\",\n",
    "            \"url\": \"RedSphere.png\",\n",
    "            \"imageData\": \"{data}\",\n",
    "            \"contentType\": \"image/png\",\n",
    "            \"width\": 15,\n",
    "            \"height\": 15,\n",
    "        },\n",
    "    }\n",
    ")\n",
    "renderer.dict()"
   ]
  },
  {
   "cell_type": "code",
   "execution_count": null,
   "id": "3f4ad082-1a21-474f-b99c-b5e7607d93f5",
   "metadata": {},
   "outputs": [],
   "source": [
    "group.update_layer(0, renderer=renderer)"
   ]
  }
 ],
 "metadata": {
  "kernelspec": {
   "display_name": "Python 3 (ipykernel)",
   "language": "python",
   "name": "python3"
  },
  "language_info": {
   "codemirror_mode": {
    "name": "ipython",
    "version": 3
   },
   "file_extension": ".py",
   "mimetype": "text/x-python",
   "name": "python",
   "nbconvert_exporter": "python",
   "pygments_lexer": "ipython3",
   "version": "3.11.8"
  }
 },
 "nbformat": 4,
 "nbformat_minor": 5
}
