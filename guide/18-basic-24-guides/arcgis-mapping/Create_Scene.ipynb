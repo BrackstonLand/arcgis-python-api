{
 "cells": [
  {
   "cell_type": "markdown",
   "id": "06da9c1d-292e-4c73-ad29-b0c5b678f38d",
   "metadata": {},
   "source": [
    "# Creating a Scene"
   ]
  },
  {
   "cell_type": "markdown",
   "id": "01871f37-50f7-485e-99cd-687d14078931",
   "metadata": {},
   "source": [
    "## Import Classes"
   ]
  },
  {
   "cell_type": "code",
   "execution_count": null,
   "id": "8289ead3-be5e-4547-b50a-d832f2713c2e",
   "metadata": {},
   "outputs": [],
   "source": [
    "from arcgis.map import Scene\n",
    "from arcgis.gis import GIS"
   ]
  },
  {
   "cell_type": "code",
   "execution_count": null,
   "id": "49ba54a3-82e6-4c4b-b7e3-ca0d81db0c0f",
   "metadata": {},
   "outputs": [],
   "source": [
    "gis = GIS()"
   ]
  },
  {
   "cell_type": "markdown",
   "id": "a5553d46-75e1-4be0-8f71-8c3cc5e4cc52",
   "metadata": {},
   "source": [
    "## Create a new Scene instance"
   ]
  },
  {
   "cell_type": "code",
   "execution_count": null,
   "id": "6db4a199-5528-4c04-835c-faeeaf125b3f",
   "metadata": {},
   "outputs": [],
   "source": [
    "scene = Scene()\n",
    "scene"
   ]
  },
  {
   "cell_type": "markdown",
   "id": "d4214c81-e009-4a88-ac46-97a93b10e206",
   "metadata": {},
   "source": [
    "## Create a Scene from specific location"
   ]
  },
  {
   "cell_type": "code",
   "execution_count": null,
   "id": "0cb19276-ca1f-4cda-af34-798a1715de38",
   "metadata": {},
   "outputs": [],
   "source": [
    "scene2 = Scene(location=\"California\")\n",
    "scene2"
   ]
  },
  {
   "cell_type": "markdown",
   "id": "dae66bbf-0ce3-49a3-b01c-06cee343c20c",
   "metadata": {},
   "source": [
    "#### There are several traits connected to the Map. Whether you use the widgets on the rendered map or you set the properties through python code, they will stay in sync."
   ]
  },
  {
   "cell_type": "markdown",
   "id": "a22bbb8f-df4a-4076-ad01-e35cc31c73c8",
   "metadata": {},
   "source": [
    "Use the + / - buttons on the rendered Map and run the cell below to see the zoom value be updated"
   ]
  },
  {
   "cell_type": "code",
   "execution_count": null,
   "id": "179ceaf4-f40b-42bb-8fa2-4ab2a09f9219",
   "metadata": {},
   "outputs": [],
   "source": [
    "scene2.zoom"
   ]
  },
  {
   "cell_type": "code",
   "execution_count": null,
   "id": "a0cd5db4-1a2c-4796-9392-119cb7175f74",
   "metadata": {},
   "outputs": [],
   "source": [
    "scene2.zoom = 3"
   ]
  },
  {
   "cell_type": "markdown",
   "id": "78fbb960-2380-4d29-9a73-c4b12f05a785",
   "metadata": {},
   "source": [
    "Pan on the rendered Map and run the cell below to see the camera value be updated"
   ]
  },
  {
   "cell_type": "code",
   "execution_count": null,
   "id": "985692f3-b22c-48e6-bd76-2879233edcd4",
   "metadata": {},
   "outputs": [],
   "source": [
    "scene2.camera"
   ]
  },
  {
   "cell_type": "code",
   "execution_count": null,
   "id": "0efdc979-fdf2-401c-86c4-85920d7c1091",
   "metadata": {},
   "outputs": [],
   "source": [
    "scene2.camera = {\n",
    "    \"position\": {\n",
    "        \"spatialReference\": {\"latestWkid\": 3857, \"wkid\": 102100},\n",
    "        \"x\": 15080026.830367586,\n",
    "        \"y\": -2986482.2098096376,\n",
    "        \"z\": 5631605.57108984,\n",
    "    },\n",
    "    \"heading\": 359.9634121574681,\n",
    "    \"tilt\": 0.2655441288658469,\n",
    "}"
   ]
  },
  {
   "cell_type": "markdown",
   "id": "86c6dc2c-5ade-49cd-b614-9a6ea7dcbdf1",
   "metadata": {},
   "source": [
    "## Accessing Widgets"
   ]
  },
  {
   "cell_type": "markdown",
   "id": "5196fe5f-3d79-486c-97cd-012e40ce8553",
   "metadata": {},
   "source": [
    "### Create a Scene from existing Item"
   ]
  },
  {
   "cell_type": "code",
   "execution_count": null,
   "id": "1916d493-9c1d-4c2c-928a-4485df3952cd",
   "metadata": {},
   "outputs": [],
   "source": [
    "items = gis.content.search(\"owner:esri\", item_type=\"Web Scene\")\n",
    "items"
   ]
  },
  {
   "cell_type": "code",
   "execution_count": null,
   "id": "54465c34-52a0-43d4-ac64-4c286e16b8cd",
   "metadata": {},
   "outputs": [],
   "source": [
    "scene3 = Scene(item=items[1])\n",
    "scene3"
   ]
  },
  {
   "cell_type": "markdown",
   "id": "b6c20273-42cd-403f-a16c-3adc190adb42",
   "metadata": {},
   "source": [
    "#### After running the cells below, notice the widgets appear in the top right of the rendered Map"
   ]
  },
  {
   "cell_type": "code",
   "execution_count": null,
   "id": "43880680-1922-4790-94eb-60b006c050a8",
   "metadata": {},
   "outputs": [],
   "source": [
    "legend_manager = scene3.legend\n",
    "legend_manager.enabled = True"
   ]
  },
  {
   "cell_type": "code",
   "execution_count": null,
   "id": "84cdafc2-a6ec-4969-89d7-22de538e63c2",
   "metadata": {},
   "outputs": [],
   "source": [
    "layer_list = scene3.layer_list\n",
    "layer_list.enabled = True"
   ]
  },
  {
   "cell_type": "markdown",
   "id": "4d11a491-ae91-4734-a295-917369ff7cdc",
   "metadata": {},
   "source": [
    "##### Environment covers two widgets: Daylight and Weather\n",
    "You can see these appear in the bottom right"
   ]
  },
  {
   "cell_type": "code",
   "execution_count": null,
   "id": "f231e332-6701-4fe2-80c2-9cc8a6ac3aec",
   "metadata": {},
   "outputs": [],
   "source": [
    "env_manager = scene3.environment\n",
    "env_manager.daylight_enabled = True\n",
    "env_manager.weather_enabled = True"
   ]
  },
  {
   "cell_type": "markdown",
   "id": "052463d6-d659-47df-b34e-fca7689d21df",
   "metadata": {},
   "source": [
    "## Saving the Scene\n",
    "\n",
    "To save your scene you must be logged in to either ArcGIS Online or Enterprise"
   ]
  },
  {
   "cell_type": "code",
   "execution_count": null,
   "id": "bb78ce13-41ad-4322-9108-8ac657e9e358",
   "metadata": {},
   "outputs": [],
   "source": [
    "ago = GIS(profile=\"your_online_profile\")\n",
    "scene4 = Scene()\n",
    "scene4"
   ]
  },
  {
   "cell_type": "code",
   "execution_count": null,
   "id": "3cecdc40-e857-414e-87b3-cb2e85fb2e08",
   "metadata": {},
   "outputs": [],
   "source": [
    "scene4.save(\n",
    "    {\n",
    "        \"title\": \"My First Scene\",\n",
    "        \"snippet\": \"I created my first map through a Jupyter Lab Notebook using the Python API\",\n",
    "        \"tags\": [\"mapping\", \"python\"],\n",
    "    }\n",
    ")"
   ]
  }
 ],
 "metadata": {
  "kernelspec": {
   "display_name": "Python 3 (ipykernel)",
   "language": "python",
   "name": "python3"
  },
  "language_info": {
   "codemirror_mode": {
    "name": "ipython",
    "version": 3
   },
   "file_extension": ".py",
   "mimetype": "text/x-python",
   "name": "python",
   "nbconvert_exporter": "python",
   "pygments_lexer": "ipython3",
   "version": "3.11.8"
  }
 },
 "nbformat": 4,
 "nbformat_minor": 5
}
