{
 "cells": [
  {
   "cell_type": "markdown",
   "id": "c050f609-01bf-49e5-806a-75a169eb180d",
   "metadata": {},
   "source": [
    "# Sync Navigation"
   ]
  },
  {
   "cell_type": "markdown",
   "id": "f7c2cc37-ef5f-4194-9f34-a9b8b0343a84",
   "metadata": {},
   "source": [
    "## Import Classes"
   ]
  },
  {
   "cell_type": "code",
   "execution_count": null,
   "id": "6406e9f7-5f5c-4492-b2e6-fa7da14c6908",
   "metadata": {},
   "outputs": [],
   "source": [
    "from arcgis.map import Map\n",
    "from arcgis.gis import GIS\n",
    "\n",
    "gis = GIS(profile=\"your_online_profile\")"
   ]
  },
  {
   "cell_type": "markdown",
   "id": "c05445f8-d7b4-448e-8502-484f135b4f6b",
   "metadata": {},
   "source": [
    "## Create the two Maps we want to sync"
   ]
  },
  {
   "cell_type": "code",
   "execution_count": null,
   "id": "2ca45ee1-cbbc-4d58-9c97-c9ade2162e8f",
   "metadata": {},
   "outputs": [],
   "source": [
    "wm_item1 = gis.content.get(\"eaeb21078b35477eaa93596b270859a1\")\n",
    "wm_item2 = gis.content.get(\"3d717eaa25c34fd6baf2a8cf4b636994\")"
   ]
  },
  {
   "cell_type": "code",
   "execution_count": null,
   "id": "8d582d81-959a-4486-9b54-30837e5991dd",
   "metadata": {},
   "outputs": [],
   "source": [
    "map1 = Map(item=wm_item1)\n",
    "map1"
   ]
  },
  {
   "cell_type": "code",
   "execution_count": null,
   "id": "2c3983a7-8683-45fc-8baf-5f3941ff95e8",
   "metadata": {},
   "outputs": [],
   "source": [
    "map2 = Map(item=wm_item2)\n",
    "map2"
   ]
  },
  {
   "cell_type": "code",
   "execution_count": null,
   "id": "3dc161c8-7b54-4d46-bf94-9b367451f7e9",
   "metadata": {},
   "outputs": [],
   "source": [
    "map1.sync_navigation(map2)"
   ]
  },
  {
   "cell_type": "markdown",
   "id": "b42fddd9-b1a7-42f2-81b3-f4463d17ceee",
   "metadata": {},
   "source": [
    "## Pan on map1 to see map2 move as well! And vise-versa"
   ]
  },
  {
   "cell_type": "markdown",
   "id": "f16b2395-80fd-4cfa-904a-2f812db0c21a",
   "metadata": {},
   "source": [
    "#### You can unsync by using the unsync method on either"
   ]
  },
  {
   "cell_type": "code",
   "execution_count": null,
   "id": "8f6e81f8-7fc2-4017-b464-2681c972143e",
   "metadata": {},
   "outputs": [],
   "source": [
    "map2.unsync_navigation(map1)"
   ]
  },
  {
   "cell_type": "code",
   "execution_count": null,
   "id": "826ca55d-52a0-402f-a14d-810565581d74",
   "metadata": {},
   "outputs": [],
   "source": []
  }
 ],
 "metadata": {
  "kernelspec": {
   "display_name": "Python 3 (ipykernel)",
   "language": "python",
   "name": "python3"
  },
  "language_info": {
   "codemirror_mode": {
    "name": "ipython",
    "version": 3
   },
   "file_extension": ".py",
   "mimetype": "text/x-python",
   "name": "python",
   "nbconvert_exporter": "python",
   "pygments_lexer": "ipython3",
   "version": "3.11.8"
  }
 },
 "nbformat": 4,
 "nbformat_minor": 5
}
